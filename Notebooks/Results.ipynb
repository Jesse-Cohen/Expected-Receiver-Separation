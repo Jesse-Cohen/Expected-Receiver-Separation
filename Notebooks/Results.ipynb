{
 "cells": [
  {
   "cell_type": "code",
   "execution_count": 1,
   "metadata": {},
   "outputs": [],
   "source": [
    "# Data Manipulation Modules\n",
    "import pandas as pd\n",
    "import numpy as np\n",
    "import scipy as sp\n",
    "import numpy as np\n",
    "import math \n",
    "import scipy.stats as stats\n",
    "from collections import Counter\n",
    "\n",
    "# Visualizations\n",
    "import seaborn as sns\n",
    "import matplotlib.pyplot as plt\n",
    "import missingno as ms\n",
    "\n",
    "# Managing Warnings \n",
    "import warnings\n",
    "warnings.filterwarnings('ignore')"
   ]
  },
  {
   "cell_type": "code",
   "execution_count": 39,
   "metadata": {},
   "outputs": [],
   "source": [
    "#Final = pd.read_pickle(\"../data/Final.pkl\")\n",
    "Final = pd.read_pickle(\"../data/Final_5.pkl\")"
   ]
  },
  {
   "cell_type": "markdown",
   "metadata": {},
   "source": [
    "# Results!"
   ]
  },
  {
   "cell_type": "code",
   "execution_count": 145,
   "metadata": {},
   "outputs": [],
   "source": [
    "Stats = Final[['Season', 'Receiver', 'Nearest_Defender', 'Separation', 'Pred_Sep', 'TD', 'Pass Yds', 'INT', 'Cmp', 'Team', 'Air_Yds', 'Cushion']]\n",
    "Stats['Sep_Diff'] = Stats['Separation'] - Stats['Pred_Sep']"
   ]
  },
  {
   "cell_type": "code",
   "execution_count": 146,
   "metadata": {},
   "outputs": [],
   "source": [
    "COUNT_df = Stats.groupby(['Receiver', 'Season']).nunique()\n",
    "COUNT_df = COUNT_df.rename(columns = {'Separation':'Targets'})\n",
    "COUNT_df = COUNT_df[['Targets']]\n",
    "Final_df = Stats.merge(COUNT_df, on = ['Receiver', 'Season'])"
   ]
  },
  {
   "cell_type": "markdown",
   "metadata": {},
   "source": [
    "### Year over Year stability of Separation Differential\n",
    "\n",
    "Below is a table showing how correlated a receivers average Separation Differential is year-over-year. Turns out, among receievers with at least 70 targets in each of the last 3 years, there is a low, but non-zero correlation between those figures over three seasons. Considering the variable nature of separation, this is to be expected, but I would be worth looking into why these correlation values aren't more stable year over year."
   ]
  },
  {
   "cell_type": "code",
   "execution_count": 147,
   "metadata": {},
   "outputs": [
    {
     "data": {
      "text/html": [
       "<div>\n",
       "<style scoped>\n",
       "    .dataframe tbody tr th:only-of-type {\n",
       "        vertical-align: middle;\n",
       "    }\n",
       "\n",
       "    .dataframe tbody tr th {\n",
       "        vertical-align: top;\n",
       "    }\n",
       "\n",
       "    .dataframe thead th {\n",
       "        text-align: right;\n",
       "    }\n",
       "</style>\n",
       "<table border=\"1\" class=\"dataframe\">\n",
       "  <thead>\n",
       "    <tr style=\"text-align: right;\">\n",
       "      <th>Season</th>\n",
       "      <th>2017</th>\n",
       "      <th>2018</th>\n",
       "      <th>2019</th>\n",
       "    </tr>\n",
       "    <tr>\n",
       "      <th>Season</th>\n",
       "      <th></th>\n",
       "      <th></th>\n",
       "      <th></th>\n",
       "    </tr>\n",
       "  </thead>\n",
       "  <tbody>\n",
       "    <tr>\n",
       "      <th>2017</th>\n",
       "      <td>1.000</td>\n",
       "      <td>0.338</td>\n",
       "      <td>0.29</td>\n",
       "    </tr>\n",
       "    <tr>\n",
       "      <th>2018</th>\n",
       "      <td>0.338</td>\n",
       "      <td>1.000</td>\n",
       "      <td>0.45</td>\n",
       "    </tr>\n",
       "    <tr>\n",
       "      <th>2019</th>\n",
       "      <td>0.290</td>\n",
       "      <td>0.450</td>\n",
       "      <td>1.00</td>\n",
       "    </tr>\n",
       "  </tbody>\n",
       "</table>\n",
       "</div>"
      ],
      "text/plain": [
       "Season   2017   2018  2019\n",
       "Season                    \n",
       "2017    1.000  0.338  0.29\n",
       "2018    0.338  1.000  0.45\n",
       "2019    0.290  0.450  1.00"
      ]
     },
     "execution_count": 147,
     "metadata": {},
     "output_type": "execute_result"
    }
   ],
   "source": [
    "YoY = Final_df[Final_df['Targets'] >= 70]\n",
    "YoY = YoY.groupby(['Receiver', 'Season'])[['Separation', 'Pred_Sep', 'Sep_Diff']].mean()\n",
    "YoY = pd.pivot_table(YoY, values='Sep_Diff',index='Receiver', columns=['Season']).corr().round(3)\n",
    "YoY"
   ]
  },
  {
   "cell_type": "markdown",
   "metadata": {},
   "source": [
    "### How do the players stack up?"
   ]
  },
  {
   "cell_type": "code",
   "execution_count": 148,
   "metadata": {},
   "outputs": [],
   "source": [
    "Season = Final_df[['Receiver', 'Separation', 'Pred_Sep', 'Sep_Diff', 'Season', 'Targets']]\n",
    "Season = Season.groupby(['Receiver', 'Season']).mean().reset_index().round(2)"
   ]
  },
  {
   "cell_type": "code",
   "execution_count": 149,
   "metadata": {},
   "outputs": [],
   "source": [
    "#Create df since 2017\n",
    "\n",
    "Since17 = Stats[['Receiver', 'Separation', 'Pred_Sep', 'Sep_Diff']]\n",
    "Since17_df = Since17.groupby(['Receiver']).mean().reset_index().round(2)\n",
    "COUNT = Stats.groupby(['Receiver']).nunique()\n",
    "COUNT = COUNT.rename(columns = {'Separation':'Targets'})\n",
    "COUNT_1 = COUNT[['Targets']]\n",
    "Since17_df = Since17_df.merge(COUNT_1, on = ['Receiver'])"
   ]
  },
  {
   "cell_type": "markdown",
   "metadata": {},
   "source": [
    "## Top 10 Highest Average Separation Above Expectation since 2017"
   ]
  },
  {
   "cell_type": "code",
   "execution_count": 150,
   "metadata": {},
   "outputs": [
    {
     "data": {
      "text/html": [
       "<div>\n",
       "<style scoped>\n",
       "    .dataframe tbody tr th:only-of-type {\n",
       "        vertical-align: middle;\n",
       "    }\n",
       "\n",
       "    .dataframe tbody tr th {\n",
       "        vertical-align: top;\n",
       "    }\n",
       "\n",
       "    .dataframe thead th {\n",
       "        text-align: right;\n",
       "    }\n",
       "</style>\n",
       "<table border=\"1\" class=\"dataframe\">\n",
       "  <thead>\n",
       "    <tr style=\"text-align: right;\">\n",
       "      <th></th>\n",
       "      <th>Receiver</th>\n",
       "      <th>Separation</th>\n",
       "      <th>Pred_Sep</th>\n",
       "      <th>Sep_Diff</th>\n",
       "      <th>Targets</th>\n",
       "    </tr>\n",
       "  </thead>\n",
       "  <tbody>\n",
       "    <tr>\n",
       "      <th>584</th>\n",
       "      <td>Sammy Watkins</td>\n",
       "      <td>2.96</td>\n",
       "      <td>2.55</td>\n",
       "      <td>0.42</td>\n",
       "      <td>253</td>\n",
       "    </tr>\n",
       "    <tr>\n",
       "      <th>666</th>\n",
       "      <td>Tyreek Hill</td>\n",
       "      <td>3.26</td>\n",
       "      <td>2.87</td>\n",
       "      <td>0.38</td>\n",
       "      <td>373</td>\n",
       "    </tr>\n",
       "    <tr>\n",
       "      <th>679</th>\n",
       "      <td>Will Fuller</td>\n",
       "      <td>2.95</td>\n",
       "      <td>2.59</td>\n",
       "      <td>0.36</td>\n",
       "      <td>174</td>\n",
       "    </tr>\n",
       "    <tr>\n",
       "      <th>180</th>\n",
       "      <td>Davante Adams</td>\n",
       "      <td>3.04</td>\n",
       "      <td>2.69</td>\n",
       "      <td>0.35</td>\n",
       "      <td>432</td>\n",
       "    </tr>\n",
       "    <tr>\n",
       "      <th>623</th>\n",
       "      <td>Ted Ginn</td>\n",
       "      <td>3.02</td>\n",
       "      <td>2.73</td>\n",
       "      <td>0.29</td>\n",
       "      <td>188</td>\n",
       "    </tr>\n",
       "    <tr>\n",
       "      <th>138</th>\n",
       "      <td>Cooper Kupp</td>\n",
       "      <td>3.34</td>\n",
       "      <td>3.08</td>\n",
       "      <td>0.26</td>\n",
       "      <td>296</td>\n",
       "    </tr>\n",
       "    <tr>\n",
       "      <th>195</th>\n",
       "      <td>DeSean Jackson</td>\n",
       "      <td>2.77</td>\n",
       "      <td>2.51</td>\n",
       "      <td>0.26</td>\n",
       "      <td>172</td>\n",
       "    </tr>\n",
       "    <tr>\n",
       "      <th>94</th>\n",
       "      <td>Calvin Ridley</td>\n",
       "      <td>3.02</td>\n",
       "      <td>2.78</td>\n",
       "      <td>0.24</td>\n",
       "      <td>184</td>\n",
       "    </tr>\n",
       "    <tr>\n",
       "      <th>25</th>\n",
       "      <td>Amari Cooper</td>\n",
       "      <td>2.76</td>\n",
       "      <td>2.55</td>\n",
       "      <td>0.22</td>\n",
       "      <td>336</td>\n",
       "    </tr>\n",
       "    <tr>\n",
       "      <th>665</th>\n",
       "      <td>Tyler Lockett</td>\n",
       "      <td>3.11</td>\n",
       "      <td>2.90</td>\n",
       "      <td>0.22</td>\n",
       "      <td>270</td>\n",
       "    </tr>\n",
       "  </tbody>\n",
       "</table>\n",
       "</div>"
      ],
      "text/plain": [
       "           Receiver  Separation  Pred_Sep  Sep_Diff  Targets\n",
       "584   Sammy Watkins        2.96      2.55      0.42      253\n",
       "666     Tyreek Hill        3.26      2.87      0.38      373\n",
       "679     Will Fuller        2.95      2.59      0.36      174\n",
       "180   Davante Adams        3.04      2.69      0.35      432\n",
       "623        Ted Ginn        3.02      2.73      0.29      188\n",
       "138     Cooper Kupp        3.34      3.08      0.26      296\n",
       "195  DeSean Jackson        2.77      2.51      0.26      172\n",
       "94    Calvin Ridley        3.02      2.78      0.24      184\n",
       "25     Amari Cooper        2.76      2.55      0.22      336\n",
       "665   Tyler Lockett        3.11      2.90      0.22      270"
      ]
     },
     "execution_count": 150,
     "metadata": {},
     "output_type": "execute_result"
    }
   ],
   "source": [
    "Career = Since17_df[Since17_df['Targets'] > 170].sort_values(['Sep_Diff'], ascending = False)\n",
    "Career.head(10)"
   ]
  },
  {
   "cell_type": "markdown",
   "metadata": {},
   "source": [
    "## Top 10 Lowest Average Separation Above Expectation"
   ]
  },
  {
   "cell_type": "code",
   "execution_count": 151,
   "metadata": {},
   "outputs": [
    {
     "data": {
      "text/html": [
       "<div>\n",
       "<style scoped>\n",
       "    .dataframe tbody tr th:only-of-type {\n",
       "        vertical-align: middle;\n",
       "    }\n",
       "\n",
       "    .dataframe tbody tr th {\n",
       "        vertical-align: top;\n",
       "    }\n",
       "\n",
       "    .dataframe thead th {\n",
       "        text-align: right;\n",
       "    }\n",
       "</style>\n",
       "<table border=\"1\" class=\"dataframe\">\n",
       "  <thead>\n",
       "    <tr style=\"text-align: right;\">\n",
       "      <th></th>\n",
       "      <th>Receiver</th>\n",
       "      <th>Separation</th>\n",
       "      <th>Pred_Sep</th>\n",
       "      <th>Sep_Diff</th>\n",
       "      <th>Targets</th>\n",
       "    </tr>\n",
       "  </thead>\n",
       "  <tbody>\n",
       "    <tr>\n",
       "      <th>264</th>\n",
       "      <td>Golden Tate</td>\n",
       "      <td>2.66</td>\n",
       "      <td>3.17</td>\n",
       "      <td>-0.51</td>\n",
       "      <td>324</td>\n",
       "    </tr>\n",
       "    <tr>\n",
       "      <th>98</th>\n",
       "      <td>Cameron Brate</td>\n",
       "      <td>2.61</td>\n",
       "      <td>3.02</td>\n",
       "      <td>-0.41</td>\n",
       "      <td>175</td>\n",
       "    </tr>\n",
       "    <tr>\n",
       "      <th>429</th>\n",
       "      <td>Larry Fitzgerald</td>\n",
       "      <td>2.60</td>\n",
       "      <td>3.00</td>\n",
       "      <td>-0.40</td>\n",
       "      <td>378</td>\n",
       "    </tr>\n",
       "    <tr>\n",
       "      <th>561</th>\n",
       "      <td>Rob Gronkowski</td>\n",
       "      <td>2.39</td>\n",
       "      <td>2.74</td>\n",
       "      <td>-0.35</td>\n",
       "      <td>209</td>\n",
       "    </tr>\n",
       "    <tr>\n",
       "      <th>21</th>\n",
       "      <td>Allen Robinson</td>\n",
       "      <td>2.14</td>\n",
       "      <td>2.45</td>\n",
       "      <td>-0.31</td>\n",
       "      <td>260</td>\n",
       "    </tr>\n",
       "    <tr>\n",
       "      <th>499</th>\n",
       "      <td>Mike Williams</td>\n",
       "      <td>1.95</td>\n",
       "      <td>2.20</td>\n",
       "      <td>-0.25</td>\n",
       "      <td>194</td>\n",
       "    </tr>\n",
       "    <tr>\n",
       "      <th>320</th>\n",
       "      <td>Jared Cook</td>\n",
       "      <td>2.75</td>\n",
       "      <td>3.00</td>\n",
       "      <td>-0.25</td>\n",
       "      <td>254</td>\n",
       "    </tr>\n",
       "    <tr>\n",
       "      <th>196</th>\n",
       "      <td>DeVante Parker</td>\n",
       "      <td>2.22</td>\n",
       "      <td>2.46</td>\n",
       "      <td>-0.24</td>\n",
       "      <td>267</td>\n",
       "    </tr>\n",
       "    <tr>\n",
       "      <th>413</th>\n",
       "      <td>Kenny Golladay</td>\n",
       "      <td>2.12</td>\n",
       "      <td>2.35</td>\n",
       "      <td>-0.23</td>\n",
       "      <td>273</td>\n",
       "    </tr>\n",
       "    <tr>\n",
       "      <th>469</th>\n",
       "      <td>Marvin Jones</td>\n",
       "      <td>2.14</td>\n",
       "      <td>2.31</td>\n",
       "      <td>-0.17</td>\n",
       "      <td>258</td>\n",
       "    </tr>\n",
       "  </tbody>\n",
       "</table>\n",
       "</div>"
      ],
      "text/plain": [
       "             Receiver  Separation  Pred_Sep  Sep_Diff  Targets\n",
       "264       Golden Tate        2.66      3.17     -0.51      324\n",
       "98      Cameron Brate        2.61      3.02     -0.41      175\n",
       "429  Larry Fitzgerald        2.60      3.00     -0.40      378\n",
       "561    Rob Gronkowski        2.39      2.74     -0.35      209\n",
       "21     Allen Robinson        2.14      2.45     -0.31      260\n",
       "499     Mike Williams        1.95      2.20     -0.25      194\n",
       "320        Jared Cook        2.75      3.00     -0.25      254\n",
       "196    DeVante Parker        2.22      2.46     -0.24      267\n",
       "413    Kenny Golladay        2.12      2.35     -0.23      273\n",
       "469      Marvin Jones        2.14      2.31     -0.17      258"
      ]
     },
     "execution_count": 151,
     "metadata": {},
     "output_type": "execute_result"
    }
   ],
   "source": [
    "Career.sort_values(['Sep_Diff'], ascending = True).head(10)"
   ]
  },
  {
   "cell_type": "markdown",
   "metadata": {},
   "source": [
    "## 2019 Only"
   ]
  },
  {
   "cell_type": "code",
   "execution_count": 152,
   "metadata": {},
   "outputs": [
    {
     "data": {
      "text/html": [
       "<div>\n",
       "<style scoped>\n",
       "    .dataframe tbody tr th:only-of-type {\n",
       "        vertical-align: middle;\n",
       "    }\n",
       "\n",
       "    .dataframe tbody tr th {\n",
       "        vertical-align: top;\n",
       "    }\n",
       "\n",
       "    .dataframe thead th {\n",
       "        text-align: right;\n",
       "    }\n",
       "</style>\n",
       "<table border=\"1\" class=\"dataframe\">\n",
       "  <thead>\n",
       "    <tr style=\"text-align: right;\">\n",
       "      <th></th>\n",
       "      <th>Receiver</th>\n",
       "      <th>Season</th>\n",
       "      <th>Separation</th>\n",
       "      <th>Pred_Sep</th>\n",
       "      <th>Sep_Diff</th>\n",
       "      <th>Targets</th>\n",
       "    </tr>\n",
       "  </thead>\n",
       "  <tbody>\n",
       "    <tr>\n",
       "      <th>0</th>\n",
       "      <td>Davante Adams</td>\n",
       "      <td>2019</td>\n",
       "      <td>3.31</td>\n",
       "      <td>2.75</td>\n",
       "      <td>0.55</td>\n",
       "      <td>149</td>\n",
       "    </tr>\n",
       "    <tr>\n",
       "      <th>1</th>\n",
       "      <td>Diontae Johnson</td>\n",
       "      <td>2019</td>\n",
       "      <td>3.62</td>\n",
       "      <td>3.10</td>\n",
       "      <td>0.52</td>\n",
       "      <td>92</td>\n",
       "    </tr>\n",
       "    <tr>\n",
       "      <th>2</th>\n",
       "      <td>Tyler Higbee</td>\n",
       "      <td>2019</td>\n",
       "      <td>3.70</td>\n",
       "      <td>3.24</td>\n",
       "      <td>0.46</td>\n",
       "      <td>88</td>\n",
       "    </tr>\n",
       "    <tr>\n",
       "      <th>3</th>\n",
       "      <td>Tyreek Hill</td>\n",
       "      <td>2019</td>\n",
       "      <td>3.23</td>\n",
       "      <td>2.77</td>\n",
       "      <td>0.46</td>\n",
       "      <td>114</td>\n",
       "    </tr>\n",
       "    <tr>\n",
       "      <th>4</th>\n",
       "      <td>Christian Kirk</td>\n",
       "      <td>2019</td>\n",
       "      <td>3.48</td>\n",
       "      <td>3.07</td>\n",
       "      <td>0.41</td>\n",
       "      <td>106</td>\n",
       "    </tr>\n",
       "    <tr>\n",
       "      <th>5</th>\n",
       "      <td>Travis Kelce</td>\n",
       "      <td>2019</td>\n",
       "      <td>3.02</td>\n",
       "      <td>2.68</td>\n",
       "      <td>0.34</td>\n",
       "      <td>157</td>\n",
       "    </tr>\n",
       "    <tr>\n",
       "      <th>6</th>\n",
       "      <td>Sammy Watkins</td>\n",
       "      <td>2019</td>\n",
       "      <td>3.03</td>\n",
       "      <td>2.76</td>\n",
       "      <td>0.28</td>\n",
       "      <td>108</td>\n",
       "    </tr>\n",
       "    <tr>\n",
       "      <th>7</th>\n",
       "      <td>John Brown</td>\n",
       "      <td>2019</td>\n",
       "      <td>2.47</td>\n",
       "      <td>2.24</td>\n",
       "      <td>0.23</td>\n",
       "      <td>123</td>\n",
       "    </tr>\n",
       "    <tr>\n",
       "      <th>8</th>\n",
       "      <td>Tyler Lockett</td>\n",
       "      <td>2019</td>\n",
       "      <td>3.13</td>\n",
       "      <td>2.90</td>\n",
       "      <td>0.23</td>\n",
       "      <td>126</td>\n",
       "    </tr>\n",
       "    <tr>\n",
       "      <th>9</th>\n",
       "      <td>Cooper Kupp</td>\n",
       "      <td>2019</td>\n",
       "      <td>3.39</td>\n",
       "      <td>3.17</td>\n",
       "      <td>0.21</td>\n",
       "      <td>134</td>\n",
       "    </tr>\n",
       "  </tbody>\n",
       "</table>\n",
       "</div>"
      ],
      "text/plain": [
       "          Receiver  Season  Separation  Pred_Sep  Sep_Diff  Targets\n",
       "0    Davante Adams    2019        3.31      2.75      0.55      149\n",
       "1  Diontae Johnson    2019        3.62      3.10      0.52       92\n",
       "2     Tyler Higbee    2019        3.70      3.24      0.46       88\n",
       "3      Tyreek Hill    2019        3.23      2.77      0.46      114\n",
       "4   Christian Kirk    2019        3.48      3.07      0.41      106\n",
       "5     Travis Kelce    2019        3.02      2.68      0.34      157\n",
       "6    Sammy Watkins    2019        3.03      2.76      0.28      108\n",
       "7       John Brown    2019        2.47      2.24      0.23      123\n",
       "8    Tyler Lockett    2019        3.13      2.90      0.23      126\n",
       "9      Cooper Kupp    2019        3.39      3.17      0.21      134"
      ]
     },
     "execution_count": 152,
     "metadata": {},
     "output_type": "execute_result"
    }
   ],
   "source": [
    "df_2019 = Season[(Season['Targets'] > 85) & (Season['Season'] == 2019)].sort_values(['Sep_Diff'], ascending = False).reset_index(drop = True)\n",
    "df_2019.head(10)"
   ]
  },
  {
   "cell_type": "code",
   "execution_count": 153,
   "metadata": {},
   "outputs": [
    {
     "data": {
      "text/html": [
       "<div>\n",
       "<style scoped>\n",
       "    .dataframe tbody tr th:only-of-type {\n",
       "        vertical-align: middle;\n",
       "    }\n",
       "\n",
       "    .dataframe tbody tr th {\n",
       "        vertical-align: top;\n",
       "    }\n",
       "\n",
       "    .dataframe thead th {\n",
       "        text-align: right;\n",
       "    }\n",
       "</style>\n",
       "<table border=\"1\" class=\"dataframe\">\n",
       "  <thead>\n",
       "    <tr style=\"text-align: right;\">\n",
       "      <th></th>\n",
       "      <th>Receiver</th>\n",
       "      <th>Season</th>\n",
       "      <th>Separation</th>\n",
       "      <th>Pred_Sep</th>\n",
       "      <th>Sep_Diff</th>\n",
       "      <th>Targets</th>\n",
       "    </tr>\n",
       "  </thead>\n",
       "  <tbody>\n",
       "    <tr>\n",
       "      <th>53</th>\n",
       "      <td>Marvin Jones</td>\n",
       "      <td>2019</td>\n",
       "      <td>2.09</td>\n",
       "      <td>2.55</td>\n",
       "      <td>-0.47</td>\n",
       "      <td>91</td>\n",
       "    </tr>\n",
       "    <tr>\n",
       "      <th>52</th>\n",
       "      <td>Mike Gesicki</td>\n",
       "      <td>2019</td>\n",
       "      <td>2.62</td>\n",
       "      <td>3.03</td>\n",
       "      <td>-0.41</td>\n",
       "      <td>89</td>\n",
       "    </tr>\n",
       "    <tr>\n",
       "      <th>51</th>\n",
       "      <td>Julio Jones</td>\n",
       "      <td>2019</td>\n",
       "      <td>2.16</td>\n",
       "      <td>2.48</td>\n",
       "      <td>-0.31</td>\n",
       "      <td>156</td>\n",
       "    </tr>\n",
       "    <tr>\n",
       "      <th>50</th>\n",
       "      <td>Kenny Golladay</td>\n",
       "      <td>2019</td>\n",
       "      <td>1.95</td>\n",
       "      <td>2.22</td>\n",
       "      <td>-0.27</td>\n",
       "      <td>113</td>\n",
       "    </tr>\n",
       "    <tr>\n",
       "      <th>49</th>\n",
       "      <td>DeVante Parker</td>\n",
       "      <td>2019</td>\n",
       "      <td>2.03</td>\n",
       "      <td>2.29</td>\n",
       "      <td>-0.26</td>\n",
       "      <td>126</td>\n",
       "    </tr>\n",
       "  </tbody>\n",
       "</table>\n",
       "</div>"
      ],
      "text/plain": [
       "          Receiver  Season  Separation  Pred_Sep  Sep_Diff  Targets\n",
       "53    Marvin Jones    2019        2.09      2.55     -0.47       91\n",
       "52    Mike Gesicki    2019        2.62      3.03     -0.41       89\n",
       "51     Julio Jones    2019        2.16      2.48     -0.31      156\n",
       "50  Kenny Golladay    2019        1.95      2.22     -0.27      113\n",
       "49  DeVante Parker    2019        2.03      2.29     -0.26      126"
      ]
     },
     "execution_count": 153,
     "metadata": {},
     "output_type": "execute_result"
    }
   ],
   "source": [
    "df_2019.sort_values(['Sep_Diff'], ascending = True).head(5)"
   ]
  },
  {
   "cell_type": "markdown",
   "metadata": {},
   "source": [
    "# Exceptional Separation Rate\n",
    "\n",
    "'Exceptional Separation Rate' that tallies all the instances where a receiver exceeds their predicted separation, and divide that by their total targets to see how often they are exceeding expectations. This metric will be **less prone to outliers**."
   ]
  },
  {
   "cell_type": "code",
   "execution_count": 239,
   "metadata": {},
   "outputs": [
    {
     "data": {
      "text/html": [
       "<div>\n",
       "<style scoped>\n",
       "    .dataframe tbody tr th:only-of-type {\n",
       "        vertical-align: middle;\n",
       "    }\n",
       "\n",
       "    .dataframe tbody tr th {\n",
       "        vertical-align: top;\n",
       "    }\n",
       "\n",
       "    .dataframe thead th {\n",
       "        text-align: right;\n",
       "    }\n",
       "</style>\n",
       "<table border=\"1\" class=\"dataframe\">\n",
       "  <thead>\n",
       "    <tr style=\"text-align: right;\">\n",
       "      <th></th>\n",
       "      <th>Receiver</th>\n",
       "      <th>ES</th>\n",
       "      <th>Targets</th>\n",
       "      <th>Sep_Diff</th>\n",
       "      <th>Separation</th>\n",
       "      <th>Pred_Sep</th>\n",
       "      <th>Pass Yds</th>\n",
       "      <th>Air_Yds</th>\n",
       "      <th>Cmp</th>\n",
       "      <th>Cushion</th>\n",
       "    </tr>\n",
       "  </thead>\n",
       "  <tbody>\n",
       "    <tr>\n",
       "      <th>0</th>\n",
       "      <td>Ted Ginn</td>\n",
       "      <td>53.2</td>\n",
       "      <td>188.0</td>\n",
       "      <td>0.287</td>\n",
       "      <td>3.016</td>\n",
       "      <td>2.729</td>\n",
       "      <td>9.170</td>\n",
       "      <td>14.713</td>\n",
       "      <td>0.633</td>\n",
       "      <td>7.006</td>\n",
       "    </tr>\n",
       "    <tr>\n",
       "      <th>1</th>\n",
       "      <td>Davante Adams</td>\n",
       "      <td>52.4</td>\n",
       "      <td>432.0</td>\n",
       "      <td>0.349</td>\n",
       "      <td>3.037</td>\n",
       "      <td>2.688</td>\n",
       "      <td>8.236</td>\n",
       "      <td>10.370</td>\n",
       "      <td>0.658</td>\n",
       "      <td>5.295</td>\n",
       "    </tr>\n",
       "    <tr>\n",
       "      <th>2</th>\n",
       "      <td>Sammy Watkins</td>\n",
       "      <td>52.2</td>\n",
       "      <td>253.0</td>\n",
       "      <td>0.416</td>\n",
       "      <td>2.964</td>\n",
       "      <td>2.548</td>\n",
       "      <td>8.980</td>\n",
       "      <td>11.251</td>\n",
       "      <td>0.617</td>\n",
       "      <td>5.233</td>\n",
       "    </tr>\n",
       "    <tr>\n",
       "      <th>3</th>\n",
       "      <td>Tyreek Hill</td>\n",
       "      <td>51.2</td>\n",
       "      <td>373.0</td>\n",
       "      <td>0.383</td>\n",
       "      <td>3.258</td>\n",
       "      <td>2.874</td>\n",
       "      <td>10.211</td>\n",
       "      <td>13.119</td>\n",
       "      <td>0.651</td>\n",
       "      <td>6.184</td>\n",
       "    </tr>\n",
       "    <tr>\n",
       "      <th>4</th>\n",
       "      <td>DeSean Jackson</td>\n",
       "      <td>49.7</td>\n",
       "      <td>172.0</td>\n",
       "      <td>0.257</td>\n",
       "      <td>2.767</td>\n",
       "      <td>2.509</td>\n",
       "      <td>9.249</td>\n",
       "      <td>17.222</td>\n",
       "      <td>0.572</td>\n",
       "      <td>7.275</td>\n",
       "    </tr>\n",
       "    <tr>\n",
       "      <th>5</th>\n",
       "      <td>Calvin Ridley</td>\n",
       "      <td>49.5</td>\n",
       "      <td>184.0</td>\n",
       "      <td>0.237</td>\n",
       "      <td>3.021</td>\n",
       "      <td>2.783</td>\n",
       "      <td>9.109</td>\n",
       "      <td>11.823</td>\n",
       "      <td>0.685</td>\n",
       "      <td>6.856</td>\n",
       "    </tr>\n",
       "    <tr>\n",
       "      <th>6</th>\n",
       "      <td>Christian Kirk</td>\n",
       "      <td>49.4</td>\n",
       "      <td>174.0</td>\n",
       "      <td>0.119</td>\n",
       "      <td>3.180</td>\n",
       "      <td>3.061</td>\n",
       "      <td>7.466</td>\n",
       "      <td>9.279</td>\n",
       "      <td>0.638</td>\n",
       "      <td>6.078</td>\n",
       "    </tr>\n",
       "    <tr>\n",
       "      <th>7</th>\n",
       "      <td>Cooper Kupp</td>\n",
       "      <td>49.3</td>\n",
       "      <td>296.0</td>\n",
       "      <td>0.260</td>\n",
       "      <td>3.343</td>\n",
       "      <td>3.082</td>\n",
       "      <td>9.047</td>\n",
       "      <td>8.171</td>\n",
       "      <td>0.689</td>\n",
       "      <td>6.755</td>\n",
       "    </tr>\n",
       "    <tr>\n",
       "      <th>8</th>\n",
       "      <td>Will Fuller</td>\n",
       "      <td>48.9</td>\n",
       "      <td>174.0</td>\n",
       "      <td>0.357</td>\n",
       "      <td>2.950</td>\n",
       "      <td>2.593</td>\n",
       "      <td>9.684</td>\n",
       "      <td>14.515</td>\n",
       "      <td>0.655</td>\n",
       "      <td>5.464</td>\n",
       "    </tr>\n",
       "    <tr>\n",
       "      <th>9</th>\n",
       "      <td>Keelan Cole</td>\n",
       "      <td>46.6</td>\n",
       "      <td>192.0</td>\n",
       "      <td>0.126</td>\n",
       "      <td>2.862</td>\n",
       "      <td>2.736</td>\n",
       "      <td>8.715</td>\n",
       "      <td>11.403</td>\n",
       "      <td>0.554</td>\n",
       "      <td>6.296</td>\n",
       "    </tr>\n",
       "  </tbody>\n",
       "</table>\n",
       "</div>"
      ],
      "text/plain": [
       "         Receiver    ES  Targets  Sep_Diff  Separation  Pred_Sep  Pass Yds  \\\n",
       "0        Ted Ginn  53.2    188.0     0.287       3.016     2.729     9.170   \n",
       "1   Davante Adams  52.4    432.0     0.349       3.037     2.688     8.236   \n",
       "2   Sammy Watkins  52.2    253.0     0.416       2.964     2.548     8.980   \n",
       "3     Tyreek Hill  51.2    373.0     0.383       3.258     2.874    10.211   \n",
       "4  DeSean Jackson  49.7    172.0     0.257       2.767     2.509     9.249   \n",
       "5   Calvin Ridley  49.5    184.0     0.237       3.021     2.783     9.109   \n",
       "6  Christian Kirk  49.4    174.0     0.119       3.180     3.061     7.466   \n",
       "7     Cooper Kupp  49.3    296.0     0.260       3.343     3.082     9.047   \n",
       "8     Will Fuller  48.9    174.0     0.357       2.950     2.593     9.684   \n",
       "9     Keelan Cole  46.6    192.0     0.126       2.862     2.736     8.715   \n",
       "\n",
       "   Air_Yds    Cmp  Cushion  \n",
       "0   14.713  0.633    7.006  \n",
       "1   10.370  0.658    5.295  \n",
       "2   11.251  0.617    5.233  \n",
       "3   13.119  0.651    6.184  \n",
       "4   17.222  0.572    7.275  \n",
       "5   11.823  0.685    6.856  \n",
       "6    9.279  0.638    6.078  \n",
       "7    8.171  0.689    6.755  \n",
       "8   14.515  0.655    5.464  \n",
       "9   11.403  0.554    6.296  "
      ]
     },
     "execution_count": 239,
     "metadata": {},
     "output_type": "execute_result"
    }
   ],
   "source": [
    "Final_ES = Stats.copy()\n",
    "Final_ES['ES'] = 0\n",
    "Final_ES['ES'].loc[Final_ES['Sep_Diff']> 0] = 1\n",
    "Final_ES = Final_ES.merge(COUNT_1, on = ['Receiver'])\n",
    "Final_ES = Final_ES[['Receiver', 'ES', 'Targets', 'Sep_Diff', 'Separation', 'Pred_Sep', 'Pass Yds', 'Air_Yds', 'Cmp', 'Cushion']]\n",
    "Final_ES = Final_ES.groupby(['Receiver']).mean().round(3)\n",
    "Final_ES['ES'] = (Final_ES['ES']*100).round(3)\n",
    "Final_ES = Final_ES[Final_ES['Targets'] >= 170]\n",
    "Final_ES = Final_ES.sort_values(['ES'], ascending = False).reset_index()\n",
    "Final_ES.head(10)"
   ]
  },
  {
   "cell_type": "code",
   "execution_count": 240,
   "metadata": {},
   "outputs": [
    {
     "data": {
      "text/html": [
       "<div>\n",
       "<style scoped>\n",
       "    .dataframe tbody tr th:only-of-type {\n",
       "        vertical-align: middle;\n",
       "    }\n",
       "\n",
       "    .dataframe tbody tr th {\n",
       "        vertical-align: top;\n",
       "    }\n",
       "\n",
       "    .dataframe thead th {\n",
       "        text-align: right;\n",
       "    }\n",
       "</style>\n",
       "<table border=\"1\" class=\"dataframe\">\n",
       "  <thead>\n",
       "    <tr style=\"text-align: right;\">\n",
       "      <th></th>\n",
       "      <th>Receiver</th>\n",
       "      <th>ES</th>\n",
       "      <th>Targets</th>\n",
       "      <th>Sep_Diff</th>\n",
       "      <th>Separation</th>\n",
       "      <th>Pred_Sep</th>\n",
       "      <th>Pass Yds</th>\n",
       "      <th>Air_Yds</th>\n",
       "      <th>Cmp</th>\n",
       "      <th>Cushion</th>\n",
       "    </tr>\n",
       "  </thead>\n",
       "  <tbody>\n",
       "    <tr>\n",
       "      <th>78</th>\n",
       "      <td>Rob Gronkowski</td>\n",
       "      <td>30.7</td>\n",
       "      <td>209.0</td>\n",
       "      <td>-0.345</td>\n",
       "      <td>2.390</td>\n",
       "      <td>2.736</td>\n",
       "      <td>9.712</td>\n",
       "      <td>11.543</td>\n",
       "      <td>0.642</td>\n",
       "      <td>5.021</td>\n",
       "    </tr>\n",
       "    <tr>\n",
       "      <th>77</th>\n",
       "      <td>Larry Fitzgerald</td>\n",
       "      <td>30.8</td>\n",
       "      <td>378.0</td>\n",
       "      <td>-0.400</td>\n",
       "      <td>2.596</td>\n",
       "      <td>2.996</td>\n",
       "      <td>7.089</td>\n",
       "      <td>8.378</td>\n",
       "      <td>0.666</td>\n",
       "      <td>6.139</td>\n",
       "    </tr>\n",
       "    <tr>\n",
       "      <th>76</th>\n",
       "      <td>Kenny Golladay</td>\n",
       "      <td>31.1</td>\n",
       "      <td>273.0</td>\n",
       "      <td>-0.226</td>\n",
       "      <td>2.121</td>\n",
       "      <td>2.347</td>\n",
       "      <td>9.746</td>\n",
       "      <td>14.152</td>\n",
       "      <td>0.579</td>\n",
       "      <td>5.183</td>\n",
       "    </tr>\n",
       "    <tr>\n",
       "      <th>75</th>\n",
       "      <td>Devin Funchess</td>\n",
       "      <td>31.7</td>\n",
       "      <td>201.0</td>\n",
       "      <td>-0.102</td>\n",
       "      <td>2.381</td>\n",
       "      <td>2.483</td>\n",
       "      <td>7.426</td>\n",
       "      <td>12.982</td>\n",
       "      <td>0.564</td>\n",
       "      <td>5.849</td>\n",
       "    </tr>\n",
       "    <tr>\n",
       "      <th>74</th>\n",
       "      <td>Golden Tate</td>\n",
       "      <td>31.7</td>\n",
       "      <td>324.0</td>\n",
       "      <td>-0.508</td>\n",
       "      <td>2.664</td>\n",
       "      <td>3.173</td>\n",
       "      <td>7.631</td>\n",
       "      <td>7.098</td>\n",
       "      <td>0.671</td>\n",
       "      <td>5.980</td>\n",
       "    </tr>\n",
       "    <tr>\n",
       "      <th>73</th>\n",
       "      <td>DeVante Parker</td>\n",
       "      <td>32.6</td>\n",
       "      <td>267.0</td>\n",
       "      <td>-0.244</td>\n",
       "      <td>2.216</td>\n",
       "      <td>2.460</td>\n",
       "      <td>8.030</td>\n",
       "      <td>12.958</td>\n",
       "      <td>0.563</td>\n",
       "      <td>5.110</td>\n",
       "    </tr>\n",
       "    <tr>\n",
       "      <th>72</th>\n",
       "      <td>Mike Williams</td>\n",
       "      <td>32.8</td>\n",
       "      <td>194.0</td>\n",
       "      <td>-0.252</td>\n",
       "      <td>1.951</td>\n",
       "      <td>2.204</td>\n",
       "      <td>9.590</td>\n",
       "      <td>15.794</td>\n",
       "      <td>0.564</td>\n",
       "      <td>5.024</td>\n",
       "    </tr>\n",
       "    <tr>\n",
       "      <th>71</th>\n",
       "      <td>Cameron Brate</td>\n",
       "      <td>33.1</td>\n",
       "      <td>175.0</td>\n",
       "      <td>-0.411</td>\n",
       "      <td>2.610</td>\n",
       "      <td>3.021</td>\n",
       "      <td>6.680</td>\n",
       "      <td>8.693</td>\n",
       "      <td>0.629</td>\n",
       "      <td>5.535</td>\n",
       "    </tr>\n",
       "    <tr>\n",
       "      <th>70</th>\n",
       "      <td>Allen Robinson</td>\n",
       "      <td>33.8</td>\n",
       "      <td>260.0</td>\n",
       "      <td>-0.306</td>\n",
       "      <td>2.143</td>\n",
       "      <td>2.450</td>\n",
       "      <td>7.904</td>\n",
       "      <td>11.492</td>\n",
       "      <td>0.627</td>\n",
       "      <td>5.285</td>\n",
       "    </tr>\n",
       "    <tr>\n",
       "      <th>69</th>\n",
       "      <td>Jared Cook</td>\n",
       "      <td>34.0</td>\n",
       "      <td>254.0</td>\n",
       "      <td>-0.254</td>\n",
       "      <td>2.750</td>\n",
       "      <td>3.004</td>\n",
       "      <td>9.145</td>\n",
       "      <td>9.060</td>\n",
       "      <td>0.660</td>\n",
       "      <td>5.168</td>\n",
       "    </tr>\n",
       "  </tbody>\n",
       "</table>\n",
       "</div>"
      ],
      "text/plain": [
       "            Receiver    ES  Targets  Sep_Diff  Separation  Pred_Sep  Pass Yds  \\\n",
       "78    Rob Gronkowski  30.7    209.0    -0.345       2.390     2.736     9.712   \n",
       "77  Larry Fitzgerald  30.8    378.0    -0.400       2.596     2.996     7.089   \n",
       "76    Kenny Golladay  31.1    273.0    -0.226       2.121     2.347     9.746   \n",
       "75    Devin Funchess  31.7    201.0    -0.102       2.381     2.483     7.426   \n",
       "74       Golden Tate  31.7    324.0    -0.508       2.664     3.173     7.631   \n",
       "73    DeVante Parker  32.6    267.0    -0.244       2.216     2.460     8.030   \n",
       "72     Mike Williams  32.8    194.0    -0.252       1.951     2.204     9.590   \n",
       "71     Cameron Brate  33.1    175.0    -0.411       2.610     3.021     6.680   \n",
       "70    Allen Robinson  33.8    260.0    -0.306       2.143     2.450     7.904   \n",
       "69        Jared Cook  34.0    254.0    -0.254       2.750     3.004     9.145   \n",
       "\n",
       "    Air_Yds    Cmp  Cushion  \n",
       "78   11.543  0.642    5.021  \n",
       "77    8.378  0.666    6.139  \n",
       "76   14.152  0.579    5.183  \n",
       "75   12.982  0.564    5.849  \n",
       "74    7.098  0.671    5.980  \n",
       "73   12.958  0.563    5.110  \n",
       "72   15.794  0.564    5.024  \n",
       "71    8.693  0.629    5.535  \n",
       "70   11.492  0.627    5.285  \n",
       "69    9.060  0.660    5.168  "
      ]
     },
     "execution_count": 240,
     "metadata": {},
     "output_type": "execute_result"
    }
   ],
   "source": [
    "Final_ES.sort_values(['ES'], ascending = True).head(10)"
   ]
  },
  {
   "cell_type": "markdown",
   "metadata": {},
   "source": [
    "## Why should you care?\n",
    "\n",
    "The goal of this exercise is try and extract information from recevier separation, and the analysis doesn't end with these numbers. In an attmept to see how this stat looks on the team scale, I correlated *win percentage* over the last three seasons with the teams *average team separation differential* to see how this stat did to predict team success. "
   ]
  },
  {
   "cell_type": "code",
   "execution_count": 241,
   "metadata": {},
   "outputs": [],
   "source": [
    "WinPct = [.813, .750, .438, .563, .625, .438, .625, .375, .313, .875, .438, .750, \n",
    "          .688, .344, .500, .375, .500, .625, .438, .563, .438, .563, .500, .313, \n",
    "          .813, .438, .188, .125, .813, .250, .313, .219]\n",
    "\n",
    "WP_AS = [.704, .551, .510, .490, .746, .451, .500, .560, .375, .673, .625, .354, \n",
    "         .660, .608, .440, .648, .277, .736, .540, .375, .566, .354, .647, .469, \n",
    "         .333, .500, .312, .354, .250, .510, .340, .383]\n",
    "\n",
    "Teams = ['KC','GB','HOU','SF','NE','JAX','ATL','DAL','DEN','LA','PIT','TB','BAL',\n",
    "         'SEA','IND','PHI','CLE','NO','LAC','MIA','TEN','OAK','MIN','CAR','NYJ',\n",
    "         'BUF','CIN','WAS','NYG','CHI','ARI','DET']\n",
    "\n",
    "\n",
    "d = {'Team': Teams, 'Win Pct Since 2017': WP_AS}\n",
    "Three_Year = pd.DataFrame(d)"
   ]
  },
  {
   "cell_type": "code",
   "execution_count": 242,
   "metadata": {},
   "outputs": [
    {
     "data": {
      "text/html": [
       "<div>\n",
       "<style scoped>\n",
       "    .dataframe tbody tr th:only-of-type {\n",
       "        vertical-align: middle;\n",
       "    }\n",
       "\n",
       "    .dataframe tbody tr th {\n",
       "        vertical-align: top;\n",
       "    }\n",
       "\n",
       "    .dataframe thead th {\n",
       "        text-align: right;\n",
       "    }\n",
       "</style>\n",
       "<table border=\"1\" class=\"dataframe\">\n",
       "  <thead>\n",
       "    <tr style=\"text-align: right;\">\n",
       "      <th></th>\n",
       "      <th>Team</th>\n",
       "      <th>Separation</th>\n",
       "      <th>Pred_Sep</th>\n",
       "      <th>Sep Above Expectation</th>\n",
       "      <th>Win Pct Since 2017</th>\n",
       "    </tr>\n",
       "  </thead>\n",
       "  <tbody>\n",
       "    <tr>\n",
       "      <th>0</th>\n",
       "      <td>KC</td>\n",
       "      <td>3.281</td>\n",
       "      <td>2.911</td>\n",
       "      <td>0.370</td>\n",
       "      <td>0.704</td>\n",
       "    </tr>\n",
       "    <tr>\n",
       "      <th>1</th>\n",
       "      <td>GB</td>\n",
       "      <td>3.200</td>\n",
       "      <td>2.963</td>\n",
       "      <td>0.236</td>\n",
       "      <td>0.551</td>\n",
       "    </tr>\n",
       "    <tr>\n",
       "      <th>2</th>\n",
       "      <td>LA</td>\n",
       "      <td>3.142</td>\n",
       "      <td>3.023</td>\n",
       "      <td>0.119</td>\n",
       "      <td>0.673</td>\n",
       "    </tr>\n",
       "    <tr>\n",
       "      <th>3</th>\n",
       "      <td>NE</td>\n",
       "      <td>2.879</td>\n",
       "      <td>2.799</td>\n",
       "      <td>0.079</td>\n",
       "      <td>0.746</td>\n",
       "    </tr>\n",
       "    <tr>\n",
       "      <th>4</th>\n",
       "      <td>HOU</td>\n",
       "      <td>2.902</td>\n",
       "      <td>2.823</td>\n",
       "      <td>0.079</td>\n",
       "      <td>0.510</td>\n",
       "    </tr>\n",
       "    <tr>\n",
       "      <th>5</th>\n",
       "      <td>SEA</td>\n",
       "      <td>2.930</td>\n",
       "      <td>2.855</td>\n",
       "      <td>0.075</td>\n",
       "      <td>0.608</td>\n",
       "    </tr>\n",
       "    <tr>\n",
       "      <th>6</th>\n",
       "      <td>IND</td>\n",
       "      <td>3.011</td>\n",
       "      <td>2.945</td>\n",
       "      <td>0.066</td>\n",
       "      <td>0.440</td>\n",
       "    </tr>\n",
       "    <tr>\n",
       "      <th>7</th>\n",
       "      <td>PIT</td>\n",
       "      <td>2.948</td>\n",
       "      <td>2.905</td>\n",
       "      <td>0.043</td>\n",
       "      <td>0.625</td>\n",
       "    </tr>\n",
       "    <tr>\n",
       "      <th>8</th>\n",
       "      <td>DAL</td>\n",
       "      <td>2.812</td>\n",
       "      <td>2.769</td>\n",
       "      <td>0.042</td>\n",
       "      <td>0.560</td>\n",
       "    </tr>\n",
       "    <tr>\n",
       "      <th>9</th>\n",
       "      <td>JAX</td>\n",
       "      <td>2.974</td>\n",
       "      <td>2.944</td>\n",
       "      <td>0.030</td>\n",
       "      <td>0.451</td>\n",
       "    </tr>\n",
       "    <tr>\n",
       "      <th>10</th>\n",
       "      <td>ATL</td>\n",
       "      <td>2.954</td>\n",
       "      <td>2.925</td>\n",
       "      <td>0.028</td>\n",
       "      <td>0.500</td>\n",
       "    </tr>\n",
       "    <tr>\n",
       "      <th>11</th>\n",
       "      <td>SF</td>\n",
       "      <td>2.991</td>\n",
       "      <td>2.976</td>\n",
       "      <td>0.015</td>\n",
       "      <td>0.490</td>\n",
       "    </tr>\n",
       "    <tr>\n",
       "      <th>12</th>\n",
       "      <td>OAK</td>\n",
       "      <td>2.998</td>\n",
       "      <td>2.983</td>\n",
       "      <td>0.014</td>\n",
       "      <td>0.354</td>\n",
       "    </tr>\n",
       "    <tr>\n",
       "      <th>13</th>\n",
       "      <td>BAL</td>\n",
       "      <td>2.950</td>\n",
       "      <td>2.944</td>\n",
       "      <td>0.005</td>\n",
       "      <td>0.660</td>\n",
       "    </tr>\n",
       "    <tr>\n",
       "      <th>14</th>\n",
       "      <td>NO</td>\n",
       "      <td>2.917</td>\n",
       "      <td>2.919</td>\n",
       "      <td>-0.002</td>\n",
       "      <td>0.736</td>\n",
       "    </tr>\n",
       "    <tr>\n",
       "      <th>15</th>\n",
       "      <td>PHI</td>\n",
       "      <td>2.884</td>\n",
       "      <td>2.890</td>\n",
       "      <td>-0.006</td>\n",
       "      <td>0.648</td>\n",
       "    </tr>\n",
       "    <tr>\n",
       "      <th>16</th>\n",
       "      <td>MIN</td>\n",
       "      <td>2.897</td>\n",
       "      <td>2.913</td>\n",
       "      <td>-0.016</td>\n",
       "      <td>0.647</td>\n",
       "    </tr>\n",
       "    <tr>\n",
       "      <th>17</th>\n",
       "      <td>DEN</td>\n",
       "      <td>2.817</td>\n",
       "      <td>2.839</td>\n",
       "      <td>-0.022</td>\n",
       "      <td>0.375</td>\n",
       "    </tr>\n",
       "    <tr>\n",
       "      <th>18</th>\n",
       "      <td>CLE</td>\n",
       "      <td>2.748</td>\n",
       "      <td>2.780</td>\n",
       "      <td>-0.032</td>\n",
       "      <td>0.277</td>\n",
       "    </tr>\n",
       "    <tr>\n",
       "      <th>19</th>\n",
       "      <td>LAC</td>\n",
       "      <td>2.733</td>\n",
       "      <td>2.774</td>\n",
       "      <td>-0.041</td>\n",
       "      <td>0.540</td>\n",
       "    </tr>\n",
       "    <tr>\n",
       "      <th>20</th>\n",
       "      <td>TEN</td>\n",
       "      <td>2.869</td>\n",
       "      <td>2.910</td>\n",
       "      <td>-0.041</td>\n",
       "      <td>0.566</td>\n",
       "    </tr>\n",
       "    <tr>\n",
       "      <th>21</th>\n",
       "      <td>CAR</td>\n",
       "      <td>2.842</td>\n",
       "      <td>2.886</td>\n",
       "      <td>-0.044</td>\n",
       "      <td>0.469</td>\n",
       "    </tr>\n",
       "    <tr>\n",
       "      <th>22</th>\n",
       "      <td>BUF</td>\n",
       "      <td>2.765</td>\n",
       "      <td>2.819</td>\n",
       "      <td>-0.054</td>\n",
       "      <td>0.500</td>\n",
       "    </tr>\n",
       "    <tr>\n",
       "      <th>23</th>\n",
       "      <td>NYJ</td>\n",
       "      <td>2.908</td>\n",
       "      <td>2.962</td>\n",
       "      <td>-0.054</td>\n",
       "      <td>0.333</td>\n",
       "    </tr>\n",
       "    <tr>\n",
       "      <th>24</th>\n",
       "      <td>CHI</td>\n",
       "      <td>2.862</td>\n",
       "      <td>2.921</td>\n",
       "      <td>-0.059</td>\n",
       "      <td>0.510</td>\n",
       "    </tr>\n",
       "    <tr>\n",
       "      <th>25</th>\n",
       "      <td>MIA</td>\n",
       "      <td>2.804</td>\n",
       "      <td>2.869</td>\n",
       "      <td>-0.065</td>\n",
       "      <td>0.375</td>\n",
       "    </tr>\n",
       "    <tr>\n",
       "      <th>26</th>\n",
       "      <td>NYG</td>\n",
       "      <td>2.799</td>\n",
       "      <td>2.867</td>\n",
       "      <td>-0.068</td>\n",
       "      <td>0.250</td>\n",
       "    </tr>\n",
       "    <tr>\n",
       "      <th>27</th>\n",
       "      <td>TB</td>\n",
       "      <td>2.672</td>\n",
       "      <td>2.747</td>\n",
       "      <td>-0.075</td>\n",
       "      <td>0.354</td>\n",
       "    </tr>\n",
       "    <tr>\n",
       "      <th>28</th>\n",
       "      <td>WAS</td>\n",
       "      <td>2.848</td>\n",
       "      <td>2.955</td>\n",
       "      <td>-0.107</td>\n",
       "      <td>0.354</td>\n",
       "    </tr>\n",
       "    <tr>\n",
       "      <th>29</th>\n",
       "      <td>ARI</td>\n",
       "      <td>2.786</td>\n",
       "      <td>2.936</td>\n",
       "      <td>-0.150</td>\n",
       "      <td>0.340</td>\n",
       "    </tr>\n",
       "    <tr>\n",
       "      <th>30</th>\n",
       "      <td>CIN</td>\n",
       "      <td>2.630</td>\n",
       "      <td>2.791</td>\n",
       "      <td>-0.161</td>\n",
       "      <td>0.312</td>\n",
       "    </tr>\n",
       "    <tr>\n",
       "      <th>31</th>\n",
       "      <td>DET</td>\n",
       "      <td>2.685</td>\n",
       "      <td>2.889</td>\n",
       "      <td>-0.204</td>\n",
       "      <td>0.383</td>\n",
       "    </tr>\n",
       "  </tbody>\n",
       "</table>\n",
       "</div>"
      ],
      "text/plain": [
       "   Team  Separation  Pred_Sep  Sep Above Expectation  Win Pct Since 2017\n",
       "0    KC       3.281     2.911                  0.370               0.704\n",
       "1    GB       3.200     2.963                  0.236               0.551\n",
       "2    LA       3.142     3.023                  0.119               0.673\n",
       "3    NE       2.879     2.799                  0.079               0.746\n",
       "4   HOU       2.902     2.823                  0.079               0.510\n",
       "5   SEA       2.930     2.855                  0.075               0.608\n",
       "6   IND       3.011     2.945                  0.066               0.440\n",
       "7   PIT       2.948     2.905                  0.043               0.625\n",
       "8   DAL       2.812     2.769                  0.042               0.560\n",
       "9   JAX       2.974     2.944                  0.030               0.451\n",
       "10  ATL       2.954     2.925                  0.028               0.500\n",
       "11   SF       2.991     2.976                  0.015               0.490\n",
       "12  OAK       2.998     2.983                  0.014               0.354\n",
       "13  BAL       2.950     2.944                  0.005               0.660\n",
       "14   NO       2.917     2.919                 -0.002               0.736\n",
       "15  PHI       2.884     2.890                 -0.006               0.648\n",
       "16  MIN       2.897     2.913                 -0.016               0.647\n",
       "17  DEN       2.817     2.839                 -0.022               0.375\n",
       "18  CLE       2.748     2.780                 -0.032               0.277\n",
       "19  LAC       2.733     2.774                 -0.041               0.540\n",
       "20  TEN       2.869     2.910                 -0.041               0.566\n",
       "21  CAR       2.842     2.886                 -0.044               0.469\n",
       "22  BUF       2.765     2.819                 -0.054               0.500\n",
       "23  NYJ       2.908     2.962                 -0.054               0.333\n",
       "24  CHI       2.862     2.921                 -0.059               0.510\n",
       "25  MIA       2.804     2.869                 -0.065               0.375\n",
       "26  NYG       2.799     2.867                 -0.068               0.250\n",
       "27   TB       2.672     2.747                 -0.075               0.354\n",
       "28  WAS       2.848     2.955                 -0.107               0.354\n",
       "29  ARI       2.786     2.936                 -0.150               0.340\n",
       "30  CIN       2.630     2.791                 -0.161               0.312\n",
       "31  DET       2.685     2.889                 -0.204               0.383"
      ]
     },
     "execution_count": 242,
     "metadata": {},
     "output_type": "execute_result"
    }
   ],
   "source": [
    "Teams = Stats[['Separation', 'Pred_Sep','Team']]\n",
    "Teams['Sep Above Expectation'] = Teams['Separation'] - Teams['Pred_Sep']\n",
    "Team_df = Teams.groupby(['Team']).mean().sort_values(['Sep Above Expectation'], ascending = False)\n",
    "Combined = Team_df.merge(Three_Year, on = 'Team')\n",
    "Combined.round(3).head(32)"
   ]
  },
  {
   "cell_type": "code",
   "execution_count": 243,
   "metadata": {},
   "outputs": [
    {
     "data": {
      "image/png": "[encoded data removed]",
      "text/plain": [
       "<Figure size 864x576 with 1 Axes>"
      ]
     },
     "metadata": {
      "needs_background": "light"
     },
     "output_type": "display_data"
    }
   ],
   "source": [
    "fig, ax = plt.subplots(figsize = (12,8))\n",
    "\n",
    "fig = sns.regplot(x= 'Sep Above Expectation', y = 'Win Pct Since 2017', data = Combined)\n",
    "\n",
    "ax.set_title('Receiver Separation Above Expectation vs. Team Win Pct (Since 2017)', fontsize = 17)\n",
    "ax.set_ylabel('Team Winning Pct', fontsize = 15)\n",
    "fig.text(.36, .66, \"KC\", horizontalalignment='left', size='large', color='black', weight='semibold')\n",
    "fig.text(-.2, .41, \"DET\", horizontalalignment='right', size='large', color='black', weight='semibold')\n",
    "fig.text(.24, .52, \"GB\", horizontalalignment='center', size='large', color='black', weight='semibold')\n",
    "fig.text(-.07, .215, \"NYG\", horizontalalignment='center', size='large', color='black', weight='semibold')\n",
    "fig.text(.07, .76, \"NE\", horizontalalignment='center', size='large', color='black', weight='semibold')\n",
    "fig.text(-.16, .28, \"CIN\", horizontalalignment='center', size='large', color='black', weight='semibold')\n",
    "A = ax.set_xlabel('Avg Separation Above Expectation (yards/target)', fontsize = 15)"
   ]
  },
  {
   "cell_type": "markdown",
   "metadata": {},
   "source": [
    "Amazingly enough, teams with higher average separation differentials **won more often** than teams with lower separation differentials.\n",
    "\n",
    "I know what you are thinking, \n",
    "> \"*of course it is! receiver separation is a good thing, so teams with higher separation win more!*\"\n",
    "\n",
    "Yes, that is true, BUT, separation differential is actually a better predictor of team success than average separation."
   ]
  },
  {
   "cell_type": "code",
   "execution_count": 244,
   "metadata": {},
   "outputs": [
    {
     "data": {
      "text/html": [
       "<div>\n",
       "<style scoped>\n",
       "    .dataframe tbody tr th:only-of-type {\n",
       "        vertical-align: middle;\n",
       "    }\n",
       "\n",
       "    .dataframe tbody tr th {\n",
       "        vertical-align: top;\n",
       "    }\n",
       "\n",
       "    .dataframe thead th {\n",
       "        text-align: right;\n",
       "    }\n",
       "</style>\n",
       "<table border=\"1\" class=\"dataframe\">\n",
       "  <thead>\n",
       "    <tr style=\"text-align: right;\">\n",
       "      <th></th>\n",
       "      <th>Separation</th>\n",
       "      <th>Pred_Sep</th>\n",
       "      <th>Sep Above Expectation</th>\n",
       "      <th>Win Pct Since 2017</th>\n",
       "    </tr>\n",
       "  </thead>\n",
       "  <tbody>\n",
       "    <tr>\n",
       "      <th>Separation</th>\n",
       "      <td>1.00</td>\n",
       "      <td>0.73</td>\n",
       "      <td>0.79</td>\n",
       "      <td>0.48</td>\n",
       "    </tr>\n",
       "    <tr>\n",
       "      <th>Pred_Sep</th>\n",
       "      <td>0.73</td>\n",
       "      <td>1.00</td>\n",
       "      <td>0.23</td>\n",
       "      <td>0.07</td>\n",
       "    </tr>\n",
       "    <tr>\n",
       "      <th>Sep Above Expectation</th>\n",
       "      <td>0.79</td>\n",
       "      <td>0.23</td>\n",
       "      <td>1.00</td>\n",
       "      <td>0.66</td>\n",
       "    </tr>\n",
       "    <tr>\n",
       "      <th>Win Pct Since 2017</th>\n",
       "      <td>0.48</td>\n",
       "      <td>0.07</td>\n",
       "      <td>0.66</td>\n",
       "      <td>1.00</td>\n",
       "    </tr>\n",
       "  </tbody>\n",
       "</table>\n",
       "</div>"
      ],
      "text/plain": [
       "                       Separation  Pred_Sep  Sep Above Expectation  \\\n",
       "Separation                   1.00      0.73                   0.79   \n",
       "Pred_Sep                     0.73      1.00                   0.23   \n",
       "Sep Above Expectation        0.79      0.23                   1.00   \n",
       "Win Pct Since 2017           0.48      0.07                   0.66   \n",
       "\n",
       "                       Win Pct Since 2017  \n",
       "Separation                           0.48  \n",
       "Pred_Sep                             0.07  \n",
       "Sep Above Expectation                0.66  \n",
       "Win Pct Since 2017                   1.00  "
      ]
     },
     "execution_count": 244,
     "metadata": {},
     "output_type": "execute_result"
    }
   ],
   "source": [
    "Corr = Combined.corr(method = 'spearman').round(2)\n",
    "Corr"
   ]
  },
  {
   "cell_type": "markdown",
   "metadata": {},
   "source": [
    "## Player Evaluation"
   ]
  },
  {
   "cell_type": "code",
   "execution_count": 245,
   "metadata": {},
   "outputs": [
    {
     "data": {
      "application/vnd.plotly.v1+json": {
       "config": {
        "plotlyServerURL": "https://plot.ly"
       },
       "data": [
        {
         "hovertemplate": "<b>%{hovertext}</b><br><br>Predicted Separation=%{x}<br>Separation=%{y}<br>Targets=%{marker.size}<extra></extra>",
         "hovertext": [
          "Ted Ginn",
          "Davante Adams",
          "Sammy Watkins",
          "Tyreek Hill",
          "DeSean Jackson",
          "Calvin Ridley",
          "Christian Kirk",
          "Cooper Kupp",
          "Will Fuller",
          "Keelan Cole",
          "Corey Davis",
          "Tyler Lockett",
          "Amari Cooper",
          "Brandin Cooks",
          "Adam Humphries",
          "Tyler Higbee",
          "Danny Amendola",
          "Adam Thielen",
          "Travis Kelce",
          "Julian Edelman",
          "Robby Anderson",
          "Dede Westbrook",
          "Antonio Brown",
          "Jarvis Landry",
          "Kenny Stills",
          "Robert Woods",
          "Taylor Gabriel",
          "Nelson Agholor",
          "Odell Beckham",
          "Cole Beasley",
          "Eric Ebron",
          "JuJu Smith-Schuster",
          "Willie Snead",
          "Emmanuel Sanders",
          "Jack Doyle",
          "Stefon Diggs",
          "Tyler Boyd",
          "Austin Hooper",
          "Keenan Allen",
          "George Kittle",
          "Evan Engram",
          "Randall Cobb",
          "Doug Baldwin",
          "Sterling Shepard",
          "Courtland Sutton",
          "Chris Godwin",
          "DeAndre Hopkins",
          "John Brown",
          "Michael Gallup",
          "Zach Ertz",
          "A.J. Green",
          "Jordy Nelson",
          "Mohamed Sanu",
          "D.J. Moore",
          "Michael Thomas",
          "Tyrell Williams",
          "Julio Jones",
          "Curtis Samuel",
          "Demaryius Thomas",
          "Kyle Rudolph",
          "Marvin Jones",
          "Michael Crabtree",
          "Mike Evans",
          "Jermaine Kearse",
          "Zay Jones",
          "T.Y. Hilton",
          "Jamison Crowder",
          "Alshon Jeffery",
          "Jimmy Graham",
          "Jared Cook",
          "Allen Robinson",
          "Cameron Brate",
          "Mike Williams",
          "DeVante Parker",
          "Golden Tate",
          "Devin Funchess",
          "Kenny Golladay",
          "Larry Fitzgerald",
          "Rob Gronkowski"
         ],
         "legendgroup": "",
         "marker": {
          "color": "#636efa",
          "size": [
           188,
           432,
           253,
           373,
           172,
           184,
           174,
           296,
           174,
           192,
           271,
           270,
           336,
           338,
           236,
           173,
           285,
           369,
           442,
           297,
           299,
           265,
           347,
           432,
           234,
           392,
           202,
           278,
           291,
           260,
           259,
           315,
           173,
           291,
           201,
           361,
           283,
           252,
           451,
           309,
           244,
           225,
           190,
           273,
           204,
           268,
           504,
           276,
           196,
           436,
           212,
           175,
           293,
           214,
           530,
           206,
           497,
           193,
           281,
           233,
           258,
           208,
           387,
           177,
           220,
           314,
           272,
           310,
           249,
           254,
           260,
           175,
           194,
           267,
           324,
           201,
           273,
           378,
           209
          ],
          "sizemode": "area",
          "sizeref": 1.325,
          "symbol": "circle"
         },
         "mode": "markers",
         "name": "",
         "orientation": "v",
         "showlegend": false,
         "type": "scatter",
         "x": [
          2.729,
          2.688,
          2.548,
          2.874,
          2.509,
          2.783,
          3.061,
          3.082,
          2.593,
          2.736,
          2.676,
          2.896,
          2.549,
          2.601,
          3.301,
          3.26,
          3,
          2.756,
          2.863,
          2.934,
          2.486,
          3.098,
          2.559,
          2.941,
          2.557,
          3.065,
          3.018,
          3.085,
          2.642,
          2.966,
          3.084,
          2.815,
          3.009,
          2.679,
          3.269,
          2.749,
          2.879,
          3.261,
          2.678,
          3.268,
          3.251,
          3.11,
          2.717,
          2.816,
          2.369,
          2.748,
          2.421,
          2.323,
          2.371,
          2.978,
          2.267,
          2.716,
          2.948,
          2.731,
          2.674,
          2.702,
          2.516,
          2.677,
          2.689,
          3.226,
          2.315,
          2.444,
          2.278,
          2.89,
          2.677,
          2.68,
          3.189,
          2.344,
          3.142,
          3.004,
          2.45,
          3.021,
          2.204,
          2.46,
          3.173,
          2.483,
          2.347,
          2.996,
          2.736
         ],
         "xaxis": "x",
         "y": [
          3.016,
          3.037,
          2.964,
          3.258,
          2.767,
          3.021,
          3.18,
          3.343,
          2.95,
          2.862,
          2.869,
          3.115,
          2.764,
          2.742,
          3.372,
          3.392,
          3.087,
          2.786,
          2.951,
          3.038,
          2.68,
          3.223,
          2.607,
          2.978,
          2.594,
          3.099,
          3.193,
          3.235,
          2.727,
          2.951,
          3.257,
          2.752,
          3.071,
          2.671,
          3.444,
          2.654,
          2.787,
          3.383,
          2.702,
          3.234,
          3.222,
          3.194,
          2.813,
          2.911,
          2.358,
          2.625,
          2.411,
          2.413,
          2.407,
          3.004,
          2.232,
          2.638,
          2.884,
          2.731,
          2.583,
          2.798,
          2.398,
          2.551,
          2.543,
          3.206,
          2.144,
          2.414,
          2.187,
          2.769,
          2.653,
          2.534,
          3.053,
          2.219,
          2.997,
          2.75,
          2.143,
          2.61,
          1.951,
          2.216,
          2.664,
          2.381,
          2.121,
          2.596,
          2.39
         ],
         "yaxis": "y"
        }
       ],
       "layout": {
        "font": {
         "size": 13
        },
        "height": 600,
        "legend": {
         "itemsizing": "constant",
         "tracegroupgap": 0
        },
        "shapes": [
         {
          "line": {
           "color": "Black",
           "dash": "dash",
           "width": 1
          },
          "type": "line",
          "x0": 2,
          "x1": 3.5,
          "y0": 2,
          "y1": 3.5
         }
        ],
        "template": {
         "data": {
          "bar": [
           {
            "error_x": {
             "color": "#2a3f5f"
            },
            "error_y": {
             "color": "#2a3f5f"
            },
            "marker": {
             "line": {
              "color": "#E5ECF6",
              "width": 0.5
             }
            },
            "type": "bar"
           }
          ],
          "barpolar": [
           {
            "marker": {
             "line": {
              "color": "#E5ECF6",
              "width": 0.5
             }
            },
            "type": "barpolar"
           }
          ],
          "carpet": [
           {
            "aaxis": {
             "endlinecolor": "#2a3f5f",
             "gridcolor": "white",
             "linecolor": "white",
             "minorgridcolor": "white",
             "startlinecolor": "#2a3f5f"
            },
            "baxis": {
             "endlinecolor": "#2a3f5f",
             "gridcolor": "white",
             "linecolor": "white",
             "minorgridcolor": "white",
             "startlinecolor": "#2a3f5f"
            },
            "type": "carpet"
           }
          ],
          "choropleth": [
           {
            "colorbar": {
             "outlinewidth": 0,
             "ticks": ""
            },
            "type": "choropleth"
           }
          ],
          "contour": [
           {
            "colorbar": {
             "outlinewidth": 0,
             "ticks": ""
            },
            "colorscale": [
             [
              0,
              "#0d0887"
             ],
             [
              0.1111111111111111,
              "#46039f"
             ],
             [
              0.2222222222222222,
              "#7201a8"
             ],
             [
              0.3333333333333333,
              "#9c179e"
             ],
             [
              0.4444444444444444,
              "#bd3786"
             ],
             [
              0.5555555555555556,
              "#d8576b"
             ],
             [
              0.6666666666666666,
              "#ed7953"
             ],
             [
              0.7777777777777778,
              "#fb9f3a"
             ],
             [
              0.8888888888888888,
              "#fdca26"
             ],
             [
              1,
              "#f0f921"
             ]
            ],
            "type": "contour"
           }
          ],
          "contourcarpet": [
           {
            "colorbar": {
             "outlinewidth": 0,
             "ticks": ""
            },
            "type": "contourcarpet"
           }
          ],
          "heatmap": [
           {
            "colorbar": {
             "outlinewidth": 0,
             "ticks": ""
            },
            "colorscale": [
             [
              0,
              "#0d0887"
             ],
             [
              0.1111111111111111,
              "#46039f"
             ],
             [
              0.2222222222222222,
              "#7201a8"
             ],
             [
              0.3333333333333333,
              "#9c179e"
             ],
             [
              0.4444444444444444,
              "#bd3786"
             ],
             [
              0.5555555555555556,
              "#d8576b"
             ],
             [
              0.6666666666666666,
              "#ed7953"
             ],
             [
              0.7777777777777778,
              "#fb9f3a"
             ],
             [
              0.8888888888888888,
              "#fdca26"
             ],
             [
              1,
              "#f0f921"
             ]
            ],
            "type": "heatmap"
           }
          ],
          "heatmapgl": [
           {
            "colorbar": {
             "outlinewidth": 0,
             "ticks": ""
            },
            "colorscale": [
             [
              0,
              "#0d0887"
             ],
             [
              0.1111111111111111,
              "#46039f"
             ],
             [
              0.2222222222222222,
              "#7201a8"
             ],
             [
              0.3333333333333333,
              "#9c179e"
             ],
             [
              0.4444444444444444,
              "#bd3786"
             ],
             [
              0.5555555555555556,
              "#d8576b"
             ],
             [
              0.6666666666666666,
              "#ed7953"
             ],
             [
              0.7777777777777778,
              "#fb9f3a"
             ],
             [
              0.8888888888888888,
              "#fdca26"
             ],
             [
              1,
              "#f0f921"
             ]
            ],
            "type": "heatmapgl"
           }
          ],
          "histogram": [
           {
            "marker": {
             "colorbar": {
              "outlinewidth": 0,
              "ticks": ""
             }
            },
            "type": "histogram"
           }
          ],
          "histogram2d": [
           {
            "colorbar": {
             "outlinewidth": 0,
             "ticks": ""
            },
            "colorscale": [
             [
              0,
              "#0d0887"
             ],
             [
              0.1111111111111111,
              "#46039f"
             ],
             [
              0.2222222222222222,
              "#7201a8"
             ],
             [
              0.3333333333333333,
              "#9c179e"
             ],
             [
              0.4444444444444444,
              "#bd3786"
             ],
             [
              0.5555555555555556,
              "#d8576b"
             ],
             [
              0.6666666666666666,
              "#ed7953"
             ],
             [
              0.7777777777777778,
              "#fb9f3a"
             ],
             [
              0.8888888888888888,
              "#fdca26"
             ],
             [
              1,
              "#f0f921"
             ]
            ],
            "type": "histogram2d"
           }
          ],
          "histogram2dcontour": [
           {
            "colorbar": {
             "outlinewidth": 0,
             "ticks": ""
            },
            "colorscale": [
             [
              0,
              "#0d0887"
             ],
             [
              0.1111111111111111,
              "#46039f"
             ],
             [
              0.2222222222222222,
              "#7201a8"
             ],
             [
              0.3333333333333333,
              "#9c179e"
             ],
             [
              0.4444444444444444,
              "#bd3786"
             ],
             [
              0.5555555555555556,
              "#d8576b"
             ],
             [
              0.6666666666666666,
              "#ed7953"
             ],
             [
              0.7777777777777778,
              "#fb9f3a"
             ],
             [
              0.8888888888888888,
              "#fdca26"
             ],
             [
              1,
              "#f0f921"
             ]
            ],
            "type": "histogram2dcontour"
           }
          ],
          "mesh3d": [
           {
            "colorbar": {
             "outlinewidth": 0,
             "ticks": ""
            },
            "type": "mesh3d"
           }
          ],
          "parcoords": [
           {
            "line": {
             "colorbar": {
              "outlinewidth": 0,
              "ticks": ""
             }
            },
            "type": "parcoords"
           }
          ],
          "pie": [
           {
            "automargin": true,
            "type": "pie"
           }
          ],
          "scatter": [
           {
            "marker": {
             "colorbar": {
              "outlinewidth": 0,
              "ticks": ""
             }
            },
            "type": "scatter"
           }
          ],
          "scatter3d": [
           {
            "line": {
             "colorbar": {
              "outlinewidth": 0,
              "ticks": ""
             }
            },
            "marker": {
             "colorbar": {
              "outlinewidth": 0,
              "ticks": ""
             }
            },
            "type": "scatter3d"
           }
          ],
          "scattercarpet": [
           {
            "marker": {
             "colorbar": {
              "outlinewidth": 0,
              "ticks": ""
             }
            },
            "type": "scattercarpet"
           }
          ],
          "scattergeo": [
           {
            "marker": {
             "colorbar": {
              "outlinewidth": 0,
              "ticks": ""
             }
            },
            "type": "scattergeo"
           }
          ],
          "scattergl": [
           {
            "marker": {
             "colorbar": {
              "outlinewidth": 0,
              "ticks": ""
             }
            },
            "type": "scattergl"
           }
          ],
          "scattermapbox": [
           {
            "marker": {
             "colorbar": {
              "outlinewidth": 0,
              "ticks": ""
             }
            },
            "type": "scattermapbox"
           }
          ],
          "scatterpolar": [
           {
            "marker": {
             "colorbar": {
              "outlinewidth": 0,
              "ticks": ""
             }
            },
            "type": "scatterpolar"
           }
          ],
          "scatterpolargl": [
           {
            "marker": {
             "colorbar": {
              "outlinewidth": 0,
              "ticks": ""
             }
            },
            "type": "scatterpolargl"
           }
          ],
          "scatterternary": [
           {
            "marker": {
             "colorbar": {
              "outlinewidth": 0,
              "ticks": ""
             }
            },
            "type": "scatterternary"
           }
          ],
          "surface": [
           {
            "colorbar": {
             "outlinewidth": 0,
             "ticks": ""
            },
            "colorscale": [
             [
              0,
              "#0d0887"
             ],
             [
              0.1111111111111111,
              "#46039f"
             ],
             [
              0.2222222222222222,
              "#7201a8"
             ],
             [
              0.3333333333333333,
              "#9c179e"
             ],
             [
              0.4444444444444444,
              "#bd3786"
             ],
             [
              0.5555555555555556,
              "#d8576b"
             ],
             [
              0.6666666666666666,
              "#ed7953"
             ],
             [
              0.7777777777777778,
              "#fb9f3a"
             ],
             [
              0.8888888888888888,
              "#fdca26"
             ],
             [
              1,
              "#f0f921"
             ]
            ],
            "type": "surface"
           }
          ],
          "table": [
           {
            "cells": {
             "fill": {
              "color": "#EBF0F8"
             },
             "line": {
              "color": "white"
             }
            },
            "header": {
             "fill": {
              "color": "#C8D4E3"
             },
             "line": {
              "color": "white"
             }
            },
            "type": "table"
           }
          ]
         },
         "layout": {
          "annotationdefaults": {
           "arrowcolor": "#2a3f5f",
           "arrowhead": 0,
           "arrowwidth": 1
          },
          "coloraxis": {
           "colorbar": {
            "outlinewidth": 0,
            "ticks": ""
           }
          },
          "colorscale": {
           "diverging": [
            [
             0,
             "#8e0152"
            ],
            [
             0.1,
             "#c51b7d"
            ],
            [
             0.2,
             "#de77ae"
            ],
            [
             0.3,
             "#f1b6da"
            ],
            [
             0.4,
             "#fde0ef"
            ],
            [
             0.5,
             "#f7f7f7"
            ],
            [
             0.6,
             "#e6f5d0"
            ],
            [
             0.7,
             "#b8e186"
            ],
            [
             0.8,
             "#7fbc41"
            ],
            [
             0.9,
             "#4d9221"
            ],
            [
             1,
             "#276419"
            ]
           ],
           "sequential": [
            [
             0,
             "#0d0887"
            ],
            [
             0.1111111111111111,
             "#46039f"
            ],
            [
             0.2222222222222222,
             "#7201a8"
            ],
            [
             0.3333333333333333,
             "#9c179e"
            ],
            [
             0.4444444444444444,
             "#bd3786"
            ],
            [
             0.5555555555555556,
             "#d8576b"
            ],
            [
             0.6666666666666666,
             "#ed7953"
            ],
            [
             0.7777777777777778,
             "#fb9f3a"
            ],
            [
             0.8888888888888888,
             "#fdca26"
            ],
            [
             1,
             "#f0f921"
            ]
           ],
           "sequentialminus": [
            [
             0,
             "#0d0887"
            ],
            [
             0.1111111111111111,
             "#46039f"
            ],
            [
             0.2222222222222222,
             "#7201a8"
            ],
            [
             0.3333333333333333,
             "#9c179e"
            ],
            [
             0.4444444444444444,
             "#bd3786"
            ],
            [
             0.5555555555555556,
             "#d8576b"
            ],
            [
             0.6666666666666666,
             "#ed7953"
            ],
            [
             0.7777777777777778,
             "#fb9f3a"
            ],
            [
             0.8888888888888888,
             "#fdca26"
            ],
            [
             1,
             "#f0f921"
            ]
           ]
          },
          "colorway": [
           "#636efa",
           "#EF553B",
           "#00cc96",
           "#ab63fa",
           "#FFA15A",
           "#19d3f3",
           "#FF6692",
           "#B6E880",
           "#FF97FF",
           "#FECB52"
          ],
          "font": {
           "color": "#2a3f5f"
          },
          "geo": {
           "bgcolor": "white",
           "lakecolor": "white",
           "landcolor": "#E5ECF6",
           "showlakes": true,
           "showland": true,
           "subunitcolor": "white"
          },
          "hoverlabel": {
           "align": "left"
          },
          "hovermode": "closest",
          "mapbox": {
           "style": "light"
          },
          "paper_bgcolor": "white",
          "plot_bgcolor": "#E5ECF6",
          "polar": {
           "angularaxis": {
            "gridcolor": "white",
            "linecolor": "white",
            "ticks": ""
           },
           "bgcolor": "#E5ECF6",
           "radialaxis": {
            "gridcolor": "white",
            "linecolor": "white",
            "ticks": ""
           }
          },
          "scene": {
           "xaxis": {
            "backgroundcolor": "#E5ECF6",
            "gridcolor": "white",
            "gridwidth": 2,
            "linecolor": "white",
            "showbackground": true,
            "ticks": "",
            "zerolinecolor": "white"
           },
           "yaxis": {
            "backgroundcolor": "#E5ECF6",
            "gridcolor": "white",
            "gridwidth": 2,
            "linecolor": "white",
            "showbackground": true,
            "ticks": "",
            "zerolinecolor": "white"
           },
           "zaxis": {
            "backgroundcolor": "#E5ECF6",
            "gridcolor": "white",
            "gridwidth": 2,
            "linecolor": "white",
            "showbackground": true,
            "ticks": "",
            "zerolinecolor": "white"
           }
          },
          "shapedefaults": {
           "line": {
            "color": "#2a3f5f"
           }
          },
          "ternary": {
           "aaxis": {
            "gridcolor": "white",
            "linecolor": "white",
            "ticks": ""
           },
           "baxis": {
            "gridcolor": "white",
            "linecolor": "white",
            "ticks": ""
           },
           "bgcolor": "#E5ECF6",
           "caxis": {
            "gridcolor": "white",
            "linecolor": "white",
            "ticks": ""
           }
          },
          "title": {
           "x": 0.05
          },
          "xaxis": {
           "automargin": true,
           "gridcolor": "white",
           "linecolor": "white",
           "ticks": "",
           "title": {
            "standoff": 15
           },
           "zerolinecolor": "white",
           "zerolinewidth": 2
          },
          "yaxis": {
           "automargin": true,
           "gridcolor": "white",
           "linecolor": "white",
           "ticks": "",
           "title": {
            "standoff": 15
           },
           "zerolinecolor": "white",
           "zerolinewidth": 2
          }
         }
        },
        "title": {
         "text": "Predicted Separation vs Actual Separation (min. 175 targets since 2017) "
        },
        "width": 1000,
        "xaxis": {
         "anchor": "y",
         "autorange": true,
         "domain": [
          0,
          1
         ],
         "range": [
          1.9991060786650774,
          3.5008939213349226
         ],
         "title": {
          "text": "Avg Predicted Separation (yds)"
         },
         "type": "linear"
        },
        "yaxis": {
         "anchor": "x",
         "autorange": true,
         "domain": [
          0,
          1
         ],
         "range": [
          1.82377522994006,
          3.571936746922021
         ],
         "title": {
          "text": "Avg Separation (yds)"
         },
         "type": "linear"
        }
       }
      },
      "image/png": "[encoded data removed]",
      "text/html": [
       "<div>\n",
       "        \n",
       "        \n",
       "            <div id=\"fe30aad2-6be9-4b45-8eaa-26d37fe19df7\" class=\"plotly-graph-div\" style=\"height:600px; width:1000px;\"></div>\n",
       "            <script type=\"text/javascript\">\n",
       "                require([\"plotly\"], function(Plotly) {\n",
       "                    window.PLOTLYENV=window.PLOTLYENV || {};\n",
       "                    \n",
       "                if (document.getElementById(\"fe30aad2-6be9-4b45-8eaa-26d37fe19df7\")) {\n",
       "                    Plotly.newPlot(\n",
       "                        'fe30aad2-6be9-4b45-8eaa-26d37fe19df7',\n",
       "                        [{\"hovertemplate\": \"<b>%{hovertext}</b><br><br>Predicted Separation=%{x}<br>Separation=%{y}<br>Targets=%{marker.size}<extra></extra>\", \"hovertext\": [\"Ted Ginn\", \"Davante Adams\", \"Sammy Watkins\", \"Tyreek Hill\", \"DeSean Jackson\", \"Calvin Ridley\", \"Christian Kirk\", \"Cooper Kupp\", \"Will Fuller\", \"Keelan Cole\", \"Corey Davis\", \"Tyler Lockett\", \"Amari Cooper\", \"Brandin Cooks\", \"Adam Humphries\", \"Tyler Higbee\", \"Danny Amendola\", \"Adam Thielen\", \"Travis Kelce\", \"Julian Edelman\", \"Robby Anderson\", \"Dede Westbrook\", \"Antonio Brown\", \"Jarvis Landry\", \"Kenny Stills\", \"Robert Woods\", \"Taylor Gabriel\", \"Nelson Agholor\", \"Odell Beckham\", \"Cole Beasley\", \"Eric Ebron\", \"JuJu Smith-Schuster\", \"Willie Snead\", \"Emmanuel Sanders\", \"Jack Doyle\", \"Stefon Diggs\", \"Tyler Boyd\", \"Austin Hooper\", \"Keenan Allen\", \"George Kittle\", \"Evan Engram\", \"Randall Cobb\", \"Doug Baldwin\", \"Sterling Shepard\", \"Courtland Sutton\", \"Chris Godwin\", \"DeAndre Hopkins\", \"John Brown\", \"Michael Gallup\", \"Zach Ertz\", \"A.J. Green\", \"Jordy Nelson\", \"Mohamed Sanu\", \"D.J. Moore\", \"Michael Thomas\", \"Tyrell Williams\", \"Julio Jones\", \"Curtis Samuel\", \"Demaryius Thomas\", \"Kyle Rudolph\", \"Marvin Jones\", \"Michael Crabtree\", \"Mike Evans\", \"Jermaine Kearse\", \"Zay Jones\", \"T.Y. Hilton\", \"Jamison Crowder\", \"Alshon Jeffery\", \"Jimmy Graham\", \"Jared Cook\", \"Allen Robinson\", \"Cameron Brate\", \"Mike Williams\", \"DeVante Parker\", \"Golden Tate\", \"Devin Funchess\", \"Kenny Golladay\", \"Larry Fitzgerald\", \"Rob Gronkowski\"], \"legendgroup\": \"\", \"marker\": {\"color\": \"#636efa\", \"size\": [188.0, 432.0, 253.0, 373.0, 172.0, 184.0, 174.0, 296.0, 174.0, 192.0, 271.0, 270.0, 336.0, 338.0, 236.0, 173.0, 285.0, 369.0, 442.0, 297.0, 299.0, 265.0, 347.0, 432.0, 234.0, 392.0, 202.0, 278.0, 291.0, 260.0, 259.0, 315.0, 173.0, 291.0, 201.0, 361.0, 283.0, 252.0, 451.0, 309.0, 244.0, 225.0, 190.0, 273.0, 204.0, 268.0, 504.0, 276.0, 196.0, 436.0, 212.0, 175.0, 293.0, 214.0, 530.0, 206.0, 497.0, 193.0, 281.0, 233.0, 258.0, 208.0, 387.0, 177.0, 220.0, 314.0, 272.0, 310.0, 249.0, 254.0, 260.0, 175.0, 194.0, 267.0, 324.0, 201.0, 273.0, 378.0, 209.0], \"sizemode\": \"area\", \"sizeref\": 1.325, \"symbol\": \"circle\"}, \"mode\": \"markers\", \"name\": \"\", \"orientation\": \"v\", \"showlegend\": false, \"type\": \"scatter\", \"x\": [2.729, 2.688, 2.548, 2.874, 2.509, 2.783, 3.061, 3.082, 2.593, 2.736, 2.676, 2.896, 2.549, 2.601, 3.301, 3.26, 3.0, 2.756, 2.863, 2.934, 2.486, 3.098, 2.559, 2.941, 2.557, 3.065, 3.018, 3.085, 2.642, 2.966, 3.084, 2.815, 3.009, 2.679, 3.269, 2.749, 2.879, 3.261, 2.678, 3.268, 3.251, 3.11, 2.717, 2.816, 2.369, 2.748, 2.421, 2.323, 2.371, 2.978, 2.267, 2.716, 2.948, 2.731, 2.674, 2.702, 2.516, 2.677, 2.689, 3.226, 2.315, 2.444, 2.278, 2.89, 2.677, 2.68, 3.189, 2.344, 3.142, 3.004, 2.45, 3.021, 2.204, 2.46, 3.173, 2.483, 2.347, 2.996, 2.736], \"xaxis\": \"x\", \"y\": [3.016, 3.037, 2.964, 3.258, 2.767, 3.021, 3.18, 3.343, 2.95, 2.862, 2.869, 3.115, 2.764, 2.742, 3.372, 3.392, 3.087, 2.786, 2.951, 3.038, 2.68, 3.223, 2.607, 2.978, 2.594, 3.099, 3.193, 3.235, 2.727, 2.951, 3.257, 2.752, 3.071, 2.671, 3.444, 2.654, 2.787, 3.383, 2.702, 3.234, 3.222, 3.194, 2.813, 2.911, 2.358, 2.625, 2.411, 2.413, 2.407, 3.004, 2.232, 2.638, 2.884, 2.731, 2.583, 2.798, 2.398, 2.551, 2.543, 3.206, 2.144, 2.414, 2.187, 2.769, 2.653, 2.534, 3.053, 2.219, 2.997, 2.75, 2.143, 2.61, 1.951, 2.216, 2.664, 2.381, 2.121, 2.596, 2.39], \"yaxis\": \"y\"}],\n",
       "                        {\"font\": {\"size\": 13}, \"height\": 600, \"legend\": {\"itemsizing\": \"constant\", \"tracegroupgap\": 0}, \"shapes\": [{\"line\": {\"color\": \"Black\", \"dash\": \"dash\", \"width\": 1}, \"type\": \"line\", \"x0\": 2, \"x1\": 3.5, \"y0\": 2, \"y1\": 3.5}], \"template\": {\"data\": {\"bar\": [{\"error_x\": {\"color\": \"#2a3f5f\"}, \"error_y\": {\"color\": \"#2a3f5f\"}, \"marker\": {\"line\": {\"color\": \"#E5ECF6\", \"width\": 0.5}}, \"type\": \"bar\"}], \"barpolar\": [{\"marker\": {\"line\": {\"color\": \"#E5ECF6\", \"width\": 0.5}}, \"type\": \"barpolar\"}], \"carpet\": [{\"aaxis\": {\"endlinecolor\": \"#2a3f5f\", \"gridcolor\": \"white\", \"linecolor\": \"white\", \"minorgridcolor\": \"white\", \"startlinecolor\": \"#2a3f5f\"}, \"baxis\": {\"endlinecolor\": \"#2a3f5f\", \"gridcolor\": \"white\", \"linecolor\": \"white\", \"minorgridcolor\": \"white\", \"startlinecolor\": \"#2a3f5f\"}, \"type\": \"carpet\"}], \"choropleth\": [{\"colorbar\": {\"outlinewidth\": 0, \"ticks\": \"\"}, \"type\": \"choropleth\"}], \"contour\": [{\"colorbar\": {\"outlinewidth\": 0, \"ticks\": \"\"}, \"colorscale\": [[0.0, \"#0d0887\"], [0.1111111111111111, \"#46039f\"], [0.2222222222222222, \"#7201a8\"], [0.3333333333333333, \"#9c179e\"], [0.4444444444444444, \"#bd3786\"], [0.5555555555555556, \"#d8576b\"], [0.6666666666666666, \"#ed7953\"], [0.7777777777777778, \"#fb9f3a\"], [0.8888888888888888, \"#fdca26\"], [1.0, \"#f0f921\"]], \"type\": \"contour\"}], \"contourcarpet\": [{\"colorbar\": {\"outlinewidth\": 0, \"ticks\": \"\"}, \"type\": \"contourcarpet\"}], \"heatmap\": [{\"colorbar\": {\"outlinewidth\": 0, \"ticks\": \"\"}, \"colorscale\": [[0.0, \"#0d0887\"], [0.1111111111111111, \"#46039f\"], [0.2222222222222222, \"#7201a8\"], [0.3333333333333333, \"#9c179e\"], [0.4444444444444444, \"#bd3786\"], [0.5555555555555556, \"#d8576b\"], [0.6666666666666666, \"#ed7953\"], [0.7777777777777778, \"#fb9f3a\"], [0.8888888888888888, \"#fdca26\"], [1.0, \"#f0f921\"]], \"type\": \"heatmap\"}], \"heatmapgl\": [{\"colorbar\": {\"outlinewidth\": 0, \"ticks\": \"\"}, \"colorscale\": [[0.0, \"#0d0887\"], [0.1111111111111111, \"#46039f\"], [0.2222222222222222, \"#7201a8\"], [0.3333333333333333, \"#9c179e\"], [0.4444444444444444, \"#bd3786\"], [0.5555555555555556, \"#d8576b\"], [0.6666666666666666, \"#ed7953\"], [0.7777777777777778, \"#fb9f3a\"], [0.8888888888888888, \"#fdca26\"], [1.0, \"#f0f921\"]], \"type\": \"heatmapgl\"}], \"histogram\": [{\"marker\": {\"colorbar\": {\"outlinewidth\": 0, \"ticks\": \"\"}}, \"type\": \"histogram\"}], \"histogram2d\": [{\"colorbar\": {\"outlinewidth\": 0, \"ticks\": \"\"}, \"colorscale\": [[0.0, \"#0d0887\"], [0.1111111111111111, \"#46039f\"], [0.2222222222222222, \"#7201a8\"], [0.3333333333333333, \"#9c179e\"], [0.4444444444444444, \"#bd3786\"], [0.5555555555555556, \"#d8576b\"], [0.6666666666666666, \"#ed7953\"], [0.7777777777777778, \"#fb9f3a\"], [0.8888888888888888, \"#fdca26\"], [1.0, \"#f0f921\"]], \"type\": \"histogram2d\"}], \"histogram2dcontour\": [{\"colorbar\": {\"outlinewidth\": 0, \"ticks\": \"\"}, \"colorscale\": [[0.0, \"#0d0887\"], [0.1111111111111111, \"#46039f\"], [0.2222222222222222, \"#7201a8\"], [0.3333333333333333, \"#9c179e\"], [0.4444444444444444, \"#bd3786\"], [0.5555555555555556, \"#d8576b\"], [0.6666666666666666, \"#ed7953\"], [0.7777777777777778, \"#fb9f3a\"], [0.8888888888888888, \"#fdca26\"], [1.0, \"#f0f921\"]], \"type\": \"histogram2dcontour\"}], \"mesh3d\": [{\"colorbar\": {\"outlinewidth\": 0, \"ticks\": \"\"}, \"type\": \"mesh3d\"}], \"parcoords\": [{\"line\": {\"colorbar\": {\"outlinewidth\": 0, \"ticks\": \"\"}}, \"type\": \"parcoords\"}], \"pie\": [{\"automargin\": true, \"type\": \"pie\"}], \"scatter\": [{\"marker\": {\"colorbar\": {\"outlinewidth\": 0, \"ticks\": \"\"}}, \"type\": \"scatter\"}], \"scatter3d\": [{\"line\": {\"colorbar\": {\"outlinewidth\": 0, \"ticks\": \"\"}}, \"marker\": {\"colorbar\": {\"outlinewidth\": 0, \"ticks\": \"\"}}, \"type\": \"scatter3d\"}], \"scattercarpet\": [{\"marker\": {\"colorbar\": {\"outlinewidth\": 0, \"ticks\": \"\"}}, \"type\": \"scattercarpet\"}], \"scattergeo\": [{\"marker\": {\"colorbar\": {\"outlinewidth\": 0, \"ticks\": \"\"}}, \"type\": \"scattergeo\"}], \"scattergl\": [{\"marker\": {\"colorbar\": {\"outlinewidth\": 0, \"ticks\": \"\"}}, \"type\": \"scattergl\"}], \"scattermapbox\": [{\"marker\": {\"colorbar\": {\"outlinewidth\": 0, \"ticks\": \"\"}}, \"type\": \"scattermapbox\"}], \"scatterpolar\": [{\"marker\": {\"colorbar\": {\"outlinewidth\": 0, \"ticks\": \"\"}}, \"type\": \"scatterpolar\"}], \"scatterpolargl\": [{\"marker\": {\"colorbar\": {\"outlinewidth\": 0, \"ticks\": \"\"}}, \"type\": \"scatterpolargl\"}], \"scatterternary\": [{\"marker\": {\"colorbar\": {\"outlinewidth\": 0, \"ticks\": \"\"}}, \"type\": \"scatterternary\"}], \"surface\": [{\"colorbar\": {\"outlinewidth\": 0, \"ticks\": \"\"}, \"colorscale\": [[0.0, \"#0d0887\"], [0.1111111111111111, \"#46039f\"], [0.2222222222222222, \"#7201a8\"], [0.3333333333333333, \"#9c179e\"], [0.4444444444444444, \"#bd3786\"], [0.5555555555555556, \"#d8576b\"], [0.6666666666666666, \"#ed7953\"], [0.7777777777777778, \"#fb9f3a\"], [0.8888888888888888, \"#fdca26\"], [1.0, \"#f0f921\"]], \"type\": \"surface\"}], \"table\": [{\"cells\": {\"fill\": {\"color\": \"#EBF0F8\"}, \"line\": {\"color\": \"white\"}}, \"header\": {\"fill\": {\"color\": \"#C8D4E3\"}, \"line\": {\"color\": \"white\"}}, \"type\": \"table\"}]}, \"layout\": {\"annotationdefaults\": {\"arrowcolor\": \"#2a3f5f\", \"arrowhead\": 0, \"arrowwidth\": 1}, \"coloraxis\": {\"colorbar\": {\"outlinewidth\": 0, \"ticks\": \"\"}}, \"colorscale\": {\"diverging\": [[0, \"#8e0152\"], [0.1, \"#c51b7d\"], [0.2, \"#de77ae\"], [0.3, \"#f1b6da\"], [0.4, \"#fde0ef\"], [0.5, \"#f7f7f7\"], [0.6, \"#e6f5d0\"], [0.7, \"#b8e186\"], [0.8, \"#7fbc41\"], [0.9, \"#4d9221\"], [1, \"#276419\"]], \"sequential\": [[0.0, \"#0d0887\"], [0.1111111111111111, \"#46039f\"], [0.2222222222222222, \"#7201a8\"], [0.3333333333333333, \"#9c179e\"], [0.4444444444444444, \"#bd3786\"], [0.5555555555555556, \"#d8576b\"], [0.6666666666666666, \"#ed7953\"], [0.7777777777777778, \"#fb9f3a\"], [0.8888888888888888, \"#fdca26\"], [1.0, \"#f0f921\"]], \"sequentialminus\": [[0.0, \"#0d0887\"], [0.1111111111111111, \"#46039f\"], [0.2222222222222222, \"#7201a8\"], [0.3333333333333333, \"#9c179e\"], [0.4444444444444444, \"#bd3786\"], [0.5555555555555556, \"#d8576b\"], [0.6666666666666666, \"#ed7953\"], [0.7777777777777778, \"#fb9f3a\"], [0.8888888888888888, \"#fdca26\"], [1.0, \"#f0f921\"]]}, \"colorway\": [\"#636efa\", \"#EF553B\", \"#00cc96\", \"#ab63fa\", \"#FFA15A\", \"#19d3f3\", \"#FF6692\", \"#B6E880\", \"#FF97FF\", \"#FECB52\"], \"font\": {\"color\": \"#2a3f5f\"}, \"geo\": {\"bgcolor\": \"white\", \"lakecolor\": \"white\", \"landcolor\": \"#E5ECF6\", \"showlakes\": true, \"showland\": true, \"subunitcolor\": \"white\"}, \"hoverlabel\": {\"align\": \"left\"}, \"hovermode\": \"closest\", \"mapbox\": {\"style\": \"light\"}, \"paper_bgcolor\": \"white\", \"plot_bgcolor\": \"#E5ECF6\", \"polar\": {\"angularaxis\": {\"gridcolor\": \"white\", \"linecolor\": \"white\", \"ticks\": \"\"}, \"bgcolor\": \"#E5ECF6\", \"radialaxis\": {\"gridcolor\": \"white\", \"linecolor\": \"white\", \"ticks\": \"\"}}, \"scene\": {\"xaxis\": {\"backgroundcolor\": \"#E5ECF6\", \"gridcolor\": \"white\", \"gridwidth\": 2, \"linecolor\": \"white\", \"showbackground\": true, \"ticks\": \"\", \"zerolinecolor\": \"white\"}, \"yaxis\": {\"backgroundcolor\": \"#E5ECF6\", \"gridcolor\": \"white\", \"gridwidth\": 2, \"linecolor\": \"white\", \"showbackground\": true, \"ticks\": \"\", \"zerolinecolor\": \"white\"}, \"zaxis\": {\"backgroundcolor\": \"#E5ECF6\", \"gridcolor\": \"white\", \"gridwidth\": 2, \"linecolor\": \"white\", \"showbackground\": true, \"ticks\": \"\", \"zerolinecolor\": \"white\"}}, \"shapedefaults\": {\"line\": {\"color\": \"#2a3f5f\"}}, \"ternary\": {\"aaxis\": {\"gridcolor\": \"white\", \"linecolor\": \"white\", \"ticks\": \"\"}, \"baxis\": {\"gridcolor\": \"white\", \"linecolor\": \"white\", \"ticks\": \"\"}, \"bgcolor\": \"#E5ECF6\", \"caxis\": {\"gridcolor\": \"white\", \"linecolor\": \"white\", \"ticks\": \"\"}}, \"title\": {\"x\": 0.05}, \"xaxis\": {\"automargin\": true, \"gridcolor\": \"white\", \"linecolor\": \"white\", \"ticks\": \"\", \"title\": {\"standoff\": 15}, \"zerolinecolor\": \"white\", \"zerolinewidth\": 2}, \"yaxis\": {\"automargin\": true, \"gridcolor\": \"white\", \"linecolor\": \"white\", \"ticks\": \"\", \"title\": {\"standoff\": 15}, \"zerolinecolor\": \"white\", \"zerolinewidth\": 2}}}, \"title\": {\"text\": \"Predicted Separation vs Actual Separation (min. 175 targets since 2017) \"}, \"width\": 1000, \"xaxis\": {\"anchor\": \"y\", \"domain\": [0.0, 1.0], \"title\": {\"text\": \"Avg Predicted Separation (yds)\"}}, \"yaxis\": {\"anchor\": \"x\", \"domain\": [0.0, 1.0], \"title\": {\"text\": \"Avg Separation (yds)\"}}},\n",
       "                        {\"responsive\": true}\n",
       "                    ).then(function(){\n",
       "                            \n",
       "var gd = document.getElementById('fe30aad2-6be9-4b45-8eaa-26d37fe19df7');\n",
       "var x = new MutationObserver(function (mutations, observer) {{\n",
       "        var display = window.getComputedStyle(gd).display;\n",
       "        if (!display || display === 'none') {{\n",
       "            console.log([gd, 'removed!']);\n",
       "            Plotly.purge(gd);\n",
       "            observer.disconnect();\n",
       "        }}\n",
       "}});\n",
       "\n",
       "// Listen for the removal of the full notebook cells\n",
       "var notebookContainer = gd.closest('#notebook-container');\n",
       "if (notebookContainer) {{\n",
       "    x.observe(notebookContainer, {childList: true});\n",
       "}}\n",
       "\n",
       "// Listen for the clearing of the current output cell\n",
       "var outputEl = gd.closest('.output');\n",
       "if (outputEl) {{\n",
       "    x.observe(outputEl, {childList: true});\n",
       "}}\n",
       "\n",
       "                        })\n",
       "                };\n",
       "                });\n",
       "            </script>\n",
       "        </div>"
      ]
     },
     "metadata": {},
     "output_type": "display_data"
    }
   ],
   "source": [
    "import plotly.express as px\n",
    "\n",
    "fig = px.scatter(Final_ES, x=\"Pred_Sep\", y=\"Separation\", size=\"Targets\",\n",
    "           hover_name=\"Receiver\", width=1000, height=600, \n",
    "                 labels={\n",
    "                     \"Pred_Sep\":'Predicted Separation',\n",
    "                     \"Pass Yds\": \"Rec Yards Per Target\",\n",
    "                     \"Cmp\": \"Catch Rate\",\n",
    "                     'Air_Yds': 'Average Air Yards Per Target'\n",
    "                 },\n",
    "                title=\"Predicted Separation vs Actual Separation (min. 175 targets since 2017) \")\n",
    "\n",
    "fig.update_layout(\n",
    "    xaxis_title=\"Avg Predicted Separation (yds)\",\n",
    "    yaxis_title=\"Avg Separation (yds)\",\n",
    "    font=dict(\n",
    "        size=13))\n",
    "\n",
    "fig.add_shape(\n",
    "        # Diagonal line\n",
    "            type=\"line\",\n",
    "            x0=2,\n",
    "            y0=2,\n",
    "            x1=3.5,\n",
    "            y1=3.5,\n",
    "            line=dict(\n",
    "                color=\"Black\",\n",
    "                width=1,\n",
    "                dash=\"dash\",\n",
    "            )\n",
    ")\n",
    "\n",
    "fig.show()"
   ]
  },
  {
   "cell_type": "markdown",
   "metadata": {},
   "source": [
    "The interactive plot above shows the differences between predicted and actual average separations of receivers with at least 175 targets in the last three seasons. \n",
    "\n",
    "Players **above** the diagonal line excel at gaining separation relative to their peers. \n",
    "\n",
    "This could be a separate [clustering](https://en.wikipedia.org/wiki/K-means_clustering) project altogether, but you will notice 4 distinct groups of players as you travel up and to the right along the line. \n",
    "\n",
    "1. **Bottom Left**\n",
    "    - Tall, Iso wide receviers that go deep often and operate in tight windows\n",
    "        - Best Separation Differential: DeAndre Hopkins, John Brown\n",
    "        - Worst Separation Differential: Kenny Golladay, Allen Robinson\n",
    "2. **Middle-Left**\n",
    "    - Average-sized receivers that move around (between wide, slot) more often and run a larger variety of routes\n",
    "        - Best: Davante Adams, Sammy Watkins\n",
    "        - Worst: Demaryius Thomas, Rob Gronkowski\n",
    "3. **Middle-Right**\n",
    "    - These receivers work almost exclusivly from the slot, and most tend to run shallower routes\n",
    "        - Best: Tyreek Hill, Cooper Kupp\n",
    "        - Worst: Larry Fitzgerald, Golden Tate\n",
    "4. **Top Right**\n",
    "    - Mostly Tight Ends and and exclusive Slot receivers\n",
    "        - Best: Jack Doyle, Austin Hooper\n",
    "        - Worst: Jamison Crowder, Kyle Rudolph"
   ]
  },
  {
   "cell_type": "code",
   "execution_count": 246,
   "metadata": {},
   "outputs": [
    {
     "data": {
      "image/png": "[encoded data removed]",
      "text/plain": [
       "<Figure size 864x576 with 1 Axes>"
      ]
     },
     "metadata": {
      "needs_background": "light"
     },
     "output_type": "display_data"
    }
   ],
   "source": [
    "fig, ax = plt.subplots(figsize = (12,8))\n",
    "\n",
    "fig = sns.regplot(x= 'Air_Yds', y = 'Separation', data = Final_ES)\n",
    "\n",
    "ax.set_title('Average Depth of Target vs. Target Separation (Since 2017)', fontsize = 17)\n",
    "ax.set_ylabel('Target Separation (Yards)', fontsize = 15)\n",
    "fig.text(17.5, 2.83, \"DeSean Jackson\", horizontalalignment='right', size='large', color='black', weight='medium')\n",
    "fig.text(7.5, 2.73, \"Golden Tate\", horizontalalignment='right', size='large', color='black', weight='medium')\n",
    "\n",
    "A = ax.set_xlabel('Average Depth of Target (Air Yards)', fontsize = 15)"
   ]
  },
  {
   "cell_type": "code",
   "execution_count": 258,
   "metadata": {},
   "outputs": [
    {
     "data": {
      "image/png": "[encoded data removed]",
      "text/plain": [
       "<Figure size 864x576 with 1 Axes>"
      ]
     },
     "metadata": {
      "needs_background": "light"
     },
     "output_type": "display_data"
    }
   ],
   "source": [
    "fig, ax = plt.subplots(figsize = (12,8))\n",
    "\n",
    "fig = sns.regplot(x= 'Pred_Sep', y = 'Separation', data = Final_ES)\n",
    "\n",
    "ax.set_title('Predicted Separation vs. Actual Separation (Since 2017)', fontsize = 17)\n",
    "ax.set_ylabel('Target Separation (Yards)', fontsize = 15)\n",
    "fig.text(2.52, 2.8, \"DeSean Jackson\", horizontalalignment='right', size='large', color='black', weight='medium')\n",
    "fig.text(3.25, 2.60, \"Golden Tate\", horizontalalignment='right', size='large', color='black', weight='medium')\n",
    "\n",
    "A = ax.set_xlabel('Average Predicted Separation (Yards)', fontsize = 15)"
   ]
  },
  {
   "cell_type": "markdown",
   "metadata": {},
   "source": [
    "# Main Takeaways\n",
    "\n",
    "   1. Separation Above Expectation is a **better predictor of team success** than Separation\n",
    "       - Separation Above Expectation has a 0.66 correlation to Win % vs .48 for Avg Separation\n",
    "   2. Receiver Separation must be compared holistically by controlling for factors like depth of target, pre-snap cushion, and nearest defender\n",
    "       - **Tyreek Hill, Davante Adams, Cooper Kupp, and Tyler Lockett** some of the best route-runners/separation-getters in the NFL.\n",
    "   3. Compare receviers **within clusters**, and select for positive Separation Above Expectation\n",
    "       - From a team-building perspective, you cannot replace Antonio Brown with JuJu Smith-Schuster (as we all saw). Players with different body types and abilities have different team roles, and need to be accounted for when building a receiving corps. "
   ]
  },
  {
   "cell_type": "markdown",
   "metadata": {},
   "source": [
    "# Potential Improvements\n",
    "\n",
    "If I had more time/resources/data, what would I do to make these predictions better?\n",
    "\n",
    "   1. New Feature - Absolute Yardline\n",
    "      - Absolute yardline (where the play starts from on the field) should be helpful\n",
    "      - What type of coverage is the defense running? Man v Zone?\n",
    "   2. New Feature - Time Left + Score Differential \n",
    "      - What is the game situation? Is one team down 21 points and playing catch up? Is it tied in the 4th quarter?\n",
    "   3. Create different model for each position\n",
    "       - Each position is very specialized, that's the beauty of football\n",
    "           - This model might not understand all of the nuances of separation for every position, but it can be generalized to be applied to all (non-backfield) receivers. There is always a trade-off between applicability and interpretability. If I build separate models for WRs/TEs/RBs it may be more insightful for each position group, but also inherently more complicated to understand and compare accross positions. \n",
    "   4. Hyperparameter tuning\n",
    "      - In the Light Gradient Boosted Model, hyperparameter tuning is time-consuming and computationally heavy. With more time, I would spend more time fine-tuning these paramters to create the most accurate model\n",
    "   5. Targets only\n",
    "      - This dataset only includes instances when the player was targeted, so it has limitations. If we wanted to include all routes, we would have to create a proxy for separation (perhaps at pass forward). \n",
    "   \n",
    "   "
   ]
  },
  {
   "cell_type": "markdown",
   "metadata": {},
   "source": [
    "## Thanks for reading!\n",
    "\n",
    "Thank you all for reading. If you have any questions, suggestions, or any feedback at all, feel free to reach out at JesseDCohen@gmail.com. "
   ]
  }
 ],
 "metadata": {
  "kernelspec": {
   "display_name": "Python 3",
   "language": "python",
   "name": "python3"
  },
  "language_info": {
   "codemirror_mode": {
    "name": "ipython",
    "version": 3
   },
   "file_extension": ".py",
   "mimetype": "text/x-python",
   "name": "python",
   "nbconvert_exporter": "python",
   "pygments_lexer": "ipython3",
   "version": "3.7.3"
  }
 },
 "nbformat": 4,
 "nbformat_minor": 4
}
