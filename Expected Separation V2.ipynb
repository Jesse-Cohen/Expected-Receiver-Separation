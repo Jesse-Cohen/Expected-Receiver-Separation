{
 "cells": [
  {
   "cell_type": "code",
   "execution_count": 1,
   "metadata": {},
   "outputs": [],
   "source": [
    "import pandas as pd\n",
    "import csv\n",
    "import scipy as sp\n",
    "import seaborn as sns\n",
    "import numpy as np\n",
    "import matplotlib.pyplot as plt\n",
    "from datetime import datetime\n",
    "import sklearn as sk\n",
    "from sklearn import preprocessing\n",
    "import math\n",
    "from scipy import stats\n",
    "import statsmodels\n",
    "import numpy.polynomial.polynomial as poly\n",
    "\n",
    "LoadData = \"../data/ExpSepPos.csv\"\n",
    "\n",
    "df = pd.read_csv(LoadData, index_col = False)"
   ]
  },
  {
   "cell_type": "code",
   "execution_count": 2,
   "metadata": {},
   "outputs": [],
   "source": [
    "def get_cube_root(num):\n",
    "    return num ** (1. / 3)"
   ]
  },
  {
   "cell_type": "code",
   "execution_count": 3,
   "metadata": {},
   "outputs": [
    {
     "name": "stdout",
     "output_type": "stream",
     "text": [
      "(53710, 33)\n"
     ]
    },
    {
     "data": {
      "text/html": [
       "<div>\n",
       "<style scoped>\n",
       "    .dataframe tbody tr th:only-of-type {\n",
       "        vertical-align: middle;\n",
       "    }\n",
       "\n",
       "    .dataframe tbody tr th {\n",
       "        vertical-align: top;\n",
       "    }\n",
       "\n",
       "    .dataframe thead th {\n",
       "        text-align: right;\n",
       "    }\n",
       "</style>\n",
       "<table border=\"1\" class=\"dataframe\">\n",
       "  <thead>\n",
       "    <tr style=\"text-align: right;\">\n",
       "      <th></th>\n",
       "      <th>GameId</th>\n",
       "      <th>PlayId</th>\n",
       "      <th>Season</th>\n",
       "      <th>Team</th>\n",
       "      <th>Passer</th>\n",
       "      <th>Receiver</th>\n",
       "      <th>position[player]</th>\n",
       "      <th>Nearest Defender</th>\n",
       "      <th>Nearest Def Position</th>\n",
       "      <th>Opp</th>\n",
       "      <th>...</th>\n",
       "      <th>Air Yds</th>\n",
       "      <th>Air Dist</th>\n",
       "      <th>Air Time</th>\n",
       "      <th>TTT</th>\n",
       "      <th>QB Sep</th>\n",
       "      <th>QBP</th>\n",
       "      <th>Scr Yds</th>\n",
       "      <th>SL Dist</th>\n",
       "      <th>QB (MPH)</th>\n",
       "      <th>EZ Dist</th>\n",
       "    </tr>\n",
       "  </thead>\n",
       "  <tbody>\n",
       "    <tr>\n",
       "      <th>0</th>\n",
       "      <td>2018121610</td>\n",
       "      <td>485</td>\n",
       "      <td>2018</td>\n",
       "      <td>NE</td>\n",
       "      <td>Tom Brady</td>\n",
       "      <td>Chris Hogan</td>\n",
       "      <td>WR</td>\n",
       "      <td>Artie Burns</td>\n",
       "      <td>CB</td>\n",
       "      <td>PIT</td>\n",
       "      <td>...</td>\n",
       "      <td>20.97</td>\n",
       "      <td>30.203684</td>\n",
       "      <td>1.321</td>\n",
       "      <td>3.481</td>\n",
       "      <td>1.291201</td>\n",
       "      <td>1</td>\n",
       "      <td>7.57</td>\n",
       "      <td>11.760000</td>\n",
       "      <td>2.025000</td>\n",
       "      <td>52.029999</td>\n",
       "    </tr>\n",
       "    <tr>\n",
       "      <th>1</th>\n",
       "      <td>2018101411</td>\n",
       "      <td>2051</td>\n",
       "      <td>2018</td>\n",
       "      <td>BAL</td>\n",
       "      <td>Joe Flacco</td>\n",
       "      <td>Michael Crabtree</td>\n",
       "      <td>WR</td>\n",
       "      <td>Kevin Byard</td>\n",
       "      <td>FS</td>\n",
       "      <td>TEN</td>\n",
       "      <td>...</td>\n",
       "      <td>6.00</td>\n",
       "      <td>25.245205</td>\n",
       "      <td>1.135</td>\n",
       "      <td>1.501</td>\n",
       "      <td>4.759349</td>\n",
       "      <td>0</td>\n",
       "      <td>0.78</td>\n",
       "      <td>4.450000</td>\n",
       "      <td>1.779545</td>\n",
       "      <td>51.000000</td>\n",
       "    </tr>\n",
       "    <tr>\n",
       "      <th>2</th>\n",
       "      <td>2017102200</td>\n",
       "      <td>3694</td>\n",
       "      <td>2017</td>\n",
       "      <td>TB</td>\n",
       "      <td>Jameis Winston</td>\n",
       "      <td>O.J. Howard</td>\n",
       "      <td>TE</td>\n",
       "      <td>Lorenzo Alexander</td>\n",
       "      <td>OLB</td>\n",
       "      <td>BUF</td>\n",
       "      <td>...</td>\n",
       "      <td>31.05</td>\n",
       "      <td>50.626010</td>\n",
       "      <td>2.739</td>\n",
       "      <td>4.059</td>\n",
       "      <td>2.687452</td>\n",
       "      <td>0</td>\n",
       "      <td>16.67</td>\n",
       "      <td>2.943331</td>\n",
       "      <td>5.297727</td>\n",
       "      <td>11.949997</td>\n",
       "    </tr>\n",
       "    <tr>\n",
       "      <th>3</th>\n",
       "      <td>2017110502</td>\n",
       "      <td>975</td>\n",
       "      <td>2017</td>\n",
       "      <td>JAX</td>\n",
       "      <td>Blake Bortles</td>\n",
       "      <td>Marcedes Lewis</td>\n",
       "      <td>TE</td>\n",
       "      <td>Shawn Williams</td>\n",
       "      <td>SS</td>\n",
       "      <td>CIN</td>\n",
       "      <td>...</td>\n",
       "      <td>26.29</td>\n",
       "      <td>40.024857</td>\n",
       "      <td>2.197</td>\n",
       "      <td>5.220</td>\n",
       "      <td>1.933132</td>\n",
       "      <td>1</td>\n",
       "      <td>3.56</td>\n",
       "      <td>7.070000</td>\n",
       "      <td>3.477273</td>\n",
       "      <td>18.709999</td>\n",
       "    </tr>\n",
       "    <tr>\n",
       "      <th>4</th>\n",
       "      <td>2019101307</td>\n",
       "      <td>132</td>\n",
       "      <td>2019</td>\n",
       "      <td>ATL</td>\n",
       "      <td>Matt Ryan</td>\n",
       "      <td>Austin Hooper</td>\n",
       "      <td>TE</td>\n",
       "      <td>Terrell Suggs</td>\n",
       "      <td>OLB</td>\n",
       "      <td>ARI</td>\n",
       "      <td>...</td>\n",
       "      <td>3.49</td>\n",
       "      <td>23.068350</td>\n",
       "      <td>1.068</td>\n",
       "      <td>3.403</td>\n",
       "      <td>2.595997</td>\n",
       "      <td>0</td>\n",
       "      <td>5.21</td>\n",
       "      <td>7.460000</td>\n",
       "      <td>1.963636</td>\n",
       "      <td>49.489998</td>\n",
       "    </tr>\n",
       "  </tbody>\n",
       "</table>\n",
       "<p>5 rows × 33 columns</p>\n",
       "</div>"
      ],
      "text/plain": [
       "       GameId  PlayId  Season Team          Passer          Receiver  \\\n",
       "0  2018121610     485    2018   NE       Tom Brady       Chris Hogan   \n",
       "1  2018101411    2051    2018  BAL      Joe Flacco  Michael Crabtree   \n",
       "2  2017102200    3694    2017   TB  Jameis Winston       O.J. Howard   \n",
       "3  2017110502     975    2017  JAX   Blake Bortles    Marcedes Lewis   \n",
       "4  2019101307     132    2019  ATL       Matt Ryan     Austin Hooper   \n",
       "\n",
       "  position[player]   Nearest Defender Nearest Def Position  Opp  ...  Air Yds  \\\n",
       "0               WR        Artie Burns                   CB  PIT  ...    20.97   \n",
       "1               WR        Kevin Byard                   FS  TEN  ...     6.00   \n",
       "2               TE  Lorenzo Alexander                  OLB  BUF  ...    31.05   \n",
       "3               TE     Shawn Williams                   SS  CIN  ...    26.29   \n",
       "4               TE      Terrell Suggs                  OLB  ARI  ...     3.49   \n",
       "\n",
       "    Air Dist Air Time    TTT    QB Sep QBP  Scr Yds    SL Dist  QB (MPH)  \\\n",
       "0  30.203684    1.321  3.481  1.291201   1     7.57  11.760000  2.025000   \n",
       "1  25.245205    1.135  1.501  4.759349   0     0.78   4.450000  1.779545   \n",
       "2  50.626010    2.739  4.059  2.687452   0    16.67   2.943331  5.297727   \n",
       "3  40.024857    2.197  5.220  1.933132   1     3.56   7.070000  3.477273   \n",
       "4  23.068350    1.068  3.403  2.595997   0     5.21   7.460000  1.963636   \n",
       "\n",
       "     EZ Dist  \n",
       "0  52.029999  \n",
       "1  51.000000  \n",
       "2  11.949997  \n",
       "3  18.709999  \n",
       "4  49.489998  \n",
       "\n",
       "[5 rows x 33 columns]"
      ]
     },
     "execution_count": 3,
     "metadata": {},
     "output_type": "execute_result"
    }
   ],
   "source": [
    "print(df.shape)\n",
    "df.head()"
   ]
  },
  {
   "cell_type": "markdown",
   "metadata": {},
   "source": [
    "# Clean Data "
   ]
  },
  {
   "cell_type": "code",
   "execution_count": 8,
   "metadata": {},
   "outputs": [
    {
     "name": "stdout",
     "output_type": "stream",
     "text": [
      "(53710, 14)\n"
     ]
    },
    {
     "data": {
      "text/html": [
       "<div>\n",
       "<style scoped>\n",
       "    .dataframe tbody tr th:only-of-type {\n",
       "        vertical-align: middle;\n",
       "    }\n",
       "\n",
       "    .dataframe tbody tr th {\n",
       "        vertical-align: top;\n",
       "    }\n",
       "\n",
       "    .dataframe thead th {\n",
       "        text-align: right;\n",
       "    }\n",
       "</style>\n",
       "<table border=\"1\" class=\"dataframe\">\n",
       "  <thead>\n",
       "    <tr style=\"text-align: right;\">\n",
       "      <th></th>\n",
       "      <th>Season</th>\n",
       "      <th>Receiver</th>\n",
       "      <th>Pos</th>\n",
       "      <th>Rec_Loc</th>\n",
       "      <th>Cush</th>\n",
       "      <th>WR Sep</th>\n",
       "      <th>Air Yds</th>\n",
       "      <th>Air Dist</th>\n",
       "      <th>Air Time</th>\n",
       "      <th>TTT</th>\n",
       "      <th>QB Sep</th>\n",
       "      <th>SL Dist</th>\n",
       "      <th>QB (MPH)</th>\n",
       "      <th>EZ Dist</th>\n",
       "    </tr>\n",
       "  </thead>\n",
       "  <tbody>\n",
       "    <tr>\n",
       "      <th>0</th>\n",
       "      <td>2018</td>\n",
       "      <td>Chris Hogan</td>\n",
       "      <td>WR</td>\n",
       "      <td>Slot</td>\n",
       "      <td>5.58</td>\n",
       "      <td>19.226980</td>\n",
       "      <td>20.97</td>\n",
       "      <td>30.203684</td>\n",
       "      <td>1.321</td>\n",
       "      <td>3.481</td>\n",
       "      <td>1.291201</td>\n",
       "      <td>11.760000</td>\n",
       "      <td>2.025000</td>\n",
       "      <td>52.029999</td>\n",
       "    </tr>\n",
       "    <tr>\n",
       "      <th>1</th>\n",
       "      <td>2018</td>\n",
       "      <td>Michael Crabtree</td>\n",
       "      <td>WR</td>\n",
       "      <td>Wide</td>\n",
       "      <td>12.75</td>\n",
       "      <td>18.945078</td>\n",
       "      <td>6.00</td>\n",
       "      <td>25.245205</td>\n",
       "      <td>1.135</td>\n",
       "      <td>1.501</td>\n",
       "      <td>4.759349</td>\n",
       "      <td>4.450000</td>\n",
       "      <td>1.779545</td>\n",
       "      <td>51.000000</td>\n",
       "    </tr>\n",
       "    <tr>\n",
       "      <th>2</th>\n",
       "      <td>2017</td>\n",
       "      <td>O.J. Howard</td>\n",
       "      <td>TE</td>\n",
       "      <td>Tight</td>\n",
       "      <td>NaN</td>\n",
       "      <td>18.633497</td>\n",
       "      <td>31.05</td>\n",
       "      <td>50.626010</td>\n",
       "      <td>2.739</td>\n",
       "      <td>4.059</td>\n",
       "      <td>2.687452</td>\n",
       "      <td>2.943331</td>\n",
       "      <td>5.297727</td>\n",
       "      <td>11.949997</td>\n",
       "    </tr>\n",
       "    <tr>\n",
       "      <th>3</th>\n",
       "      <td>2017</td>\n",
       "      <td>Marcedes Lewis</td>\n",
       "      <td>TE</td>\n",
       "      <td>Tight</td>\n",
       "      <td>NaN</td>\n",
       "      <td>17.850281</td>\n",
       "      <td>26.29</td>\n",
       "      <td>40.024857</td>\n",
       "      <td>2.197</td>\n",
       "      <td>5.220</td>\n",
       "      <td>1.933132</td>\n",
       "      <td>7.070000</td>\n",
       "      <td>3.477273</td>\n",
       "      <td>18.709999</td>\n",
       "    </tr>\n",
       "    <tr>\n",
       "      <th>4</th>\n",
       "      <td>2019</td>\n",
       "      <td>Austin Hooper</td>\n",
       "      <td>TE</td>\n",
       "      <td>Tight</td>\n",
       "      <td>5.22</td>\n",
       "      <td>17.593319</td>\n",
       "      <td>3.49</td>\n",
       "      <td>23.068350</td>\n",
       "      <td>1.068</td>\n",
       "      <td>3.403</td>\n",
       "      <td>2.595997</td>\n",
       "      <td>7.460000</td>\n",
       "      <td>1.963636</td>\n",
       "      <td>49.489998</td>\n",
       "    </tr>\n",
       "  </tbody>\n",
       "</table>\n",
       "</div>"
      ],
      "text/plain": [
       "   Season          Receiver Pos Rec_Loc   Cush     WR Sep  Air Yds   Air Dist  \\\n",
       "0    2018       Chris Hogan  WR    Slot   5.58  19.226980    20.97  30.203684   \n",
       "1    2018  Michael Crabtree  WR    Wide  12.75  18.945078     6.00  25.245205   \n",
       "2    2017       O.J. Howard  TE   Tight    NaN  18.633497    31.05  50.626010   \n",
       "3    2017    Marcedes Lewis  TE   Tight    NaN  17.850281    26.29  40.024857   \n",
       "4    2019     Austin Hooper  TE   Tight   5.22  17.593319     3.49  23.068350   \n",
       "\n",
       "   Air Time    TTT    QB Sep    SL Dist  QB (MPH)    EZ Dist  \n",
       "0     1.321  3.481  1.291201  11.760000  2.025000  52.029999  \n",
       "1     1.135  1.501  4.759349   4.450000  1.779545  51.000000  \n",
       "2     2.739  4.059  2.687452   2.943331  5.297727  11.949997  \n",
       "3     2.197  5.220  1.933132   7.070000  3.477273  18.709999  \n",
       "4     1.068  3.403  2.595997   7.460000  1.963636  49.489998  "
      ]
     },
     "execution_count": 8,
     "metadata": {},
     "output_type": "execute_result"
    }
   ],
   "source": [
    "df_1 = df.drop(['Nearest Def Position','Comp Prob %','GameId', 'PlayId','Down', 'Team', 'Nearest Defender', 'Cmp', 'Scr Yds','To Go', 'Opp', 'Wk', 'Qtr', 'Pass Yds', 'INT', 'TD', 'Passer', 'Time', 'QBP'],axis=1)\n",
    "df_1 = df_1.rename(columns = {'Targeted Receiver Location (Simplified)':'Rec_Loc'})\n",
    "#df_1 = df_1.drop(['Rec_Loc'], axis =1)\n",
    "df_1 = df_1.rename(columns = {'position[player]': 'Pos'})\n",
    "df_1 = df_1.rename(columns = {'cushion[player_play (2)] (SUM)':'Cush'})\n",
    "df_1 = df_1.rename(columns = {'Target Sep (CUSTOM)':'WR Sep'})\n",
    "#values = {'Cush': 12.5}\n",
    "#df_1 = df_1.fillna(value=values)\n",
    "df_2 = df_1.drop(['Receiver','Season','Pos','Rec_Loc'], axis =1)\n",
    "#df_1['cr_WR_Sep'] = get_cube_root(df_1[\"WR Sep\"])\n",
    "#df_1 = df_1.dropna(subset=['Rec_Loc'])\n",
    "print(df_1.shape)\n",
    "#df_1['ADxAT'] = df_1['Air Dist']/df_1['Air Time']\n",
    "df_1.head()"
   ]
  },
  {
   "cell_type": "markdown",
   "metadata": {},
   "source": [
    "# Remove Outliers"
   ]
  },
  {
   "cell_type": "code",
   "execution_count": 5,
   "metadata": {},
   "outputs": [],
   "source": [
    "df_1 = df_1[df_1['WR Sep'] <= 12]  "
   ]
  },
  {
   "cell_type": "code",
   "execution_count": 32,
   "metadata": {},
   "outputs": [],
   "source": [
    "#df_1 = pd.get_dummies(df_1)"
   ]
  },
  {
   "cell_type": "markdown",
   "metadata": {},
   "source": [
    "# Data Visualization"
   ]
  },
  {
   "cell_type": "code",
   "execution_count": 6,
   "metadata": {},
   "outputs": [
    {
     "data": {
      "text/plain": [
       "<matplotlib.axes._subplots.AxesSubplot at 0x1a136cc2b0>"
      ]
     },
     "execution_count": 6,
     "metadata": {},
     "output_type": "execute_result"
    },
    {
     "data": {
      "image/png": "[encoded data removed]",
      "text/plain": [
       "<Figure size 576x576 with 2 Axes>"
      ]
     },
     "metadata": {
      "needs_background": "light"
     },
     "output_type": "display_data"
    }
   ],
   "source": [
    "plt.subplots(figsize=(8,8))\n",
    "sns.heatmap(df_1.corr(), annot = True, fmt='.2g')"
   ]
  },
  {
   "cell_type": "code",
   "execution_count": 7,
   "metadata": {},
   "outputs": [
    {
     "data": {
      "text/plain": [
       "<matplotlib.axes._subplots.AxesSubplot at 0x1a13d64198>"
      ]
     },
     "execution_count": 7,
     "metadata": {},
     "output_type": "execute_result"
    },
    {
     "data": {
      "image/png": "[encoded data removed]",
      "text/plain": [
       "<Figure size 432x288 with 1 Axes>"
      ]
     },
     "metadata": {
      "needs_background": "light"
     },
     "output_type": "display_data"
    }
   ],
   "source": [
    "sns.distplot(df_1['WR Sep'])"
   ]
  },
  {
   "cell_type": "code",
   "execution_count": 34,
   "metadata": {},
   "outputs": [],
   "source": [
    "# Box Plot/ Violet Plot of categorical data (rec loc, season, nearest def pos)"
   ]
  },
  {
   "cell_type": "code",
   "execution_count": 25,
   "metadata": {},
   "outputs": [],
   "source": [
    "Wide_df = df_1[df_1['Rec_Loc'] == \"Wide\"]\n",
    "Wide_df = Wide_df[['WR Sep']]\n",
    "\n",
    "Backfield_df = df_1[df_1['Rec_Loc'] == \"Backfield\"]\n",
    "Backfield_df = Backfield_df[['WR Sep']]\n",
    "\n",
    "Slot_df = df_1[df_1['Rec_Loc'] == \"Slot\"]\n",
    "Slot_df = Slot_df[['WR Sep']]\n",
    "\n",
    "Tight_df = df_1[df_1['Rec_Loc'] == \"Tight\"]\n",
    "Tight_df = Tight_df[['WR Sep']]"
   ]
  },
  {
   "cell_type": "code",
   "execution_count": 22,
   "metadata": {},
   "outputs": [
    {
     "data": {
      "text/plain": [
       "WR Sep    9846\n",
       "dtype: int64"
      ]
     },
     "execution_count": 22,
     "metadata": {},
     "output_type": "execute_result"
    }
   ],
   "source": []
  },
  {
   "cell_type": "code",
   "execution_count": 24,
   "metadata": {},
   "outputs": [
    {
     "data": {
      "text/plain": [
       "Ttest_indResult(statistic=69.04140245923303, pvalue=0.0)"
      ]
     },
     "execution_count": 24,
     "metadata": {},
     "output_type": "execute_result"
    }
   ],
   "source": [
    "sp.stats.ttest_ind(Backfield_df['WR Sep'], Wide_df['WR Sep'], equal_var = False, nan_policy = 'omit')"
   ]
  },
  {
   "cell_type": "code",
   "execution_count": 26,
   "metadata": {},
   "outputs": [
    {
     "data": {
      "text/plain": [
       "Ttest_indResult(statistic=15.074003301454077, pvalue=3.4966419346383596e-51)"
      ]
     },
     "execution_count": 26,
     "metadata": {},
     "output_type": "execute_result"
    }
   ],
   "source": [
    "sp.stats.ttest_ind(Slot_df['WR Sep'], Wide_df['WR Sep'], equal_var = False, nan_policy = 'omit')"
   ]
  },
  {
   "cell_type": "code",
   "execution_count": 27,
   "metadata": {},
   "outputs": [
    {
     "data": {
      "text/plain": [
       "Ttest_indResult(statistic=25.387384765483585, pvalue=1.2909593185826747e-136)"
      ]
     },
     "execution_count": 27,
     "metadata": {},
     "output_type": "execute_result"
    }
   ],
   "source": [
    "sp.stats.ttest_ind(Tight_df['WR Sep'], Wide_df['WR Sep'], equal_var = False, nan_policy = 'omit')"
   ]
  },
  {
   "cell_type": "code",
   "execution_count": 28,
   "metadata": {},
   "outputs": [
    {
     "data": {
      "text/plain": [
       "Ttest_indResult(statistic=15.755990192075023, pvalue=3.621348704910499e-55)"
      ]
     },
     "execution_count": 28,
     "metadata": {},
     "output_type": "execute_result"
    }
   ],
   "source": [
    "sp.stats.ttest_ind(Tight_df['WR Sep'], Slot_df['WR Sep'], equal_var = False, nan_policy = 'omit')"
   ]
  },
  {
   "cell_type": "code",
   "execution_count": null,
   "metadata": {},
   "outputs": [],
   "source": [
    "# Welch's T-test for distributions between Wide, Slot, Backfield, Tight\n",
    "#scipy.stats.ttest_ind"
   ]
  },
  {
   "cell_type": "code",
   "execution_count": 8,
   "metadata": {},
   "outputs": [
    {
     "data": {
      "image/png": "[encoded data removed]",
      "text/plain": [
       "<Figure size 432x288 with 1 Axes>"
      ]
     },
     "metadata": {
      "needs_background": "light"
     },
     "output_type": "display_data"
    }
   ],
   "source": [
    "ax = sns.violinplot(x=\"Rec_Loc\", y=\"WR Sep\", data=df_1)"
   ]
  },
  {
   "cell_type": "code",
   "execution_count": 9,
   "metadata": {},
   "outputs": [
    {
     "data": {
      "image/png": "[encoded data removed]",
      "text/plain": [
       "<Figure size 432x288 with 1 Axes>"
      ]
     },
     "metadata": {
      "needs_background": "light"
     },
     "output_type": "display_data"
    }
   ],
   "source": [
    "ax = sns.boxplot(x=\"Rec_Loc\", y=\"WR Sep\", data=df_1)"
   ]
  },
  {
   "cell_type": "code",
   "execution_count": 10,
   "metadata": {},
   "outputs": [
    {
     "data": {
      "text/html": [
       "<div>\n",
       "<style scoped>\n",
       "    .dataframe tbody tr th:only-of-type {\n",
       "        vertical-align: middle;\n",
       "    }\n",
       "\n",
       "    .dataframe tbody tr th {\n",
       "        vertical-align: top;\n",
       "    }\n",
       "\n",
       "    .dataframe thead th {\n",
       "        text-align: right;\n",
       "    }\n",
       "</style>\n",
       "<table border=\"1\" class=\"dataframe\">\n",
       "  <thead>\n",
       "    <tr style=\"text-align: right;\">\n",
       "      <th></th>\n",
       "      <th>Rec_Loc</th>\n",
       "      <th>WR Sep</th>\n",
       "    </tr>\n",
       "  </thead>\n",
       "  <tbody>\n",
       "    <tr>\n",
       "      <th>0</th>\n",
       "      <td>Backfield</td>\n",
       "      <td>4.67</td>\n",
       "    </tr>\n",
       "    <tr>\n",
       "      <th>1</th>\n",
       "      <td>Tight</td>\n",
       "      <td>3.52</td>\n",
       "    </tr>\n",
       "    <tr>\n",
       "      <th>2</th>\n",
       "      <td>Slot</td>\n",
       "      <td>2.95</td>\n",
       "    </tr>\n",
       "    <tr>\n",
       "      <th>3</th>\n",
       "      <td>Wide</td>\n",
       "      <td>2.62</td>\n",
       "    </tr>\n",
       "  </tbody>\n",
       "</table>\n",
       "</div>"
      ],
      "text/plain": [
       "     Rec_Loc  WR Sep\n",
       "0  Backfield    4.67\n",
       "1      Tight    3.52\n",
       "2       Slot    2.95\n",
       "3       Wide    2.62"
      ]
     },
     "execution_count": 10,
     "metadata": {},
     "output_type": "execute_result"
    }
   ],
   "source": [
    "RecLoc_df = df_1[['Rec_Loc', 'WR Sep']]\n",
    "RecLoc_df.head()\n",
    "RecLoc_df.groupby(['Rec_Loc']).mean().round({'WR Sep': 2}).sort_values('WR Sep', ascending = False).reset_index()"
   ]
  },
  {
   "cell_type": "code",
   "execution_count": 16,
   "metadata": {},
   "outputs": [
    {
     "name": "stdout",
     "output_type": "stream",
     "text": [
      "-0.3010095656176298\n"
     ]
    },
    {
     "data": {
      "text/plain": [
       "Text(40, 4.5, 'R^2 = 0.091')"
      ]
     },
     "execution_count": 16,
     "metadata": {},
     "output_type": "execute_result"
    },
    {
     "data": {
      "image/png": "[encoded data removed]",
      "text/plain": [
       "<Figure size 432x288 with 1 Axes>"
      ]
     },
     "metadata": {
      "needs_background": "light"
     },
     "output_type": "display_data"
    }
   ],
   "source": [
    "y = df_1[\"WR Sep\"]\n",
    "x = df_1['Air Dist']\n",
    "p1 = sns.scatterplot(x,y, alpha = 0.01)\n",
    "R = x.corr(y)\n",
    "L = R*R\n",
    "print(R)\n",
    "L = round(L, 3)\n",
    "p1.text(40, 4.5, 'R^2 = {0}'.format(L) , horizontalalignment='left', size='medium', color='black', weight='semibold')"
   ]
  },
  {
   "cell_type": "code",
   "execution_count": 20,
   "metadata": {},
   "outputs": [
    {
     "name": "stdout",
     "output_type": "stream",
     "text": [
      "-0.38461017259998737\n"
     ]
    },
    {
     "data": {
      "text/plain": [
       "Text(40, 4.5, 'R^2 = 0.148')"
      ]
     },
     "execution_count": 20,
     "metadata": {},
     "output_type": "execute_result"
    },
    {
     "data": {
      "image/png": "[encoded data removed]",
      "text/plain": [
       "<Figure size 432x288 with 1 Axes>"
      ]
     },
     "metadata": {
      "needs_background": "light"
     },
     "output_type": "display_data"
    }
   ],
   "source": [
    "y = df_1[\"WR Sep\"]\n",
    "x = df_1['Air Yds']\n",
    "p1 = sns.scatterplot(x,y, alpha = 0.02)\n",
    "R = x.corr(y)\n",
    "L = R*R\n",
    "print(R)\n",
    "L = round(L, 3)\n",
    "p1.text(40, 4.5, 'R^2 = {0}'.format(L) , horizontalalignment='left', size='medium', color='black', weight='semibold')"
   ]
  },
  {
   "cell_type": "code",
   "execution_count": 23,
   "metadata": {},
   "outputs": [
    {
     "name": "stdout",
     "output_type": "stream",
     "text": [
      "0.22222222808496245\n"
     ]
    },
    {
     "data": {
      "text/plain": [
       "Text(12.5, 5.5, 'R^2 = 0.049')"
      ]
     },
     "execution_count": 23,
     "metadata": {},
     "output_type": "execute_result"
    },
    {
     "data": {
      "image/png": "[encoded data removed]",
      "text/plain": [
       "<Figure size 432x288 with 1 Axes>"
      ]
     },
     "metadata": {
      "needs_background": "light"
     },
     "output_type": "display_data"
    }
   ],
   "source": [
    "y = df_1[\"WR Sep\"]\n",
    "x = df_1['Cush']\n",
    "p1 = sns.scatterplot(x,y, alpha = 0.01)\n",
    "R = x.corr(y)\n",
    "L = R*R\n",
    "print(R)\n",
    "L = round(L, 3)\n",
    "p1.text(12.5, 5.5, 'R^2 = {0}'.format(L) , horizontalalignment='left', size='medium', color='black', weight='semibold')"
   ]
  },
  {
   "cell_type": "code",
   "execution_count": 15,
   "metadata": {},
   "outputs": [
    {
     "data": {
      "text/plain": [
       "<matplotlib.axes._subplots.AxesSubplot at 0x1a18015a58>"
      ]
     },
     "execution_count": 15,
     "metadata": {},
     "output_type": "execute_result"
    },
    {
     "data": {
      "image/png": "[encoded data removed]",
      "text/plain": [
       "<Figure size 432x288 with 1 Axes>"
      ]
     },
     "metadata": {
      "needs_background": "light"
     },
     "output_type": "display_data"
    }
   ],
   "source": [
    "sns.distplot(df.dropna()['cushion[player_play (2)] (SUM)'])"
   ]
  },
  {
   "cell_type": "code",
   "execution_count": 94,
   "metadata": {},
   "outputs": [
    {
     "data": {
      "text/plain": [
       "<matplotlib.axes._subplots.AxesSubplot at 0x1a1fc70cc0>"
      ]
     },
     "execution_count": 94,
     "metadata": {},
     "output_type": "execute_result"
    },
    {
     "data": {
      "image/png": "[encoded data removed]",
      "text/plain": [
       "<Figure size 432x288 with 1 Axes>"
      ]
     },
     "metadata": {
      "needs_background": "light"
     },
     "output_type": "display_data"
    }
   ],
   "source": [
    "sns.distplot(df.dropna().loc[df.dropna()['Nearest Def Position']=='CB']['cushion[player_play (2)] (SUM)'])\n"
   ]
  },
  {
   "cell_type": "code",
   "execution_count": 93,
   "metadata": {},
   "outputs": [
    {
     "data": {
      "text/plain": [
       "<matplotlib.axes._subplots.AxesSubplot at 0x1a1fc36160>"
      ]
     },
     "execution_count": 93,
     "metadata": {},
     "output_type": "execute_result"
    },
    {
     "data": {
      "image/png": "[encoded data removed]",
      "text/plain": [
       "<Figure size 432x288 with 1 Axes>"
      ]
     },
     "metadata": {
      "needs_background": "light"
     },
     "output_type": "display_data"
    }
   ],
   "source": [
    "sns.distplot(df_1.dropna()['Cush'])"
   ]
  },
  {
   "cell_type": "markdown",
   "metadata": {},
   "source": [
    "# Create Columns for 2 Different Air Yard Depths"
   ]
  },
  {
   "cell_type": "code",
   "execution_count": 468,
   "metadata": {},
   "outputs": [
    {
     "data": {
      "text/html": [
       "<div>\n",
       "<style scoped>\n",
       "    .dataframe tbody tr th:only-of-type {\n",
       "        vertical-align: middle;\n",
       "    }\n",
       "\n",
       "    .dataframe tbody tr th {\n",
       "        vertical-align: top;\n",
       "    }\n",
       "\n",
       "    .dataframe thead th {\n",
       "        text-align: right;\n",
       "    }\n",
       "</style>\n",
       "<table border=\"1\" class=\"dataframe\">\n",
       "  <thead>\n",
       "    <tr style=\"text-align: right;\">\n",
       "      <th></th>\n",
       "      <th>Season</th>\n",
       "      <th>Receiver</th>\n",
       "      <th>Pos</th>\n",
       "      <th>Rec_Loc</th>\n",
       "      <th>Cush</th>\n",
       "      <th>WR Sep</th>\n",
       "      <th>Air Yds</th>\n",
       "      <th>Air Dist</th>\n",
       "      <th>Air Time</th>\n",
       "      <th>TTT</th>\n",
       "      <th>QB Sep</th>\n",
       "      <th>SL Dist</th>\n",
       "      <th>QB (MPH)</th>\n",
       "      <th>EZ Dist</th>\n",
       "      <th>ADxAT</th>\n",
       "      <th>AY_B_10</th>\n",
       "      <th>AY_10+</th>\n",
       "    </tr>\n",
       "  </thead>\n",
       "  <tbody>\n",
       "    <tr>\n",
       "      <th>0</th>\n",
       "      <td>2018</td>\n",
       "      <td>Chris Hogan</td>\n",
       "      <td>WR</td>\n",
       "      <td>Slot</td>\n",
       "      <td>5.58</td>\n",
       "      <td>19.226980</td>\n",
       "      <td>20.97</td>\n",
       "      <td>30.203684</td>\n",
       "      <td>1.321</td>\n",
       "      <td>3.481</td>\n",
       "      <td>1.291201</td>\n",
       "      <td>11.760000</td>\n",
       "      <td>2.025000</td>\n",
       "      <td>52.029999</td>\n",
       "      <td>22.864257</td>\n",
       "      <td>0.00</td>\n",
       "      <td>20.97</td>\n",
       "    </tr>\n",
       "    <tr>\n",
       "      <th>1</th>\n",
       "      <td>2018</td>\n",
       "      <td>Michael Crabtree</td>\n",
       "      <td>WR</td>\n",
       "      <td>Wide</td>\n",
       "      <td>12.75</td>\n",
       "      <td>18.945078</td>\n",
       "      <td>6.00</td>\n",
       "      <td>25.245205</td>\n",
       "      <td>1.135</td>\n",
       "      <td>1.501</td>\n",
       "      <td>4.759349</td>\n",
       "      <td>4.450000</td>\n",
       "      <td>1.779545</td>\n",
       "      <td>51.000000</td>\n",
       "      <td>22.242471</td>\n",
       "      <td>6.00</td>\n",
       "      <td>0.00</td>\n",
       "    </tr>\n",
       "    <tr>\n",
       "      <th>2</th>\n",
       "      <td>2017</td>\n",
       "      <td>O.J. Howard</td>\n",
       "      <td>TE</td>\n",
       "      <td>Tight</td>\n",
       "      <td>12.50</td>\n",
       "      <td>18.633497</td>\n",
       "      <td>31.05</td>\n",
       "      <td>50.626010</td>\n",
       "      <td>2.739</td>\n",
       "      <td>4.059</td>\n",
       "      <td>2.687452</td>\n",
       "      <td>2.943331</td>\n",
       "      <td>5.297727</td>\n",
       "      <td>11.949997</td>\n",
       "      <td>18.483392</td>\n",
       "      <td>0.00</td>\n",
       "      <td>31.05</td>\n",
       "    </tr>\n",
       "    <tr>\n",
       "      <th>3</th>\n",
       "      <td>2017</td>\n",
       "      <td>Marcedes Lewis</td>\n",
       "      <td>TE</td>\n",
       "      <td>Tight</td>\n",
       "      <td>12.50</td>\n",
       "      <td>17.850281</td>\n",
       "      <td>26.29</td>\n",
       "      <td>40.024857</td>\n",
       "      <td>2.197</td>\n",
       "      <td>5.220</td>\n",
       "      <td>1.933132</td>\n",
       "      <td>7.070000</td>\n",
       "      <td>3.477273</td>\n",
       "      <td>18.709999</td>\n",
       "      <td>18.217959</td>\n",
       "      <td>0.00</td>\n",
       "      <td>26.29</td>\n",
       "    </tr>\n",
       "    <tr>\n",
       "      <th>4</th>\n",
       "      <td>2019</td>\n",
       "      <td>Austin Hooper</td>\n",
       "      <td>TE</td>\n",
       "      <td>Tight</td>\n",
       "      <td>5.22</td>\n",
       "      <td>17.593319</td>\n",
       "      <td>3.49</td>\n",
       "      <td>23.068350</td>\n",
       "      <td>1.068</td>\n",
       "      <td>3.403</td>\n",
       "      <td>2.595997</td>\n",
       "      <td>7.460000</td>\n",
       "      <td>1.963636</td>\n",
       "      <td>49.489998</td>\n",
       "      <td>21.599579</td>\n",
       "      <td>3.49</td>\n",
       "      <td>0.00</td>\n",
       "    </tr>\n",
       "  </tbody>\n",
       "</table>\n",
       "</div>"
      ],
      "text/plain": [
       "   Season          Receiver Pos Rec_Loc   Cush     WR Sep  Air Yds   Air Dist  \\\n",
       "0    2018       Chris Hogan  WR    Slot   5.58  19.226980    20.97  30.203684   \n",
       "1    2018  Michael Crabtree  WR    Wide  12.75  18.945078     6.00  25.245205   \n",
       "2    2017       O.J. Howard  TE   Tight  12.50  18.633497    31.05  50.626010   \n",
       "3    2017    Marcedes Lewis  TE   Tight  12.50  17.850281    26.29  40.024857   \n",
       "4    2019     Austin Hooper  TE   Tight   5.22  17.593319     3.49  23.068350   \n",
       "\n",
       "   Air Time    TTT    QB Sep    SL Dist  QB (MPH)    EZ Dist      ADxAT  \\\n",
       "0     1.321  3.481  1.291201  11.760000  2.025000  52.029999  22.864257   \n",
       "1     1.135  1.501  4.759349   4.450000  1.779545  51.000000  22.242471   \n",
       "2     2.739  4.059  2.687452   2.943331  5.297727  11.949997  18.483392   \n",
       "3     2.197  5.220  1.933132   7.070000  3.477273  18.709999  18.217959   \n",
       "4     1.068  3.403  2.595997   7.460000  1.963636  49.489998  21.599579   \n",
       "\n",
       "   AY_B_10  AY_10+  \n",
       "0     0.00   20.97  \n",
       "1     6.00    0.00  \n",
       "2     0.00   31.05  \n",
       "3     0.00   26.29  \n",
       "4     3.49    0.00  "
      ]
     },
     "execution_count": 468,
     "metadata": {},
     "output_type": "execute_result"
    }
   ],
   "source": [
    "#df_1['AY_B0'] = 0\n",
    "#df_1['AY_0_10'] = 0\n",
    "#df_1['AY_10_20'] = 0\n",
    "#df_1['AY_20+'] = 0\n",
    "\n",
    "df_1['AY_B_10'] = 0\n",
    "df_1['AY_10+'] = 0\n",
    "\n",
    "#df_1.loc[df_1['Air Yds'] < 0 , ['AY_B0']] = 1\n",
    "#df_1.loc[(df_1['Air Yds'] >= 0) & (df_1['Air Yds'] < 10), ['AY_0_10']] = 1\n",
    "#df_1.loc[(df_1['Air Yds'] >= 10) & (df_1['Air Yds'] <= 20), ['AY_10_20']] = 1\n",
    "#df_1.loc[df_1['Air Yds'] > 20 , ['AY_20+']] = 1\n",
    "\n",
    "df_1.loc[df_1['Air Yds'] < 10 , ['AY_B_10']] = 1\n",
    "df_1.loc[df_1['Air Yds'] >= 10 , ['AY_10+']] = 1\n",
    "\n",
    "#df_1['AY_B0'] = df_1['AY_B0']*df_1['Air Yds']\n",
    "#df_1['AY_0_10'] = df_1['AY_0_10']*df_1['Air Yds']\n",
    "#df_1['AY_10_20'] = df_1['AY_10_20']*df_1['Air Yds']\n",
    "#df_1['AY_20+'] = df_1['AY_20+']*df_1['Air Yds']\n",
    "\n",
    "df_1['AY_B_10'] = df_1['AY_B_10']*df_1['Air Yds']\n",
    "df_1['AY_10+'] = df_1['AY_10+']*df_1['Air Yds']\n",
    "\n",
    "df_1.head(5)\n"
   ]
  },
  {
   "cell_type": "markdown",
   "metadata": {},
   "source": [
    "## Add Transformed/Interactive Columns to DF"
   ]
  },
  {
   "cell_type": "code",
   "execution_count": 438,
   "metadata": {},
   "outputs": [
    {
     "name": "stdout",
     "output_type": "stream",
     "text": [
      "(53710, 12)\n"
     ]
    },
    {
     "data": {
      "text/html": [
       "<div>\n",
       "<style scoped>\n",
       "    .dataframe tbody tr th:only-of-type {\n",
       "        vertical-align: middle;\n",
       "    }\n",
       "\n",
       "    .dataframe tbody tr th {\n",
       "        vertical-align: top;\n",
       "    }\n",
       "\n",
       "    .dataframe thead th {\n",
       "        text-align: right;\n",
       "    }\n",
       "</style>\n",
       "<table border=\"1\" class=\"dataframe\">\n",
       "  <thead>\n",
       "    <tr style=\"text-align: right;\">\n",
       "      <th></th>\n",
       "      <th>Cush</th>\n",
       "      <th>WR Sep</th>\n",
       "      <th>Air Yds</th>\n",
       "      <th>Air Dist</th>\n",
       "      <th>Air Time</th>\n",
       "      <th>TTT</th>\n",
       "      <th>QB Sep</th>\n",
       "      <th>SL Dist</th>\n",
       "      <th>QB (MPH)</th>\n",
       "      <th>EZ Dist</th>\n",
       "      <th>AY_B_10</th>\n",
       "      <th>AY_10+</th>\n",
       "    </tr>\n",
       "  </thead>\n",
       "  <tbody>\n",
       "    <tr>\n",
       "      <th>Cush</th>\n",
       "      <td>1.000000</td>\n",
       "      <td>0.332005</td>\n",
       "      <td>-0.336536</td>\n",
       "      <td>-0.300972</td>\n",
       "      <td>-0.253218</td>\n",
       "      <td>-0.009351</td>\n",
       "      <td>0.040530</td>\n",
       "      <td>0.153499</td>\n",
       "      <td>0.080944</td>\n",
       "      <td>0.043450</td>\n",
       "      <td>-0.199608</td>\n",
       "      <td>-0.253319</td>\n",
       "    </tr>\n",
       "    <tr>\n",
       "      <th>WR Sep</th>\n",
       "      <td>0.332005</td>\n",
       "      <td>1.000000</td>\n",
       "      <td>-0.375514</td>\n",
       "      <td>-0.283871</td>\n",
       "      <td>-0.265244</td>\n",
       "      <td>-0.066722</td>\n",
       "      <td>0.133880</td>\n",
       "      <td>0.067496</td>\n",
       "      <td>0.061612</td>\n",
       "      <td>0.098555</td>\n",
       "      <td>-0.228724</td>\n",
       "      <td>-0.280612</td>\n",
       "    </tr>\n",
       "    <tr>\n",
       "      <th>Air Yds</th>\n",
       "      <td>-0.336536</td>\n",
       "      <td>-0.375514</td>\n",
       "      <td>1.000000</td>\n",
       "      <td>0.898431</td>\n",
       "      <td>0.830729</td>\n",
       "      <td>0.353755</td>\n",
       "      <td>-0.178193</td>\n",
       "      <td>-0.245284</td>\n",
       "      <td>-0.061546</td>\n",
       "      <td>-0.133550</td>\n",
       "      <td>0.043792</td>\n",
       "      <td>0.940128</td>\n",
       "    </tr>\n",
       "    <tr>\n",
       "      <th>Air Dist</th>\n",
       "      <td>-0.300972</td>\n",
       "      <td>-0.283871</td>\n",
       "      <td>0.898431</td>\n",
       "      <td>1.000000</td>\n",
       "      <td>0.916973</td>\n",
       "      <td>0.281818</td>\n",
       "      <td>-0.139990</td>\n",
       "      <td>-0.544893</td>\n",
       "      <td>-0.075890</td>\n",
       "      <td>-0.132687</td>\n",
       "      <td>-0.042412</td>\n",
       "      <td>0.872532</td>\n",
       "    </tr>\n",
       "    <tr>\n",
       "      <th>Air Time</th>\n",
       "      <td>-0.253218</td>\n",
       "      <td>-0.265244</td>\n",
       "      <td>0.830729</td>\n",
       "      <td>0.916973</td>\n",
       "      <td>1.000000</td>\n",
       "      <td>0.262250</td>\n",
       "      <td>-0.163091</td>\n",
       "      <td>-0.484594</td>\n",
       "      <td>-0.029678</td>\n",
       "      <td>-0.175468</td>\n",
       "      <td>-0.108365</td>\n",
       "      <td>0.830371</td>\n",
       "    </tr>\n",
       "    <tr>\n",
       "      <th>TTT</th>\n",
       "      <td>-0.009351</td>\n",
       "      <td>-0.066722</td>\n",
       "      <td>0.353755</td>\n",
       "      <td>0.281818</td>\n",
       "      <td>0.262250</td>\n",
       "      <td>1.000000</td>\n",
       "      <td>-0.156802</td>\n",
       "      <td>-0.132648</td>\n",
       "      <td>0.483873</td>\n",
       "      <td>-0.001603</td>\n",
       "      <td>-0.007530</td>\n",
       "      <td>0.340429</td>\n",
       "    </tr>\n",
       "    <tr>\n",
       "      <th>QB Sep</th>\n",
       "      <td>0.040530</td>\n",
       "      <td>0.133880</td>\n",
       "      <td>-0.178193</td>\n",
       "      <td>-0.139990</td>\n",
       "      <td>-0.163091</td>\n",
       "      <td>-0.156802</td>\n",
       "      <td>1.000000</td>\n",
       "      <td>-0.036545</td>\n",
       "      <td>0.151742</td>\n",
       "      <td>-0.023845</td>\n",
       "      <td>-0.088594</td>\n",
       "      <td>-0.139963</td>\n",
       "    </tr>\n",
       "    <tr>\n",
       "      <th>SL Dist</th>\n",
       "      <td>0.153499</td>\n",
       "      <td>0.067496</td>\n",
       "      <td>-0.245284</td>\n",
       "      <td>-0.544893</td>\n",
       "      <td>-0.484594</td>\n",
       "      <td>-0.132648</td>\n",
       "      <td>-0.036545</td>\n",
       "      <td>1.000000</td>\n",
       "      <td>-0.155471</td>\n",
       "      <td>0.081764</td>\n",
       "      <td>0.020251</td>\n",
       "      <td>-0.241172</td>\n",
       "    </tr>\n",
       "    <tr>\n",
       "      <th>QB (MPH)</th>\n",
       "      <td>0.080944</td>\n",
       "      <td>0.061612</td>\n",
       "      <td>-0.061546</td>\n",
       "      <td>-0.075890</td>\n",
       "      <td>-0.029678</td>\n",
       "      <td>0.483873</td>\n",
       "      <td>0.151742</td>\n",
       "      <td>-0.155471</td>\n",
       "      <td>1.000000</td>\n",
       "      <td>-0.049750</td>\n",
       "      <td>-0.133908</td>\n",
       "      <td>-0.013098</td>\n",
       "    </tr>\n",
       "    <tr>\n",
       "      <th>EZ Dist</th>\n",
       "      <td>0.043450</td>\n",
       "      <td>0.098555</td>\n",
       "      <td>-0.133550</td>\n",
       "      <td>-0.132687</td>\n",
       "      <td>-0.175468</td>\n",
       "      <td>-0.001603</td>\n",
       "      <td>-0.023845</td>\n",
       "      <td>0.081764</td>\n",
       "      <td>-0.049750</td>\n",
       "      <td>1.000000</td>\n",
       "      <td>0.046492</td>\n",
       "      <td>-0.143410</td>\n",
       "    </tr>\n",
       "    <tr>\n",
       "      <th>AY_B_10</th>\n",
       "      <td>-0.199608</td>\n",
       "      <td>-0.228724</td>\n",
       "      <td>0.043792</td>\n",
       "      <td>-0.042412</td>\n",
       "      <td>-0.108365</td>\n",
       "      <td>-0.007530</td>\n",
       "      <td>-0.088594</td>\n",
       "      <td>0.020251</td>\n",
       "      <td>-0.133908</td>\n",
       "      <td>0.046492</td>\n",
       "      <td>1.000000</td>\n",
       "      <td>-0.299323</td>\n",
       "    </tr>\n",
       "    <tr>\n",
       "      <th>AY_10+</th>\n",
       "      <td>-0.253319</td>\n",
       "      <td>-0.280612</td>\n",
       "      <td>0.940128</td>\n",
       "      <td>0.872532</td>\n",
       "      <td>0.830371</td>\n",
       "      <td>0.340429</td>\n",
       "      <td>-0.139963</td>\n",
       "      <td>-0.241172</td>\n",
       "      <td>-0.013098</td>\n",
       "      <td>-0.143410</td>\n",
       "      <td>-0.299323</td>\n",
       "      <td>1.000000</td>\n",
       "    </tr>\n",
       "  </tbody>\n",
       "</table>\n",
       "</div>"
      ],
      "text/plain": [
       "              Cush    WR Sep   Air Yds  Air Dist  Air Time       TTT  \\\n",
       "Cush      1.000000  0.332005 -0.336536 -0.300972 -0.253218 -0.009351   \n",
       "WR Sep    0.332005  1.000000 -0.375514 -0.283871 -0.265244 -0.066722   \n",
       "Air Yds  -0.336536 -0.375514  1.000000  0.898431  0.830729  0.353755   \n",
       "Air Dist -0.300972 -0.283871  0.898431  1.000000  0.916973  0.281818   \n",
       "Air Time -0.253218 -0.265244  0.830729  0.916973  1.000000  0.262250   \n",
       "TTT      -0.009351 -0.066722  0.353755  0.281818  0.262250  1.000000   \n",
       "QB Sep    0.040530  0.133880 -0.178193 -0.139990 -0.163091 -0.156802   \n",
       "SL Dist   0.153499  0.067496 -0.245284 -0.544893 -0.484594 -0.132648   \n",
       "QB (MPH)  0.080944  0.061612 -0.061546 -0.075890 -0.029678  0.483873   \n",
       "EZ Dist   0.043450  0.098555 -0.133550 -0.132687 -0.175468 -0.001603   \n",
       "AY_B_10  -0.199608 -0.228724  0.043792 -0.042412 -0.108365 -0.007530   \n",
       "AY_10+   -0.253319 -0.280612  0.940128  0.872532  0.830371  0.340429   \n",
       "\n",
       "            QB Sep   SL Dist  QB (MPH)   EZ Dist   AY_B_10    AY_10+  \n",
       "Cush      0.040530  0.153499  0.080944  0.043450 -0.199608 -0.253319  \n",
       "WR Sep    0.133880  0.067496  0.061612  0.098555 -0.228724 -0.280612  \n",
       "Air Yds  -0.178193 -0.245284 -0.061546 -0.133550  0.043792  0.940128  \n",
       "Air Dist -0.139990 -0.544893 -0.075890 -0.132687 -0.042412  0.872532  \n",
       "Air Time -0.163091 -0.484594 -0.029678 -0.175468 -0.108365  0.830371  \n",
       "TTT      -0.156802 -0.132648  0.483873 -0.001603 -0.007530  0.340429  \n",
       "QB Sep    1.000000 -0.036545  0.151742 -0.023845 -0.088594 -0.139963  \n",
       "SL Dist  -0.036545  1.000000 -0.155471  0.081764  0.020251 -0.241172  \n",
       "QB (MPH)  0.151742 -0.155471  1.000000 -0.049750 -0.133908 -0.013098  \n",
       "EZ Dist  -0.023845  0.081764 -0.049750  1.000000  0.046492 -0.143410  \n",
       "AY_B_10  -0.088594  0.020251 -0.133908  0.046492  1.000000 -0.299323  \n",
       "AY_10+   -0.139963 -0.241172 -0.013098 -0.143410 -0.299323  1.000000  "
      ]
     },
     "execution_count": 438,
     "metadata": {},
     "output_type": "execute_result"
    }
   ],
   "source": [
    "#df_1['log_air_dist'] = np.log(df_1['Air Dist'])\n",
    "#df_1['cr_air_yds'] = get_cube_root(df_1[\"Air Yds\"])\n",
    "#df_1['cr_WR_Sep'] = get_cube_root(df_1[\"WR Sep\"])\n",
    "#df_1['EZxSL'] = df_1['SL Dist']+df_1['EZ Dist']\n",
    "#df_1['AD/AT'] = df_1['Air Dist']/df_1['Air Time']\n",
    "#df_1 = df_1.dropna()\n",
    "\n",
    "#Scale all input variables from 0-1 to be consistent\n",
    "\n",
    "print(df_1.shape)\n",
    "\n",
    "df_1.corr()\n"
   ]
  },
  {
   "cell_type": "code",
   "execution_count": 27,
   "metadata": {
    "collapsed": true
   },
   "outputs": [
    {
     "ename": "KeyError",
     "evalue": "\"['ADxAT' 'WR_Sep_pred'] not found in axis\"",
     "output_type": "error",
     "traceback": [
      "\u001b[0;31m---------------------------------------------------------------------------\u001b[0m",
      "\u001b[0;31mKeyError\u001b[0m                                  Traceback (most recent call last)",
      "\u001b[0;32m<ipython-input-27-8214fec0addb>\u001b[0m in \u001b[0;36m<module>\u001b[0;34m\u001b[0m\n\u001b[0;32m----> 1\u001b[0;31m \u001b[0mdf_2\u001b[0m \u001b[0;34m=\u001b[0m \u001b[0mdf_1\u001b[0m\u001b[0;34m.\u001b[0m\u001b[0mdrop\u001b[0m\u001b[0;34m(\u001b[0m\u001b[0;34m[\u001b[0m\u001b[0;34m'SL Dist'\u001b[0m\u001b[0;34m,\u001b[0m \u001b[0;34m'QB (MPH)'\u001b[0m\u001b[0;34m,\u001b[0m\u001b[0;34m'EZ Dist'\u001b[0m\u001b[0;34m,\u001b[0m \u001b[0;34m'Rec_Loc'\u001b[0m\u001b[0;34m,\u001b[0m \u001b[0;34m'Pos'\u001b[0m\u001b[0;34m,\u001b[0m\u001b[0;34m'Receiver'\u001b[0m\u001b[0;34m,\u001b[0m\u001b[0;34m'Season'\u001b[0m\u001b[0;34m,\u001b[0m \u001b[0;34m'ADxAT'\u001b[0m\u001b[0;34m,\u001b[0m \u001b[0;34m'WR_Sep_pred'\u001b[0m \u001b[0;34m]\u001b[0m\u001b[0;34m,\u001b[0m \u001b[0maxis\u001b[0m \u001b[0;34m=\u001b[0m \u001b[0;36m1\u001b[0m\u001b[0;34m)\u001b[0m\u001b[0;34m\u001b[0m\u001b[0;34m\u001b[0m\u001b[0m\n\u001b[0m\u001b[1;32m      2\u001b[0m \u001b[0mdf_2\u001b[0m\u001b[0;34m.\u001b[0m\u001b[0mhead\u001b[0m\u001b[0;34m(\u001b[0m\u001b[0;34m)\u001b[0m\u001b[0;34m\u001b[0m\u001b[0;34m\u001b[0m\u001b[0m\n",
      "\u001b[0;32m//anaconda3/lib/python3.7/site-packages/pandas/core/frame.py\u001b[0m in \u001b[0;36mdrop\u001b[0;34m(self, labels, axis, index, columns, level, inplace, errors)\u001b[0m\n\u001b[1;32m   3938\u001b[0m                                            \u001b[0mindex\u001b[0m\u001b[0;34m=\u001b[0m\u001b[0mindex\u001b[0m\u001b[0;34m,\u001b[0m \u001b[0mcolumns\u001b[0m\u001b[0;34m=\u001b[0m\u001b[0mcolumns\u001b[0m\u001b[0;34m,\u001b[0m\u001b[0;34m\u001b[0m\u001b[0;34m\u001b[0m\u001b[0m\n\u001b[1;32m   3939\u001b[0m                                            \u001b[0mlevel\u001b[0m\u001b[0;34m=\u001b[0m\u001b[0mlevel\u001b[0m\u001b[0;34m,\u001b[0m \u001b[0minplace\u001b[0m\u001b[0;34m=\u001b[0m\u001b[0minplace\u001b[0m\u001b[0;34m,\u001b[0m\u001b[0;34m\u001b[0m\u001b[0;34m\u001b[0m\u001b[0m\n\u001b[0;32m-> 3940\u001b[0;31m                                            errors=errors)\n\u001b[0m\u001b[1;32m   3941\u001b[0m \u001b[0;34m\u001b[0m\u001b[0m\n\u001b[1;32m   3942\u001b[0m     @rewrite_axis_style_signature('mapper', [('copy', True),\n",
      "\u001b[0;32m//anaconda3/lib/python3.7/site-packages/pandas/core/generic.py\u001b[0m in \u001b[0;36mdrop\u001b[0;34m(self, labels, axis, index, columns, level, inplace, errors)\u001b[0m\n\u001b[1;32m   3778\u001b[0m         \u001b[0;32mfor\u001b[0m \u001b[0maxis\u001b[0m\u001b[0;34m,\u001b[0m \u001b[0mlabels\u001b[0m \u001b[0;32min\u001b[0m \u001b[0maxes\u001b[0m\u001b[0;34m.\u001b[0m\u001b[0mitems\u001b[0m\u001b[0;34m(\u001b[0m\u001b[0;34m)\u001b[0m\u001b[0;34m:\u001b[0m\u001b[0;34m\u001b[0m\u001b[0;34m\u001b[0m\u001b[0m\n\u001b[1;32m   3779\u001b[0m             \u001b[0;32mif\u001b[0m \u001b[0mlabels\u001b[0m \u001b[0;32mis\u001b[0m \u001b[0;32mnot\u001b[0m \u001b[0;32mNone\u001b[0m\u001b[0;34m:\u001b[0m\u001b[0;34m\u001b[0m\u001b[0;34m\u001b[0m\u001b[0m\n\u001b[0;32m-> 3780\u001b[0;31m                 \u001b[0mobj\u001b[0m \u001b[0;34m=\u001b[0m \u001b[0mobj\u001b[0m\u001b[0;34m.\u001b[0m\u001b[0m_drop_axis\u001b[0m\u001b[0;34m(\u001b[0m\u001b[0mlabels\u001b[0m\u001b[0;34m,\u001b[0m \u001b[0maxis\u001b[0m\u001b[0;34m,\u001b[0m \u001b[0mlevel\u001b[0m\u001b[0;34m=\u001b[0m\u001b[0mlevel\u001b[0m\u001b[0;34m,\u001b[0m \u001b[0merrors\u001b[0m\u001b[0;34m=\u001b[0m\u001b[0merrors\u001b[0m\u001b[0;34m)\u001b[0m\u001b[0;34m\u001b[0m\u001b[0;34m\u001b[0m\u001b[0m\n\u001b[0m\u001b[1;32m   3781\u001b[0m \u001b[0;34m\u001b[0m\u001b[0m\n\u001b[1;32m   3782\u001b[0m         \u001b[0;32mif\u001b[0m \u001b[0minplace\u001b[0m\u001b[0;34m:\u001b[0m\u001b[0;34m\u001b[0m\u001b[0;34m\u001b[0m\u001b[0m\n",
      "\u001b[0;32m//anaconda3/lib/python3.7/site-packages/pandas/core/generic.py\u001b[0m in \u001b[0;36m_drop_axis\u001b[0;34m(self, labels, axis, level, errors)\u001b[0m\n\u001b[1;32m   3810\u001b[0m                 \u001b[0mnew_axis\u001b[0m \u001b[0;34m=\u001b[0m \u001b[0maxis\u001b[0m\u001b[0;34m.\u001b[0m\u001b[0mdrop\u001b[0m\u001b[0;34m(\u001b[0m\u001b[0mlabels\u001b[0m\u001b[0;34m,\u001b[0m \u001b[0mlevel\u001b[0m\u001b[0;34m=\u001b[0m\u001b[0mlevel\u001b[0m\u001b[0;34m,\u001b[0m \u001b[0merrors\u001b[0m\u001b[0;34m=\u001b[0m\u001b[0merrors\u001b[0m\u001b[0;34m)\u001b[0m\u001b[0;34m\u001b[0m\u001b[0;34m\u001b[0m\u001b[0m\n\u001b[1;32m   3811\u001b[0m             \u001b[0;32melse\u001b[0m\u001b[0;34m:\u001b[0m\u001b[0;34m\u001b[0m\u001b[0;34m\u001b[0m\u001b[0m\n\u001b[0;32m-> 3812\u001b[0;31m                 \u001b[0mnew_axis\u001b[0m \u001b[0;34m=\u001b[0m \u001b[0maxis\u001b[0m\u001b[0;34m.\u001b[0m\u001b[0mdrop\u001b[0m\u001b[0;34m(\u001b[0m\u001b[0mlabels\u001b[0m\u001b[0;34m,\u001b[0m \u001b[0merrors\u001b[0m\u001b[0;34m=\u001b[0m\u001b[0merrors\u001b[0m\u001b[0;34m)\u001b[0m\u001b[0;34m\u001b[0m\u001b[0;34m\u001b[0m\u001b[0m\n\u001b[0m\u001b[1;32m   3813\u001b[0m             \u001b[0mresult\u001b[0m \u001b[0;34m=\u001b[0m \u001b[0mself\u001b[0m\u001b[0;34m.\u001b[0m\u001b[0mreindex\u001b[0m\u001b[0;34m(\u001b[0m\u001b[0;34m**\u001b[0m\u001b[0;34m{\u001b[0m\u001b[0maxis_name\u001b[0m\u001b[0;34m:\u001b[0m \u001b[0mnew_axis\u001b[0m\u001b[0;34m}\u001b[0m\u001b[0;34m)\u001b[0m\u001b[0;34m\u001b[0m\u001b[0;34m\u001b[0m\u001b[0m\n\u001b[1;32m   3814\u001b[0m \u001b[0;34m\u001b[0m\u001b[0m\n",
      "\u001b[0;32m//anaconda3/lib/python3.7/site-packages/pandas/core/indexes/base.py\u001b[0m in \u001b[0;36mdrop\u001b[0;34m(self, labels, errors)\u001b[0m\n\u001b[1;32m   4963\u001b[0m             \u001b[0;32mif\u001b[0m \u001b[0merrors\u001b[0m \u001b[0;34m!=\u001b[0m \u001b[0;34m'ignore'\u001b[0m\u001b[0;34m:\u001b[0m\u001b[0;34m\u001b[0m\u001b[0;34m\u001b[0m\u001b[0m\n\u001b[1;32m   4964\u001b[0m                 raise KeyError(\n\u001b[0;32m-> 4965\u001b[0;31m                     '{} not found in axis'.format(labels[mask]))\n\u001b[0m\u001b[1;32m   4966\u001b[0m             \u001b[0mindexer\u001b[0m \u001b[0;34m=\u001b[0m \u001b[0mindexer\u001b[0m\u001b[0;34m[\u001b[0m\u001b[0;34m~\u001b[0m\u001b[0mmask\u001b[0m\u001b[0;34m]\u001b[0m\u001b[0;34m\u001b[0m\u001b[0;34m\u001b[0m\u001b[0m\n\u001b[1;32m   4967\u001b[0m         \u001b[0;32mreturn\u001b[0m \u001b[0mself\u001b[0m\u001b[0;34m.\u001b[0m\u001b[0mdelete\u001b[0m\u001b[0;34m(\u001b[0m\u001b[0mindexer\u001b[0m\u001b[0;34m)\u001b[0m\u001b[0;34m\u001b[0m\u001b[0;34m\u001b[0m\u001b[0m\n",
      "\u001b[0;31mKeyError\u001b[0m: \"['ADxAT' 'WR_Sep_pred'] not found in axis\""
     ]
    }
   ],
   "source": [
    "df_2 = df_1.drop(['SL Dist', 'QB (MPH)','EZ Dist', 'Rec_Loc', 'Pos','Receiver','Season', 'ADxAT', 'WR_Sep_pred' ], axis = 1)\n",
    "df_2.head()"
   ]
  },
  {
   "cell_type": "code",
   "execution_count": 74,
   "metadata": {},
   "outputs": [
    {
     "data": {
      "text/html": [
       "<div>\n",
       "<style scoped>\n",
       "    .dataframe tbody tr th:only-of-type {\n",
       "        vertical-align: middle;\n",
       "    }\n",
       "\n",
       "    .dataframe tbody tr th {\n",
       "        vertical-align: top;\n",
       "    }\n",
       "\n",
       "    .dataframe thead th {\n",
       "        text-align: right;\n",
       "    }\n",
       "</style>\n",
       "<table border=\"1\" class=\"dataframe\">\n",
       "  <thead>\n",
       "    <tr style=\"text-align: right;\">\n",
       "      <th></th>\n",
       "      <th>Cush</th>\n",
       "      <th>WR Sep</th>\n",
       "      <th>Air Yds</th>\n",
       "      <th>Air Dist</th>\n",
       "      <th>Air Time</th>\n",
       "      <th>TTT</th>\n",
       "      <th>QB Sep</th>\n",
       "      <th>SL Dist</th>\n",
       "      <th>QB (MPH)</th>\n",
       "      <th>EZ Dist</th>\n",
       "    </tr>\n",
       "  </thead>\n",
       "  <tbody>\n",
       "    <tr>\n",
       "      <th>0</th>\n",
       "      <td>-0.091676</td>\n",
       "      <td>6.561764</td>\n",
       "      <td>1.280118</td>\n",
       "      <td>0.904830</td>\n",
       "      <td>0.532400</td>\n",
       "      <td>0.812136</td>\n",
       "      <td>-1.347420</td>\n",
       "      <td>-0.228442</td>\n",
       "      <td>-0.452970</td>\n",
       "      <td>0.902840</td>\n",
       "    </tr>\n",
       "    <tr>\n",
       "      <th>1</th>\n",
       "      <td>2.328293</td>\n",
       "      <td>6.446028</td>\n",
       "      <td>-0.223381</td>\n",
       "      <td>0.412585</td>\n",
       "      <td>0.194268</td>\n",
       "      <td>-1.241445</td>\n",
       "      <td>1.323278</td>\n",
       "      <td>-1.212210</td>\n",
       "      <td>-0.528286</td>\n",
       "      <td>0.833708</td>\n",
       "    </tr>\n",
       "    <tr>\n",
       "      <th>2</th>\n",
       "      <td>NaN</td>\n",
       "      <td>6.318108</td>\n",
       "      <td>2.292494</td>\n",
       "      <td>2.932220</td>\n",
       "      <td>3.110201</td>\n",
       "      <td>1.411616</td>\n",
       "      <td>-0.272216</td>\n",
       "      <td>-1.414975</td>\n",
       "      <td>0.551243</td>\n",
       "      <td>-1.787284</td>\n",
       "    </tr>\n",
       "    <tr>\n",
       "      <th>3</th>\n",
       "      <td>NaN</td>\n",
       "      <td>5.996556</td>\n",
       "      <td>1.814428</td>\n",
       "      <td>1.879809</td>\n",
       "      <td>2.124892</td>\n",
       "      <td>2.615761</td>\n",
       "      <td>-0.853091</td>\n",
       "      <td>-0.859614</td>\n",
       "      <td>-0.007350</td>\n",
       "      <td>-1.333560</td>\n",
       "    </tr>\n",
       "    <tr>\n",
       "      <th>4</th>\n",
       "      <td>-0.213180</td>\n",
       "      <td>5.891059</td>\n",
       "      <td>-0.475471</td>\n",
       "      <td>0.196482</td>\n",
       "      <td>0.072468</td>\n",
       "      <td>0.731238</td>\n",
       "      <td>-0.342643</td>\n",
       "      <td>-0.807129</td>\n",
       "      <td>-0.471799</td>\n",
       "      <td>0.732358</td>\n",
       "    </tr>\n",
       "  </tbody>\n",
       "</table>\n",
       "</div>"
      ],
      "text/plain": [
       "       Cush    WR Sep   Air Yds  Air Dist  Air Time       TTT    QB Sep  \\\n",
       "0 -0.091676  6.561764  1.280118  0.904830  0.532400  0.812136 -1.347420   \n",
       "1  2.328293  6.446028 -0.223381  0.412585  0.194268 -1.241445  1.323278   \n",
       "2       NaN  6.318108  2.292494  2.932220  3.110201  1.411616 -0.272216   \n",
       "3       NaN  5.996556  1.814428  1.879809  2.124892  2.615761 -0.853091   \n",
       "4 -0.213180  5.891059 -0.475471  0.196482  0.072468  0.731238 -0.342643   \n",
       "\n",
       "    SL Dist  QB (MPH)   EZ Dist  \n",
       "0 -0.228442 -0.452970  0.902840  \n",
       "1 -1.212210 -0.528286  0.833708  \n",
       "2 -1.414975  0.551243 -1.787284  \n",
       "3 -0.859614 -0.007350 -1.333560  \n",
       "4 -0.807129 -0.471799  0.732358  "
      ]
     },
     "execution_count": 74,
     "metadata": {},
     "output_type": "execute_result"
    }
   ],
   "source": [
    "import pandas as pd\n",
    "from sklearn import preprocessing\n",
    "\n",
    "A = df_2.columns\n",
    "scaler = preprocessing.scale(df_2)\n",
    "df_sc = pd.DataFrame(scaler)\n",
    "df_sc.columns = A\n",
    "df_sc.head()\n"
   ]
  },
  {
   "cell_type": "code",
   "execution_count": 75,
   "metadata": {},
   "outputs": [
    {
     "data": {
      "text/html": [
       "<div>\n",
       "<style scoped>\n",
       "    .dataframe tbody tr th:only-of-type {\n",
       "        vertical-align: middle;\n",
       "    }\n",
       "\n",
       "    .dataframe tbody tr th {\n",
       "        vertical-align: top;\n",
       "    }\n",
       "\n",
       "    .dataframe thead th {\n",
       "        text-align: right;\n",
       "    }\n",
       "</style>\n",
       "<table border=\"1\" class=\"dataframe\">\n",
       "  <thead>\n",
       "    <tr style=\"text-align: right;\">\n",
       "      <th></th>\n",
       "      <th>Cush</th>\n",
       "      <th>WR Sep</th>\n",
       "      <th>Air Yds</th>\n",
       "      <th>Air Dist</th>\n",
       "      <th>Air Time</th>\n",
       "      <th>TTT</th>\n",
       "      <th>QB Sep</th>\n",
       "      <th>SL Dist</th>\n",
       "      <th>QB (MPH)</th>\n",
       "      <th>EZ Dist</th>\n",
       "    </tr>\n",
       "  </thead>\n",
       "  <tbody>\n",
       "    <tr>\n",
       "      <th>0</th>\n",
       "      <td>5.58</td>\n",
       "      <td>19.226980</td>\n",
       "      <td>20.97</td>\n",
       "      <td>30.203684</td>\n",
       "      <td>1.321</td>\n",
       "      <td>3.481</td>\n",
       "      <td>1.291201</td>\n",
       "      <td>11.760000</td>\n",
       "      <td>2.025000</td>\n",
       "      <td>52.029999</td>\n",
       "    </tr>\n",
       "    <tr>\n",
       "      <th>1</th>\n",
       "      <td>12.75</td>\n",
       "      <td>18.945078</td>\n",
       "      <td>6.00</td>\n",
       "      <td>25.245205</td>\n",
       "      <td>1.135</td>\n",
       "      <td>1.501</td>\n",
       "      <td>4.759349</td>\n",
       "      <td>4.450000</td>\n",
       "      <td>1.779545</td>\n",
       "      <td>51.000000</td>\n",
       "    </tr>\n",
       "    <tr>\n",
       "      <th>2</th>\n",
       "      <td>NaN</td>\n",
       "      <td>18.633497</td>\n",
       "      <td>31.05</td>\n",
       "      <td>50.626010</td>\n",
       "      <td>2.739</td>\n",
       "      <td>4.059</td>\n",
       "      <td>2.687452</td>\n",
       "      <td>2.943331</td>\n",
       "      <td>5.297727</td>\n",
       "      <td>11.949997</td>\n",
       "    </tr>\n",
       "    <tr>\n",
       "      <th>3</th>\n",
       "      <td>NaN</td>\n",
       "      <td>17.850281</td>\n",
       "      <td>26.29</td>\n",
       "      <td>40.024857</td>\n",
       "      <td>2.197</td>\n",
       "      <td>5.220</td>\n",
       "      <td>1.933132</td>\n",
       "      <td>7.070000</td>\n",
       "      <td>3.477273</td>\n",
       "      <td>18.709999</td>\n",
       "    </tr>\n",
       "    <tr>\n",
       "      <th>4</th>\n",
       "      <td>5.22</td>\n",
       "      <td>17.593319</td>\n",
       "      <td>3.49</td>\n",
       "      <td>23.068350</td>\n",
       "      <td>1.068</td>\n",
       "      <td>3.403</td>\n",
       "      <td>2.595997</td>\n",
       "      <td>7.460000</td>\n",
       "      <td>1.963636</td>\n",
       "      <td>49.489998</td>\n",
       "    </tr>\n",
       "  </tbody>\n",
       "</table>\n",
       "</div>"
      ],
      "text/plain": [
       "    Cush     WR Sep  Air Yds   Air Dist  Air Time    TTT    QB Sep    SL Dist  \\\n",
       "0   5.58  19.226980    20.97  30.203684     1.321  3.481  1.291201  11.760000   \n",
       "1  12.75  18.945078     6.00  25.245205     1.135  1.501  4.759349   4.450000   \n",
       "2    NaN  18.633497    31.05  50.626010     2.739  4.059  2.687452   2.943331   \n",
       "3    NaN  17.850281    26.29  40.024857     2.197  5.220  1.933132   7.070000   \n",
       "4   5.22  17.593319     3.49  23.068350     1.068  3.403  2.595997   7.460000   \n",
       "\n",
       "   QB (MPH)    EZ Dist  \n",
       "0  2.025000  52.029999  \n",
       "1  1.779545  51.000000  \n",
       "2  5.297727  11.949997  \n",
       "3  3.477273  18.709999  \n",
       "4  1.963636  49.489998  "
      ]
     },
     "execution_count": 75,
     "metadata": {},
     "output_type": "execute_result"
    }
   ],
   "source": [
    "df_2.head()"
   ]
  },
  {
   "cell_type": "code",
   "execution_count": 77,
   "metadata": {},
   "outputs": [
    {
     "data": {
      "text/plain": [
       "<matplotlib.axes._subplots.AxesSubplot at 0x1a2202e0b8>"
      ]
     },
     "execution_count": 77,
     "metadata": {},
     "output_type": "execute_result"
    },
    {
     "data": {
      "image/png": "[encoded data removed]",
      "text/plain": [
       "<Figure size 504x504 with 2 Axes>"
      ]
     },
     "metadata": {
      "needs_background": "light"
     },
     "output_type": "display_data"
    }
   ],
   "source": [
    "#Lecture 10 slide\n",
    "\n",
    "plt.subplots(figsize=(7,7))\n",
    "SC = df_sc.corr(method = 'spearman')\n",
    "sns.heatmap(df_sc.corr(method = 'spearman'), annot = True, fmt='.2g')"
   ]
  },
  {
   "cell_type": "code",
   "execution_count": 626,
   "metadata": {},
   "outputs": [
    {
     "data": {
      "text/html": [
       "<div>\n",
       "<style scoped>\n",
       "    .dataframe tbody tr th:only-of-type {\n",
       "        vertical-align: middle;\n",
       "    }\n",
       "\n",
       "    .dataframe tbody tr th {\n",
       "        vertical-align: top;\n",
       "    }\n",
       "\n",
       "    .dataframe thead th {\n",
       "        text-align: right;\n",
       "    }\n",
       "</style>\n",
       "<table border=\"1\" class=\"dataframe\">\n",
       "  <thead>\n",
       "    <tr style=\"text-align: right;\">\n",
       "      <th></th>\n",
       "      <th>Cush</th>\n",
       "      <th>WR Sep</th>\n",
       "      <th>Air Yds</th>\n",
       "      <th>Air Dist</th>\n",
       "      <th>Air Time</th>\n",
       "      <th>TTT</th>\n",
       "      <th>QB Sep</th>\n",
       "      <th>AY_B_10</th>\n",
       "      <th>AY_10+</th>\n",
       "    </tr>\n",
       "  </thead>\n",
       "  <tbody>\n",
       "    <tr>\n",
       "      <th>0</th>\n",
       "      <td>0.233617</td>\n",
       "      <td>1.000000</td>\n",
       "      <td>0.475145</td>\n",
       "      <td>0.441769</td>\n",
       "      <td>0.313065</td>\n",
       "      <td>0.245127</td>\n",
       "      <td>0.088146</td>\n",
       "      <td>0.637255</td>\n",
       "      <td>0.330132</td>\n",
       "    </tr>\n",
       "    <tr>\n",
       "      <th>1</th>\n",
       "      <td>0.592296</td>\n",
       "      <td>0.985323</td>\n",
       "      <td>0.290490</td>\n",
       "      <td>0.368297</td>\n",
       "      <td>0.273932</td>\n",
       "      <td>0.092597</td>\n",
       "      <td>0.340149</td>\n",
       "      <td>0.855120</td>\n",
       "      <td>0.000000</td>\n",
       "    </tr>\n",
       "    <tr>\n",
       "      <th>2</th>\n",
       "      <td>0.579790</td>\n",
       "      <td>0.969101</td>\n",
       "      <td>0.599482</td>\n",
       "      <td>0.744375</td>\n",
       "      <td>0.611403</td>\n",
       "      <td>0.289654</td>\n",
       "      <td>0.189601</td>\n",
       "      <td>0.637255</td>\n",
       "      <td>0.488822</td>\n",
       "    </tr>\n",
       "    <tr>\n",
       "      <th>3</th>\n",
       "      <td>0.579790</td>\n",
       "      <td>0.928323</td>\n",
       "      <td>0.540767</td>\n",
       "      <td>0.587293</td>\n",
       "      <td>0.497370</td>\n",
       "      <td>0.379093</td>\n",
       "      <td>0.134790</td>\n",
       "      <td>0.637255</td>\n",
       "      <td>0.413885</td>\n",
       "    </tr>\n",
       "    <tr>\n",
       "      <th>4</th>\n",
       "      <td>0.215608</td>\n",
       "      <td>0.914944</td>\n",
       "      <td>0.259529</td>\n",
       "      <td>0.336042</td>\n",
       "      <td>0.259836</td>\n",
       "      <td>0.239119</td>\n",
       "      <td>0.182955</td>\n",
       "      <td>0.763980</td>\n",
       "      <td>0.000000</td>\n",
       "    </tr>\n",
       "  </tbody>\n",
       "</table>\n",
       "</div>"
      ],
      "text/plain": [
       "       Cush    WR Sep   Air Yds  Air Dist  Air Time       TTT    QB Sep  \\\n",
       "0  0.233617  1.000000  0.475145  0.441769  0.313065  0.245127  0.088146   \n",
       "1  0.592296  0.985323  0.290490  0.368297  0.273932  0.092597  0.340149   \n",
       "2  0.579790  0.969101  0.599482  0.744375  0.611403  0.289654  0.189601   \n",
       "3  0.579790  0.928323  0.540767  0.587293  0.497370  0.379093  0.134790   \n",
       "4  0.215608  0.914944  0.259529  0.336042  0.259836  0.239119  0.182955   \n",
       "\n",
       "    AY_B_10    AY_10+  \n",
       "0  0.637255  0.330132  \n",
       "1  0.855120  0.000000  \n",
       "2  0.637255  0.488822  \n",
       "3  0.637255  0.413885  \n",
       "4  0.763980  0.000000  "
      ]
     },
     "execution_count": 626,
     "metadata": {},
     "output_type": "execute_result"
    }
   ],
   "source": [
    "import pandas as pd\n",
    "from sklearn import preprocessing\n",
    "A = df_2.columns\n",
    "x = df_2.values #returns a numpy array\n",
    "min_max_scaler = preprocessing.MinMaxScaler()\n",
    "x_scaled = min_max_scaler.fit_transform(x)\n",
    "df_s = pd.DataFrame(x_scaled)\n",
    "df_s.columns = A\n",
    "df_s.head()"
   ]
  },
  {
   "cell_type": "markdown",
   "metadata": {},
   "source": [
    "# Feature Selection Analysis"
   ]
  },
  {
   "cell_type": "code",
   "execution_count": 627,
   "metadata": {},
   "outputs": [],
   "source": [
    "import itertools\n",
    "import time\n",
    "import numpy as np\n",
    "import pandas as pd\n",
    "import seaborn as sns\n",
    "import matplotlib.pyplot as plt\n",
    "from sklearn import linear_model\n",
    "from sklearn.metrics import mean_squared_error\n",
    "\n",
    "%matplotlib inline\n",
    "plt.style.use('ggplot')"
   ]
  },
  {
   "cell_type": "code",
   "execution_count": 628,
   "metadata": {},
   "outputs": [],
   "source": [
    "def fit_linear_reg(X,Y):\n",
    "    #Fit linear regression model and return RSS and R squared values\n",
    "    model_k = linear_model.LinearRegression(fit_intercept = True)\n",
    "    model_k.fit(X,Y)\n",
    "    RSS = mean_squared_error(Y,model_k.predict(X)) * len(Y)\n",
    "    R_squared = model_k.score(X,Y)\n",
    "    return RSS, R_squared"
   ]
  },
  {
   "cell_type": "code",
   "execution_count": 630,
   "metadata": {},
   "outputs": [],
   "source": [
    "#from tqdm import tnrange, tqdm_notebook\n",
    "\n",
    "#Initialization variables\n",
    "Y = df_2[['WR Sep']]\n",
    "X = df_2.drop(['WR Sep'], axis = 1)\n",
    "k = 14\n",
    "RSS_list, R_squared_list, feature_list = [],[], []\n",
    "numb_features = []\n",
    "\n",
    "#Looping over k = 1 to k = 15 features in X\n",
    "for k in range(1,len(X.columns) + 1):\n",
    "\n",
    "    #Looping over all possible combinations: from 11 choose k\n",
    "    for combo in itertools.combinations(X.columns,k):\n",
    "        tmp_result = fit_linear_reg(X[list(combo)],Y)   #Store temp result \n",
    "        RSS_list.append(tmp_result[0])                  #Append lists\n",
    "        R_squared_list.append(tmp_result[1])\n",
    "        feature_list.append(combo)\n",
    "        numb_features.append(len(combo))   \n",
    "\n",
    "#Store in DataFrame\n",
    "df = pd.DataFrame({'numb_features': numb_features,'RSS': RSS_list, 'R_squared':R_squared_list,'features':feature_list})"
   ]
  },
  {
   "cell_type": "code",
   "execution_count": 631,
   "metadata": {},
   "outputs": [
    {
     "data": {
      "text/html": [
       "<div>\n",
       "<style scoped>\n",
       "    .dataframe tbody tr th:only-of-type {\n",
       "        vertical-align: middle;\n",
       "    }\n",
       "\n",
       "    .dataframe tbody tr th {\n",
       "        vertical-align: top;\n",
       "    }\n",
       "\n",
       "    .dataframe thead th {\n",
       "        text-align: right;\n",
       "    }\n",
       "</style>\n",
       "<table border=\"1\" class=\"dataframe\">\n",
       "  <thead>\n",
       "    <tr style=\"text-align: right;\">\n",
       "      <th></th>\n",
       "      <th>numb_features</th>\n",
       "      <th>RSS</th>\n",
       "      <th>R_squared</th>\n",
       "      <th>features</th>\n",
       "    </tr>\n",
       "  </thead>\n",
       "  <tbody>\n",
       "    <tr>\n",
       "      <th>1</th>\n",
       "      <td>1</td>\n",
       "      <td>273718.625825</td>\n",
       "      <td>0.141010</td>\n",
       "      <td>(Air Yds,)</td>\n",
       "    </tr>\n",
       "    <tr>\n",
       "      <th>8</th>\n",
       "      <td>2</td>\n",
       "      <td>258523.725613</td>\n",
       "      <td>0.188695</td>\n",
       "      <td>(Cush, Air Yds)</td>\n",
       "    </tr>\n",
       "    <tr>\n",
       "      <th>40</th>\n",
       "      <td>3</td>\n",
       "      <td>248992.964912</td>\n",
       "      <td>0.218605</td>\n",
       "      <td>(Cush, Air Yds, AY_B_10)</td>\n",
       "    </tr>\n",
       "    <tr>\n",
       "      <th>41</th>\n",
       "      <td>3</td>\n",
       "      <td>248992.964912</td>\n",
       "      <td>0.218605</td>\n",
       "      <td>(Cush, Air Yds, AY_10+)</td>\n",
       "    </tr>\n",
       "    <tr>\n",
       "      <th>56</th>\n",
       "      <td>3</td>\n",
       "      <td>248992.964912</td>\n",
       "      <td>0.218605</td>\n",
       "      <td>(Cush, AY_B_10, AY_10+)</td>\n",
       "    </tr>\n",
       "    <tr>\n",
       "      <th>95</th>\n",
       "      <td>4</td>\n",
       "      <td>246412.734632</td>\n",
       "      <td>0.226702</td>\n",
       "      <td>(Cush, Air Yds, Air Dist, AY_B_10)</td>\n",
       "    </tr>\n",
       "    <tr>\n",
       "      <th>169</th>\n",
       "      <td>5</td>\n",
       "      <td>245451.541274</td>\n",
       "      <td>0.229719</td>\n",
       "      <td>(Cush, Air Yds, Air Dist, QB Sep, AY_B_10)</td>\n",
       "    </tr>\n",
       "    <tr>\n",
       "      <th>170</th>\n",
       "      <td>5</td>\n",
       "      <td>245451.541274</td>\n",
       "      <td>0.229719</td>\n",
       "      <td>(Cush, Air Yds, Air Dist, QB Sep, AY_10+)</td>\n",
       "    </tr>\n",
       "  </tbody>\n",
       "</table>\n",
       "</div>"
      ],
      "text/plain": [
       "     numb_features            RSS  R_squared  \\\n",
       "1                1  273718.625825   0.141010   \n",
       "8                2  258523.725613   0.188695   \n",
       "40               3  248992.964912   0.218605   \n",
       "41               3  248992.964912   0.218605   \n",
       "56               3  248992.964912   0.218605   \n",
       "95               4  246412.734632   0.226702   \n",
       "169              5  245451.541274   0.229719   \n",
       "170              5  245451.541274   0.229719   \n",
       "\n",
       "                                       features  \n",
       "1                                    (Air Yds,)  \n",
       "8                               (Cush, Air Yds)  \n",
       "40                     (Cush, Air Yds, AY_B_10)  \n",
       "41                      (Cush, Air Yds, AY_10+)  \n",
       "56                      (Cush, AY_B_10, AY_10+)  \n",
       "95           (Cush, Air Yds, Air Dist, AY_B_10)  \n",
       "169  (Cush, Air Yds, Air Dist, QB Sep, AY_B_10)  \n",
       "170   (Cush, Air Yds, Air Dist, QB Sep, AY_10+)  "
      ]
     },
     "metadata": {},
     "output_type": "display_data"
    },
    {
     "data": {
      "text/html": [
       "<div>\n",
       "<style scoped>\n",
       "    .dataframe tbody tr th:only-of-type {\n",
       "        vertical-align: middle;\n",
       "    }\n",
       "\n",
       "    .dataframe tbody tr th {\n",
       "        vertical-align: top;\n",
       "    }\n",
       "\n",
       "    .dataframe thead th {\n",
       "        text-align: right;\n",
       "    }\n",
       "</style>\n",
       "<table border=\"1\" class=\"dataframe\">\n",
       "  <thead>\n",
       "    <tr style=\"text-align: right;\">\n",
       "      <th></th>\n",
       "      <th>numb_features</th>\n",
       "      <th>RSS</th>\n",
       "      <th>R_squared</th>\n",
       "      <th>features</th>\n",
       "    </tr>\n",
       "  </thead>\n",
       "  <tbody>\n",
       "    <tr>\n",
       "      <th>1</th>\n",
       "      <td>1</td>\n",
       "      <td>273718.625825</td>\n",
       "      <td>0.141010</td>\n",
       "      <td>(Air Yds,)</td>\n",
       "    </tr>\n",
       "    <tr>\n",
       "      <th>8</th>\n",
       "      <td>2</td>\n",
       "      <td>258523.725613</td>\n",
       "      <td>0.188695</td>\n",
       "      <td>(Cush, Air Yds)</td>\n",
       "    </tr>\n",
       "    <tr>\n",
       "      <th>40</th>\n",
       "      <td>3</td>\n",
       "      <td>248992.964912</td>\n",
       "      <td>0.218605</td>\n",
       "      <td>(Cush, Air Yds, AY_B_10)</td>\n",
       "    </tr>\n",
       "    <tr>\n",
       "      <th>41</th>\n",
       "      <td>3</td>\n",
       "      <td>248992.964912</td>\n",
       "      <td>0.218605</td>\n",
       "      <td>(Cush, Air Yds, AY_10+)</td>\n",
       "    </tr>\n",
       "    <tr>\n",
       "      <th>56</th>\n",
       "      <td>3</td>\n",
       "      <td>248992.964912</td>\n",
       "      <td>0.218605</td>\n",
       "      <td>(Cush, AY_B_10, AY_10+)</td>\n",
       "    </tr>\n",
       "    <tr>\n",
       "      <th>95</th>\n",
       "      <td>4</td>\n",
       "      <td>246412.734632</td>\n",
       "      <td>0.226702</td>\n",
       "      <td>(Cush, Air Yds, Air Dist, AY_B_10)</td>\n",
       "    </tr>\n",
       "    <tr>\n",
       "      <th>169</th>\n",
       "      <td>5</td>\n",
       "      <td>245451.541274</td>\n",
       "      <td>0.229719</td>\n",
       "      <td>(Cush, Air Yds, Air Dist, QB Sep, AY_B_10)</td>\n",
       "    </tr>\n",
       "    <tr>\n",
       "      <th>170</th>\n",
       "      <td>5</td>\n",
       "      <td>245451.541274</td>\n",
       "      <td>0.229719</td>\n",
       "      <td>(Cush, Air Yds, Air Dist, QB Sep, AY_10+)</td>\n",
       "    </tr>\n",
       "  </tbody>\n",
       "</table>\n",
       "</div>"
      ],
      "text/plain": [
       "     numb_features            RSS  R_squared  \\\n",
       "1                1  273718.625825   0.141010   \n",
       "8                2  258523.725613   0.188695   \n",
       "40               3  248992.964912   0.218605   \n",
       "41               3  248992.964912   0.218605   \n",
       "56               3  248992.964912   0.218605   \n",
       "95               4  246412.734632   0.226702   \n",
       "169              5  245451.541274   0.229719   \n",
       "170              5  245451.541274   0.229719   \n",
       "\n",
       "                                       features  \n",
       "1                                    (Air Yds,)  \n",
       "8                               (Cush, Air Yds)  \n",
       "40                     (Cush, Air Yds, AY_B_10)  \n",
       "41                      (Cush, Air Yds, AY_10+)  \n",
       "56                      (Cush, AY_B_10, AY_10+)  \n",
       "95           (Cush, Air Yds, Air Dist, AY_B_10)  \n",
       "169  (Cush, Air Yds, Air Dist, QB Sep, AY_B_10)  \n",
       "170   (Cush, Air Yds, Air Dist, QB Sep, AY_10+)  "
      ]
     },
     "metadata": {},
     "output_type": "display_data"
    }
   ],
   "source": [
    "df_min = df[df.groupby('numb_features')['RSS'].transform(min) == df['RSS']]\n",
    "df_max = df[df.groupby('numb_features')['R_squared'].transform(max) == df['R_squared']]\n",
    "display(df_min.head(8))\n",
    "display(df_max.head(8))"
   ]
  },
  {
   "cell_type": "code",
   "execution_count": 632,
   "metadata": {},
   "outputs": [
    {
     "data": {
      "text/html": [
       "<div>\n",
       "<style scoped>\n",
       "    .dataframe tbody tr th:only-of-type {\n",
       "        vertical-align: middle;\n",
       "    }\n",
       "\n",
       "    .dataframe tbody tr th {\n",
       "        vertical-align: top;\n",
       "    }\n",
       "\n",
       "    .dataframe thead th {\n",
       "        text-align: right;\n",
       "    }\n",
       "</style>\n",
       "<table border=\"1\" class=\"dataframe\">\n",
       "  <thead>\n",
       "    <tr style=\"text-align: right;\">\n",
       "      <th></th>\n",
       "      <th>numb_features</th>\n",
       "      <th>RSS</th>\n",
       "      <th>R_squared</th>\n",
       "      <th>features</th>\n",
       "      <th>min_RSS</th>\n",
       "      <th>max_R_squared</th>\n",
       "    </tr>\n",
       "  </thead>\n",
       "  <tbody>\n",
       "    <tr>\n",
       "      <th>0</th>\n",
       "      <td>1</td>\n",
       "      <td>283527.625412</td>\n",
       "      <td>0.110228</td>\n",
       "      <td>(Cush,)</td>\n",
       "      <td>273718.625825</td>\n",
       "      <td>0.14101</td>\n",
       "    </tr>\n",
       "    <tr>\n",
       "      <th>1</th>\n",
       "      <td>1</td>\n",
       "      <td>273718.625825</td>\n",
       "      <td>0.141010</td>\n",
       "      <td>(Air Yds,)</td>\n",
       "      <td>273718.625825</td>\n",
       "      <td>0.14101</td>\n",
       "    </tr>\n",
       "    <tr>\n",
       "      <th>2</th>\n",
       "      <td>1</td>\n",
       "      <td>292974.093416</td>\n",
       "      <td>0.080582</td>\n",
       "      <td>(Air Dist,)</td>\n",
       "      <td>273718.625825</td>\n",
       "      <td>0.14101</td>\n",
       "    </tr>\n",
       "    <tr>\n",
       "      <th>3</th>\n",
       "      <td>1</td>\n",
       "      <td>296233.317015</td>\n",
       "      <td>0.070354</td>\n",
       "      <td>(Air Time,)</td>\n",
       "      <td>273718.625825</td>\n",
       "      <td>0.14101</td>\n",
       "    </tr>\n",
       "    <tr>\n",
       "      <th>4</th>\n",
       "      <td>1</td>\n",
       "      <td>317233.262307</td>\n",
       "      <td>0.004452</td>\n",
       "      <td>(TTT,)</td>\n",
       "      <td>273718.625825</td>\n",
       "      <td>0.14101</td>\n",
       "    </tr>\n",
       "  </tbody>\n",
       "</table>\n",
       "</div>"
      ],
      "text/plain": [
       "   numb_features            RSS  R_squared     features        min_RSS  \\\n",
       "0              1  283527.625412   0.110228      (Cush,)  273718.625825   \n",
       "1              1  273718.625825   0.141010   (Air Yds,)  273718.625825   \n",
       "2              1  292974.093416   0.080582  (Air Dist,)  273718.625825   \n",
       "3              1  296233.317015   0.070354  (Air Time,)  273718.625825   \n",
       "4              1  317233.262307   0.004452       (TTT,)  273718.625825   \n",
       "\n",
       "   max_R_squared  \n",
       "0        0.14101  \n",
       "1        0.14101  \n",
       "2        0.14101  \n",
       "3        0.14101  \n",
       "4        0.14101  "
      ]
     },
     "execution_count": 632,
     "metadata": {},
     "output_type": "execute_result"
    }
   ],
   "source": [
    "df['min_RSS'] = df.groupby('numb_features')['RSS'].transform(min)\n",
    "df['max_R_squared'] = df.groupby('numb_features')['R_squared'].transform(max)\n",
    "df.head()"
   ]
  },
  {
   "cell_type": "code",
   "execution_count": 633,
   "metadata": {},
   "outputs": [
    {
     "data": {
      "image/png": "[encoded data removed]",
      "text/plain": [
       "<Figure size 1152x432 with 2 Axes>"
      ]
     },
     "metadata": {},
     "output_type": "display_data"
    }
   ],
   "source": [
    "fig = plt.figure(figsize = (16,6))\n",
    "ax = fig.add_subplot(1, 2, 1)\n",
    "\n",
    "ax.scatter(df.numb_features,df.RSS, alpha = .2, color = 'darkblue' )\n",
    "ax.set_xlabel('# Features')\n",
    "ax.set_ylabel('RSS')\n",
    "ax.set_title('RSS - Best subset selection')\n",
    "ax.plot(df.numb_features,df.min_RSS,color = 'r', label = 'Best subset')\n",
    "ax.legend()\n",
    "\n",
    "ax = fig.add_subplot(1, 2, 2)\n",
    "ax.scatter(df.numb_features,df.R_squared, alpha = .2, color = 'darkblue' )\n",
    "ax.plot(df.numb_features,df.max_R_squared,color = 'r', label = 'Best subset')\n",
    "ax.set_xlabel('# Features')\n",
    "ax.set_ylabel('R squared')\n",
    "ax.set_title('R_squared - Best subset selection')\n",
    "ax.legend()\n",
    "\n",
    "plt.show()"
   ]
  },
  {
   "cell_type": "markdown",
   "metadata": {},
   "source": [
    "# Train, Test, Split Data"
   ]
  },
  {
   "cell_type": "code",
   "execution_count": 480,
   "metadata": {},
   "outputs": [
    {
     "data": {
      "text/html": [
       "<div>\n",
       "<style scoped>\n",
       "    .dataframe tbody tr th:only-of-type {\n",
       "        vertical-align: middle;\n",
       "    }\n",
       "\n",
       "    .dataframe tbody tr th {\n",
       "        vertical-align: top;\n",
       "    }\n",
       "\n",
       "    .dataframe thead th {\n",
       "        text-align: right;\n",
       "    }\n",
       "</style>\n",
       "<table border=\"1\" class=\"dataframe\">\n",
       "  <thead>\n",
       "    <tr style=\"text-align: right;\">\n",
       "      <th></th>\n",
       "      <th>Cush</th>\n",
       "      <th>Air Yds</th>\n",
       "      <th>Air Dist</th>\n",
       "      <th>AY_B_10</th>\n",
       "      <th>AY_10+</th>\n",
       "    </tr>\n",
       "  </thead>\n",
       "  <tbody>\n",
       "    <tr>\n",
       "      <th>0</th>\n",
       "      <td>5.58</td>\n",
       "      <td>20.97</td>\n",
       "      <td>30.203684</td>\n",
       "      <td>0.00</td>\n",
       "      <td>20.97</td>\n",
       "    </tr>\n",
       "    <tr>\n",
       "      <th>1</th>\n",
       "      <td>12.75</td>\n",
       "      <td>6.00</td>\n",
       "      <td>25.245205</td>\n",
       "      <td>6.00</td>\n",
       "      <td>0.00</td>\n",
       "    </tr>\n",
       "    <tr>\n",
       "      <th>2</th>\n",
       "      <td>12.50</td>\n",
       "      <td>31.05</td>\n",
       "      <td>50.626010</td>\n",
       "      <td>0.00</td>\n",
       "      <td>31.05</td>\n",
       "    </tr>\n",
       "    <tr>\n",
       "      <th>3</th>\n",
       "      <td>12.50</td>\n",
       "      <td>26.29</td>\n",
       "      <td>40.024857</td>\n",
       "      <td>0.00</td>\n",
       "      <td>26.29</td>\n",
       "    </tr>\n",
       "    <tr>\n",
       "      <th>4</th>\n",
       "      <td>5.22</td>\n",
       "      <td>3.49</td>\n",
       "      <td>23.068350</td>\n",
       "      <td>3.49</td>\n",
       "      <td>0.00</td>\n",
       "    </tr>\n",
       "  </tbody>\n",
       "</table>\n",
       "</div>"
      ],
      "text/plain": [
       "    Cush  Air Yds   Air Dist  AY_B_10  AY_10+\n",
       "0   5.58    20.97  30.203684     0.00   20.97\n",
       "1  12.75     6.00  25.245205     6.00    0.00\n",
       "2  12.50    31.05  50.626010     0.00   31.05\n",
       "3  12.50    26.29  40.024857     0.00   26.29\n",
       "4   5.22     3.49  23.068350     3.49    0.00"
      ]
     },
     "execution_count": 480,
     "metadata": {},
     "output_type": "execute_result"
    }
   ],
   "source": [
    "y = df_2[['WR Sep']]\n",
    "X = df_2[['Cush', 'Air Yds', 'Air Dist', 'AY_B_10', 'AY_10+']]\n",
    "X_1= X.values\n",
    "y_1 = y.values\n",
    "\n",
    "X.head()\n"
   ]
  },
  {
   "cell_type": "code",
   "execution_count": 482,
   "metadata": {},
   "outputs": [
    {
     "data": {
      "text/plain": [
       "LinearRegression(copy_X=True, fit_intercept=True, n_jobs=None, normalize=False)"
      ]
     },
     "execution_count": 482,
     "metadata": {},
     "output_type": "execute_result"
    }
   ],
   "source": [
    "from sklearn.model_selection import train_test_split \n",
    "from sklearn.linear_model import LinearRegression\n",
    "from sklearn import metrics\n",
    "\n",
    "X_train, X_test, y_train, y_test = train_test_split(X, y, test_size=0.2, random_state=0)\n",
    "\n",
    "#train the algorithm \n",
    "regressor = LinearRegression()  \n",
    "regressor.fit(X_train, y_train)\n"
   ]
  },
  {
   "cell_type": "code",
   "execution_count": 483,
   "metadata": {},
   "outputs": [
    {
     "name": "stdout",
     "output_type": "stream",
     "text": [
      "[2.38951176]\n",
      "[[ 1.28535307e-01  1.62712454e+11  4.97970581e-02 -1.62712454e+11\n",
      "  -1.62712454e+11]]\n"
     ]
    }
   ],
   "source": [
    "#To retrieve the intercept:\n",
    "print(regressor.intercept_)\n",
    "#For retrieving the slope:\n",
    "print(regressor.coef_)"
   ]
  },
  {
   "cell_type": "code",
   "execution_count": 484,
   "metadata": {},
   "outputs": [],
   "source": [
    "y_pred = regressor.predict(X_test)\n"
   ]
  },
  {
   "cell_type": "code",
   "execution_count": 485,
   "metadata": {},
   "outputs": [
    {
     "name": "stdout",
     "output_type": "stream",
     "text": [
      "Mean Absolute Error: 1.6305887125143408\n",
      "Mean Squared Error: 4.574061742860591\n",
      "Root Mean Squared Error: 2.1387056232358375\n",
      "[2.38951176]\n"
     ]
    }
   ],
   "source": [
    "print('Mean Absolute Error:', metrics.mean_absolute_error(y_test, y_pred))  \n",
    "print('Mean Squared Error:', metrics.mean_squared_error(y_test, y_pred))  \n",
    "print('Root Mean Squared Error:', np.sqrt(metrics.mean_squared_error(y_test, y_pred)))\n",
    "print(regressor.intercept_)"
   ]
  },
  {
   "cell_type": "markdown",
   "metadata": {},
   "source": [
    "# Compare Results"
   ]
  },
  {
   "cell_type": "code",
   "execution_count": 499,
   "metadata": {},
   "outputs": [
    {
     "data": {
      "text/html": [
       "<div>\n",
       "<style scoped>\n",
       "    .dataframe tbody tr th:only-of-type {\n",
       "        vertical-align: middle;\n",
       "    }\n",
       "\n",
       "    .dataframe tbody tr th {\n",
       "        vertical-align: top;\n",
       "    }\n",
       "\n",
       "    .dataframe thead th {\n",
       "        text-align: right;\n",
       "    }\n",
       "</style>\n",
       "<table border=\"1\" class=\"dataframe\">\n",
       "  <thead>\n",
       "    <tr style=\"text-align: right;\">\n",
       "      <th></th>\n",
       "      <th>Cush</th>\n",
       "      <th>WR Sep</th>\n",
       "      <th>Air Yds</th>\n",
       "      <th>Air Dist</th>\n",
       "      <th>Air Time</th>\n",
       "      <th>TTT</th>\n",
       "      <th>QB Sep</th>\n",
       "      <th>AY_B_10</th>\n",
       "      <th>AY_10+</th>\n",
       "      <th>CV</th>\n",
       "      <th>AYV</th>\n",
       "      <th>ADV</th>\n",
       "      <th>AY1V</th>\n",
       "      <th>AY2V</th>\n",
       "      <th>WR_Sep_pred</th>\n",
       "    </tr>\n",
       "  </thead>\n",
       "  <tbody>\n",
       "    <tr>\n",
       "      <th>0</th>\n",
       "      <td>5.58</td>\n",
       "      <td>19.226980</td>\n",
       "      <td>20.97</td>\n",
       "      <td>30.203684</td>\n",
       "      <td>1.321</td>\n",
       "      <td>3.481</td>\n",
       "      <td>1.291201</td>\n",
       "      <td>0.00</td>\n",
       "      <td>20.97</td>\n",
       "      <td>0.658072</td>\n",
       "      <td>-3.245330</td>\n",
       "      <td>1.413582</td>\n",
       "      <td>-0.000000</td>\n",
       "      <td>0.831634</td>\n",
       "      <td>2.425046</td>\n",
       "    </tr>\n",
       "    <tr>\n",
       "      <th>1</th>\n",
       "      <td>12.75</td>\n",
       "      <td>18.945078</td>\n",
       "      <td>6.00</td>\n",
       "      <td>25.245205</td>\n",
       "      <td>1.135</td>\n",
       "      <td>1.501</td>\n",
       "      <td>4.759349</td>\n",
       "      <td>6.00</td>\n",
       "      <td>0.00</td>\n",
       "      <td>1.503659</td>\n",
       "      <td>-0.928564</td>\n",
       "      <td>1.181517</td>\n",
       "      <td>-0.710327</td>\n",
       "      <td>0.000000</td>\n",
       "      <td>3.813373</td>\n",
       "    </tr>\n",
       "    <tr>\n",
       "      <th>2</th>\n",
       "      <td>12.50</td>\n",
       "      <td>18.633497</td>\n",
       "      <td>31.05</td>\n",
       "      <td>50.626010</td>\n",
       "      <td>2.739</td>\n",
       "      <td>4.059</td>\n",
       "      <td>2.687452</td>\n",
       "      <td>0.00</td>\n",
       "      <td>31.05</td>\n",
       "      <td>1.474176</td>\n",
       "      <td>-4.805317</td>\n",
       "      <td>2.369380</td>\n",
       "      <td>-0.000000</td>\n",
       "      <td>1.231390</td>\n",
       "      <td>3.036717</td>\n",
       "    </tr>\n",
       "    <tr>\n",
       "      <th>3</th>\n",
       "      <td>12.50</td>\n",
       "      <td>17.850281</td>\n",
       "      <td>26.29</td>\n",
       "      <td>40.024857</td>\n",
       "      <td>2.197</td>\n",
       "      <td>5.220</td>\n",
       "      <td>1.933132</td>\n",
       "      <td>0.00</td>\n",
       "      <td>26.29</td>\n",
       "      <td>1.474176</td>\n",
       "      <td>-4.068656</td>\n",
       "      <td>1.873229</td>\n",
       "      <td>-0.000000</td>\n",
       "      <td>1.042616</td>\n",
       "      <td>3.088452</td>\n",
       "    </tr>\n",
       "    <tr>\n",
       "      <th>4</th>\n",
       "      <td>5.22</td>\n",
       "      <td>17.593319</td>\n",
       "      <td>3.49</td>\n",
       "      <td>23.068350</td>\n",
       "      <td>1.068</td>\n",
       "      <td>3.403</td>\n",
       "      <td>2.595997</td>\n",
       "      <td>3.49</td>\n",
       "      <td>0.00</td>\n",
       "      <td>0.615616</td>\n",
       "      <td>-0.540114</td>\n",
       "      <td>1.079636</td>\n",
       "      <td>-0.413174</td>\n",
       "      <td>0.000000</td>\n",
       "      <td>3.509052</td>\n",
       "    </tr>\n",
       "  </tbody>\n",
       "</table>\n",
       "</div>"
      ],
      "text/plain": [
       "    Cush     WR Sep  Air Yds   Air Dist  Air Time    TTT    QB Sep  AY_B_10  \\\n",
       "0   5.58  19.226980    20.97  30.203684     1.321  3.481  1.291201     0.00   \n",
       "1  12.75  18.945078     6.00  25.245205     1.135  1.501  4.759349     6.00   \n",
       "2  12.50  18.633497    31.05  50.626010     2.739  4.059  2.687452     0.00   \n",
       "3  12.50  17.850281    26.29  40.024857     2.197  5.220  1.933132     0.00   \n",
       "4   5.22  17.593319     3.49  23.068350     1.068  3.403  2.595997     3.49   \n",
       "\n",
       "   AY_10+        CV       AYV       ADV      AY1V      AY2V  WR_Sep_pred  \n",
       "0   20.97  0.658072 -3.245330  1.413582 -0.000000  0.831634     2.425046  \n",
       "1    0.00  1.503659 -0.928564  1.181517 -0.710327  0.000000     3.813373  \n",
       "2   31.05  1.474176 -4.805317  2.369380 -0.000000  1.231390     3.036717  \n",
       "3   26.29  1.474176 -4.068656  1.873229 -0.000000  1.042616     3.088452  \n",
       "4    0.00  0.615616 -0.540114  1.079636 -0.413174  0.000000     3.509052  "
      ]
     },
     "execution_count": 499,
     "metadata": {},
     "output_type": "execute_result"
    }
   ],
   "source": [
    "df_2['CV'] = df_2['Cush']*0.11793405\n",
    "df_2['AYV'] = df_2['Air Yds']*-0.1547606\n",
    "df_2['ADV'] = df_2['Air Dist']*0.04680163 \n",
    "df_2['AY1V'] = df_2['AY_B_10']* -0.11838786\n",
    "df_2['AY2V'] = df_2['AY_10+']* 0.03965829\n",
    "\n",
    "df_2['WR_Sep_pred'] = (df_2['CV'] + df_2['AYV'] + df_2['ADV'] + df_2['AY1V'] + df_2['AY2V']+2.76708788)\n",
    "df_1['WR_Sep_pred'] = (df_2['CV'] + df_2['AYV'] + df_2['ADV'] + df_2['AY1V'] + df_2['AY2V']+2.76708788)\n",
    "df_2.head()"
   ]
  },
  {
   "cell_type": "code",
   "execution_count": 51,
   "metadata": {},
   "outputs": [
    {
     "data": {
      "text/plain": [
       "count    53710.000000\n",
       "mean         3.244240\n",
       "std          2.435761\n",
       "min          0.020000\n",
       "25%          1.292652\n",
       "50%          2.613341\n",
       "75%          4.589033\n",
       "max         19.226980\n",
       "Name: WR Sep, dtype: float64"
      ]
     },
     "execution_count": 51,
     "metadata": {},
     "output_type": "execute_result"
    }
   ],
   "source": [
    "df_2['WR Sep'].describe()"
   ]
  },
  {
   "cell_type": "code",
   "execution_count": 495,
   "metadata": {},
   "outputs": [
    {
     "data": {
      "text/plain": [
       "count    53710.000000\n",
       "mean         3.434869\n",
       "std          1.222487\n",
       "min         -0.355382\n",
       "25%          2.594275\n",
       "50%          3.224229\n",
       "75%          4.153881\n",
       "max          9.114890\n",
       "Name: WR_Sep_pred, dtype: float64"
      ]
     },
     "execution_count": 495,
     "metadata": {},
     "output_type": "execute_result"
    }
   ],
   "source": [
    "df_2['WR_Sep_pred'].describe()\n",
    "# Note how minimum expected separation is below 0!"
   ]
  },
  {
   "cell_type": "code",
   "execution_count": 488,
   "metadata": {},
   "outputs": [
    {
     "data": {
      "text/plain": [
       "<matplotlib.axes._subplots.AxesSubplot at 0x7ff16d2be990>"
      ]
     },
     "execution_count": 488,
     "metadata": {},
     "output_type": "execute_result"
    },
    {
     "data": {
      "image/png": "[encoded data removed]",
      "text/plain": [
       "<Figure size 360x360 with 1 Axes>"
      ]
     },
     "metadata": {},
     "output_type": "display_data"
    }
   ],
   "source": [
    "plt.figure(figsize=(5,5))\n",
    "plt.tight_layout()\n",
    "sns.distplot(df_2['WR Sep'])"
   ]
  },
  {
   "cell_type": "code",
   "execution_count": 498,
   "metadata": {},
   "outputs": [
    {
     "data": {
      "text/plain": [
       "<matplotlib.axes._subplots.AxesSubplot at 0x7ff16d2710d0>"
      ]
     },
     "execution_count": 498,
     "metadata": {},
     "output_type": "execute_result"
    },
    {
     "data": {
      "image/png": "[encoded data removed]",
      "text/plain": [
       "<Figure size 432x288 with 1 Axes>"
      ]
     },
     "metadata": {},
     "output_type": "display_data"
    }
   ],
   "source": [
    "sns.distplot(df_2['WR_Sep_pred'])\n",
    "\n",
    "#Prediction distribution does not resemble atcual output distribution\n",
    "\n",
    "#Remove outliers to re-train"
   ]
  },
  {
   "cell_type": "markdown",
   "metadata": {},
   "source": [
    "# Results"
   ]
  },
  {
   "cell_type": "code",
   "execution_count": 582,
   "metadata": {},
   "outputs": [
    {
     "name": "stdout",
     "output_type": "stream",
     "text": [
      "(53710, 6)\n"
     ]
    },
    {
     "name": "stderr",
     "output_type": "stream",
     "text": [
      "/usr/local/lib/python3.7/site-packages/ipykernel_launcher.py:2: SettingWithCopyWarning: \n",
      "A value is trying to be set on a copy of a slice from a DataFrame.\n",
      "Try using .loc[row_indexer,col_indexer] = value instead\n",
      "\n",
      "See the caveats in the documentation: https://pandas.pydata.org/pandas-docs/stable/user_guide/indexing.html#returning-a-view-versus-a-copy\n",
      "  \n"
     ]
    },
    {
     "data": {
      "text/html": [
       "<div>\n",
       "<style scoped>\n",
       "    .dataframe tbody tr th:only-of-type {\n",
       "        vertical-align: middle;\n",
       "    }\n",
       "\n",
       "    .dataframe tbody tr th {\n",
       "        vertical-align: top;\n",
       "    }\n",
       "\n",
       "    .dataframe thead th {\n",
       "        text-align: right;\n",
       "    }\n",
       "</style>\n",
       "<table border=\"1\" class=\"dataframe\">\n",
       "  <thead>\n",
       "    <tr style=\"text-align: right;\">\n",
       "      <th></th>\n",
       "      <th>WR Sep</th>\n",
       "      <th>WR_Sep_pred</th>\n",
       "      <th>Pos</th>\n",
       "      <th>Season</th>\n",
       "      <th>Receiver</th>\n",
       "      <th>SOE</th>\n",
       "    </tr>\n",
       "  </thead>\n",
       "  <tbody>\n",
       "    <tr>\n",
       "      <th>0</th>\n",
       "      <td>19.226980</td>\n",
       "      <td>2.425046</td>\n",
       "      <td>WR</td>\n",
       "      <td>2018</td>\n",
       "      <td>Chris Hogan</td>\n",
       "      <td>16.801934</td>\n",
       "    </tr>\n",
       "    <tr>\n",
       "      <th>1</th>\n",
       "      <td>18.945078</td>\n",
       "      <td>3.813373</td>\n",
       "      <td>WR</td>\n",
       "      <td>2018</td>\n",
       "      <td>Michael Crabtree</td>\n",
       "      <td>15.131705</td>\n",
       "    </tr>\n",
       "    <tr>\n",
       "      <th>2</th>\n",
       "      <td>18.633497</td>\n",
       "      <td>3.036717</td>\n",
       "      <td>TE</td>\n",
       "      <td>2017</td>\n",
       "      <td>O.J. Howard</td>\n",
       "      <td>15.596781</td>\n",
       "    </tr>\n",
       "    <tr>\n",
       "      <th>3</th>\n",
       "      <td>17.850281</td>\n",
       "      <td>3.088452</td>\n",
       "      <td>TE</td>\n",
       "      <td>2017</td>\n",
       "      <td>Marcedes Lewis</td>\n",
       "      <td>14.761828</td>\n",
       "    </tr>\n",
       "    <tr>\n",
       "      <th>4</th>\n",
       "      <td>17.593319</td>\n",
       "      <td>3.509052</td>\n",
       "      <td>TE</td>\n",
       "      <td>2019</td>\n",
       "      <td>Austin Hooper</td>\n",
       "      <td>14.084267</td>\n",
       "    </tr>\n",
       "  </tbody>\n",
       "</table>\n",
       "</div>"
      ],
      "text/plain": [
       "      WR Sep  WR_Sep_pred Pos  Season          Receiver        SOE\n",
       "0  19.226980     2.425046  WR    2018       Chris Hogan  16.801934\n",
       "1  18.945078     3.813373  WR    2018  Michael Crabtree  15.131705\n",
       "2  18.633497     3.036717  TE    2017       O.J. Howard  15.596781\n",
       "3  17.850281     3.088452  TE    2017    Marcedes Lewis  14.761828\n",
       "4  17.593319     3.509052  TE    2019     Austin Hooper  14.084267"
      ]
     },
     "execution_count": 582,
     "metadata": {},
     "output_type": "execute_result"
    }
   ],
   "source": [
    "df_3 = df_1[['WR Sep', 'WR_Sep_pred', 'Pos', 'Season', 'Receiver']]\n",
    "df_3['SOE'] = df_3['WR Sep']-df_3['WR_Sep_pred']\n",
    "print(df_3.shape)\n",
    "df_3.head()"
   ]
  },
  {
   "cell_type": "code",
   "execution_count": 583,
   "metadata": {},
   "outputs": [
    {
     "data": {
      "text/html": [
       "<div>\n",
       "<style scoped>\n",
       "    .dataframe tbody tr th:only-of-type {\n",
       "        vertical-align: middle;\n",
       "    }\n",
       "\n",
       "    .dataframe tbody tr th {\n",
       "        vertical-align: top;\n",
       "    }\n",
       "\n",
       "    .dataframe thead th {\n",
       "        text-align: right;\n",
       "    }\n",
       "</style>\n",
       "<table border=\"1\" class=\"dataframe\">\n",
       "  <thead>\n",
       "    <tr style=\"text-align: right;\">\n",
       "      <th></th>\n",
       "      <th></th>\n",
       "      <th>Targets</th>\n",
       "    </tr>\n",
       "    <tr>\n",
       "      <th>Receiver</th>\n",
       "      <th>Season</th>\n",
       "      <th></th>\n",
       "    </tr>\n",
       "  </thead>\n",
       "  <tbody>\n",
       "    <tr>\n",
       "      <th>A.J. Brown</th>\n",
       "      <th>2019</th>\n",
       "      <td>94</td>\n",
       "    </tr>\n",
       "    <tr>\n",
       "      <th rowspan=\"2\" valign=\"top\">A.J. Derby</th>\n",
       "      <th>2017</th>\n",
       "      <td>40</td>\n",
       "    </tr>\n",
       "    <tr>\n",
       "      <th>2018</th>\n",
       "      <td>5</td>\n",
       "    </tr>\n",
       "    <tr>\n",
       "      <th rowspan=\"2\" valign=\"top\">A.J. Green</th>\n",
       "      <th>2017</th>\n",
       "      <td>143</td>\n",
       "    </tr>\n",
       "    <tr>\n",
       "      <th>2018</th>\n",
       "      <td>77</td>\n",
       "    </tr>\n",
       "  </tbody>\n",
       "</table>\n",
       "</div>"
      ],
      "text/plain": [
       "                   Targets\n",
       "Receiver   Season         \n",
       "A.J. Brown 2019         94\n",
       "A.J. Derby 2017         40\n",
       "           2018          5\n",
       "A.J. Green 2017        143\n",
       "           2018         77"
      ]
     },
     "execution_count": 583,
     "metadata": {},
     "output_type": "execute_result"
    }
   ],
   "source": [
    "COUNT_df = df_3.groupby(['Receiver', 'Season']).nunique()\n",
    "COUNT_df = COUNT_df.rename(columns = {'WR Sep':'Targets'})\n",
    "COUNT_df = COUNT_df[['Targets']]\n",
    "COUNT_df.head()"
   ]
  },
  {
   "cell_type": "code",
   "execution_count": 584,
   "metadata": {},
   "outputs": [
    {
     "data": {
      "text/html": [
       "<div>\n",
       "<style scoped>\n",
       "    .dataframe tbody tr th:only-of-type {\n",
       "        vertical-align: middle;\n",
       "    }\n",
       "\n",
       "    .dataframe tbody tr th {\n",
       "        vertical-align: top;\n",
       "    }\n",
       "\n",
       "    .dataframe thead th {\n",
       "        text-align: right;\n",
       "    }\n",
       "</style>\n",
       "<table border=\"1\" class=\"dataframe\">\n",
       "  <thead>\n",
       "    <tr style=\"text-align: right;\">\n",
       "      <th></th>\n",
       "      <th>WR Sep</th>\n",
       "      <th>WR_Sep_pred</th>\n",
       "      <th>Pos</th>\n",
       "      <th>Season</th>\n",
       "      <th>Receiver</th>\n",
       "      <th>SOE</th>\n",
       "      <th>Targets</th>\n",
       "    </tr>\n",
       "  </thead>\n",
       "  <tbody>\n",
       "    <tr>\n",
       "      <th>0</th>\n",
       "      <td>19.226980</td>\n",
       "      <td>2.425046</td>\n",
       "      <td>WR</td>\n",
       "      <td>2018</td>\n",
       "      <td>Chris Hogan</td>\n",
       "      <td>16.801934</td>\n",
       "      <td>73</td>\n",
       "    </tr>\n",
       "    <tr>\n",
       "      <th>1</th>\n",
       "      <td>12.055492</td>\n",
       "      <td>2.670115</td>\n",
       "      <td>WR</td>\n",
       "      <td>2018</td>\n",
       "      <td>Chris Hogan</td>\n",
       "      <td>9.385377</td>\n",
       "      <td>73</td>\n",
       "    </tr>\n",
       "    <tr>\n",
       "      <th>2</th>\n",
       "      <td>10.407310</td>\n",
       "      <td>4.916260</td>\n",
       "      <td>WR</td>\n",
       "      <td>2018</td>\n",
       "      <td>Chris Hogan</td>\n",
       "      <td>5.491049</td>\n",
       "      <td>73</td>\n",
       "    </tr>\n",
       "    <tr>\n",
       "      <th>3</th>\n",
       "      <td>8.610627</td>\n",
       "      <td>4.975363</td>\n",
       "      <td>WR</td>\n",
       "      <td>2018</td>\n",
       "      <td>Chris Hogan</td>\n",
       "      <td>3.635264</td>\n",
       "      <td>73</td>\n",
       "    </tr>\n",
       "    <tr>\n",
       "      <th>4</th>\n",
       "      <td>8.218546</td>\n",
       "      <td>2.787814</td>\n",
       "      <td>WR</td>\n",
       "      <td>2018</td>\n",
       "      <td>Chris Hogan</td>\n",
       "      <td>5.430732</td>\n",
       "      <td>73</td>\n",
       "    </tr>\n",
       "  </tbody>\n",
       "</table>\n",
       "</div>"
      ],
      "text/plain": [
       "      WR Sep  WR_Sep_pred Pos  Season     Receiver        SOE  Targets\n",
       "0  19.226980     2.425046  WR    2018  Chris Hogan  16.801934       73\n",
       "1  12.055492     2.670115  WR    2018  Chris Hogan   9.385377       73\n",
       "2  10.407310     4.916260  WR    2018  Chris Hogan   5.491049       73\n",
       "3   8.610627     4.975363  WR    2018  Chris Hogan   3.635264       73\n",
       "4   8.218546     2.787814  WR    2018  Chris Hogan   5.430732       73"
      ]
     },
     "execution_count": 584,
     "metadata": {},
     "output_type": "execute_result"
    }
   ],
   "source": [
    "ESOE = df_3.merge(COUNT_df, on = ['Receiver', 'Season'])\n",
    "ESOE.head()"
   ]
  },
  {
   "cell_type": "code",
   "execution_count": 608,
   "metadata": {},
   "outputs": [
    {
     "data": {
      "text/html": [
       "<div>\n",
       "<style scoped>\n",
       "    .dataframe tbody tr th:only-of-type {\n",
       "        vertical-align: middle;\n",
       "    }\n",
       "\n",
       "    .dataframe tbody tr th {\n",
       "        vertical-align: top;\n",
       "    }\n",
       "\n",
       "    .dataframe thead th {\n",
       "        text-align: right;\n",
       "    }\n",
       "</style>\n",
       "<table border=\"1\" class=\"dataframe\">\n",
       "  <thead>\n",
       "    <tr style=\"text-align: right;\">\n",
       "      <th>Season</th>\n",
       "      <th>2017</th>\n",
       "      <th>2018</th>\n",
       "      <th>2019</th>\n",
       "    </tr>\n",
       "    <tr>\n",
       "      <th>Season</th>\n",
       "      <th></th>\n",
       "      <th></th>\n",
       "      <th></th>\n",
       "    </tr>\n",
       "  </thead>\n",
       "  <tbody>\n",
       "    <tr>\n",
       "      <th>2017</th>\n",
       "      <td>1.000000</td>\n",
       "      <td>0.391008</td>\n",
       "      <td>0.279468</td>\n",
       "    </tr>\n",
       "    <tr>\n",
       "      <th>2018</th>\n",
       "      <td>0.391008</td>\n",
       "      <td>1.000000</td>\n",
       "      <td>0.612324</td>\n",
       "    </tr>\n",
       "    <tr>\n",
       "      <th>2019</th>\n",
       "      <td>0.279468</td>\n",
       "      <td>0.612324</td>\n",
       "      <td>1.000000</td>\n",
       "    </tr>\n",
       "  </tbody>\n",
       "</table>\n",
       "</div>"
      ],
      "text/plain": [
       "Season      2017      2018      2019\n",
       "Season                              \n",
       "2017    1.000000  0.391008  0.279468\n",
       "2018    0.391008  1.000000  0.612324\n",
       "2019    0.279468  0.612324  1.000000"
      ]
     },
     "execution_count": 608,
     "metadata": {},
     "output_type": "execute_result"
    }
   ],
   "source": [
    "ESOE_1 = ESOE.query('Targets > 70')\n",
    "pd.pivot_table(ESOE_1, values='SOE',index='Receiver', columns=['Season']).corr()"
   ]
  },
  {
   "cell_type": "code",
   "execution_count": 576,
   "metadata": {},
   "outputs": [
    {
     "data": {
      "text/html": [
       "<div>\n",
       "<style scoped>\n",
       "    .dataframe tbody tr th:only-of-type {\n",
       "        vertical-align: middle;\n",
       "    }\n",
       "\n",
       "    .dataframe tbody tr th {\n",
       "        vertical-align: top;\n",
       "    }\n",
       "\n",
       "    .dataframe thead th {\n",
       "        text-align: right;\n",
       "    }\n",
       "</style>\n",
       "<table border=\"1\" class=\"dataframe\">\n",
       "  <thead>\n",
       "    <tr style=\"text-align: right;\">\n",
       "      <th></th>\n",
       "      <th>Targets</th>\n",
       "    </tr>\n",
       "    <tr>\n",
       "      <th>Receiver</th>\n",
       "      <th></th>\n",
       "    </tr>\n",
       "  </thead>\n",
       "  <tbody>\n",
       "    <tr>\n",
       "      <th>A.J. Brown</th>\n",
       "      <td>94</td>\n",
       "    </tr>\n",
       "    <tr>\n",
       "      <th>A.J. Derby</th>\n",
       "      <td>45</td>\n",
       "    </tr>\n",
       "    <tr>\n",
       "      <th>A.J. Green</th>\n",
       "      <td>219</td>\n",
       "    </tr>\n",
       "    <tr>\n",
       "      <th>Aaron Jones</th>\n",
       "      <td>128</td>\n",
       "    </tr>\n",
       "    <tr>\n",
       "      <th>Aaron Ripkowski</th>\n",
       "      <td>10</td>\n",
       "    </tr>\n",
       "  </tbody>\n",
       "</table>\n",
       "</div>"
      ],
      "text/plain": [
       "                 Targets\n",
       "Receiver                \n",
       "A.J. Brown            94\n",
       "A.J. Derby            45\n",
       "A.J. Green           219\n",
       "Aaron Jones          128\n",
       "Aaron Ripkowski       10"
      ]
     },
     "execution_count": 576,
     "metadata": {},
     "output_type": "execute_result"
    }
   ],
   "source": [
    "COUNTS_df = df_1.groupby(['Receiver']).nunique()\n",
    "COUNTS_df = COUNTS_df.rename(columns = {'WR Sep':'Targets'})\n",
    "COUNTS_df = COUNTS_df[['Targets']]\n",
    "COUNTS_df.head()"
   ]
  },
  {
   "cell_type": "code",
   "execution_count": 585,
   "metadata": {},
   "outputs": [
    {
     "data": {
      "text/html": [
       "<div>\n",
       "<style scoped>\n",
       "    .dataframe tbody tr th:only-of-type {\n",
       "        vertical-align: middle;\n",
       "    }\n",
       "\n",
       "    .dataframe tbody tr th {\n",
       "        vertical-align: top;\n",
       "    }\n",
       "\n",
       "    .dataframe thead th {\n",
       "        text-align: right;\n",
       "    }\n",
       "</style>\n",
       "<table border=\"1\" class=\"dataframe\">\n",
       "  <thead>\n",
       "    <tr style=\"text-align: right;\">\n",
       "      <th></th>\n",
       "      <th>Receiver</th>\n",
       "      <th>Pos</th>\n",
       "      <th>Season</th>\n",
       "      <th>WR Sep</th>\n",
       "      <th>WR_Sep_pred</th>\n",
       "      <th>SOE</th>\n",
       "      <th>Targets</th>\n",
       "    </tr>\n",
       "  </thead>\n",
       "  <tbody>\n",
       "    <tr>\n",
       "      <th>0</th>\n",
       "      <td>A.J. Brown</td>\n",
       "      <td>WR</td>\n",
       "      <td>2019</td>\n",
       "      <td>2.264605</td>\n",
       "      <td>2.705541</td>\n",
       "      <td>-0.440936</td>\n",
       "      <td>94</td>\n",
       "    </tr>\n",
       "    <tr>\n",
       "      <th>1</th>\n",
       "      <td>A.J. Derby</td>\n",
       "      <td>TE</td>\n",
       "      <td>2017</td>\n",
       "      <td>3.148059</td>\n",
       "      <td>3.069762</td>\n",
       "      <td>0.078297</td>\n",
       "      <td>40</td>\n",
       "    </tr>\n",
       "    <tr>\n",
       "      <th>2</th>\n",
       "      <td>A.J. Derby</td>\n",
       "      <td>TE</td>\n",
       "      <td>2018</td>\n",
       "      <td>1.569060</td>\n",
       "      <td>3.257779</td>\n",
       "      <td>-1.688719</td>\n",
       "      <td>5</td>\n",
       "    </tr>\n",
       "    <tr>\n",
       "      <th>3</th>\n",
       "      <td>A.J. Green</td>\n",
       "      <td>WR</td>\n",
       "      <td>2017</td>\n",
       "      <td>2.353555</td>\n",
       "      <td>2.760961</td>\n",
       "      <td>-0.407406</td>\n",
       "      <td>143</td>\n",
       "    </tr>\n",
       "    <tr>\n",
       "      <th>4</th>\n",
       "      <td>A.J. Green</td>\n",
       "      <td>WR</td>\n",
       "      <td>2018</td>\n",
       "      <td>2.028804</td>\n",
       "      <td>2.686763</td>\n",
       "      <td>-0.657959</td>\n",
       "      <td>77</td>\n",
       "    </tr>\n",
       "  </tbody>\n",
       "</table>\n",
       "</div>"
      ],
      "text/plain": [
       "     Receiver Pos  Season    WR Sep  WR_Sep_pred       SOE  Targets\n",
       "0  A.J. Brown  WR    2019  2.264605     2.705541 -0.440936       94\n",
       "1  A.J. Derby  TE    2017  3.148059     3.069762  0.078297       40\n",
       "2  A.J. Derby  TE    2018  1.569060     3.257779 -1.688719        5\n",
       "3  A.J. Green  WR    2017  2.353555     2.760961 -0.407406      143\n",
       "4  A.J. Green  WR    2018  2.028804     2.686763 -0.657959       77"
      ]
     },
     "execution_count": 585,
     "metadata": {},
     "output_type": "execute_result"
    }
   ],
   "source": [
    "df_3 = df_3.groupby(['Receiver', 'Pos', 'Season']).mean().reset_index()\n",
    "Season_df = df_3.merge(COUNT_df, on = ['Receiver', 'Season'])\n",
    "Season_df.head(5)"
   ]
  },
  {
   "cell_type": "code",
   "execution_count": 600,
   "metadata": {},
   "outputs": [
    {
     "data": {
      "text/html": [
       "<div>\n",
       "<style scoped>\n",
       "    .dataframe tbody tr th:only-of-type {\n",
       "        vertical-align: middle;\n",
       "    }\n",
       "\n",
       "    .dataframe tbody tr th {\n",
       "        vertical-align: top;\n",
       "    }\n",
       "\n",
       "    .dataframe thead th {\n",
       "        text-align: right;\n",
       "    }\n",
       "</style>\n",
       "<table border=\"1\" class=\"dataframe\">\n",
       "  <thead>\n",
       "    <tr style=\"text-align: right;\">\n",
       "      <th></th>\n",
       "      <th>Receiver</th>\n",
       "      <th>Pos</th>\n",
       "      <th>Season</th>\n",
       "      <th>WR Sep</th>\n",
       "      <th>WR_Sep_pred</th>\n",
       "      <th>SOE</th>\n",
       "      <th>Targets</th>\n",
       "    </tr>\n",
       "  </thead>\n",
       "  <tbody>\n",
       "    <tr>\n",
       "      <th>112</th>\n",
       "      <td>Austin Hooper</td>\n",
       "      <td>TE</td>\n",
       "      <td>2019</td>\n",
       "      <td>3.538621</td>\n",
       "      <td>3.220217</td>\n",
       "      <td>0.318403</td>\n",
       "      <td>97</td>\n",
       "    </tr>\n",
       "    <tr>\n",
       "      <th>1446</th>\n",
       "      <td>Tyler Higbee</td>\n",
       "      <td>TE</td>\n",
       "      <td>2019</td>\n",
       "      <td>3.681872</td>\n",
       "      <td>3.459660</td>\n",
       "      <td>0.222212</td>\n",
       "      <td>89</td>\n",
       "    </tr>\n",
       "    <tr>\n",
       "      <th>641</th>\n",
       "      <td>Jack Doyle</td>\n",
       "      <td>TE</td>\n",
       "      <td>2019</td>\n",
       "      <td>3.531383</td>\n",
       "      <td>3.360330</td>\n",
       "      <td>0.171053</td>\n",
       "      <td>72</td>\n",
       "    </tr>\n",
       "    <tr>\n",
       "      <th>709</th>\n",
       "      <td>Jason Witten</td>\n",
       "      <td>TE</td>\n",
       "      <td>2019</td>\n",
       "      <td>3.343906</td>\n",
       "      <td>3.205135</td>\n",
       "      <td>0.138771</td>\n",
       "      <td>82</td>\n",
       "    </tr>\n",
       "    <tr>\n",
       "      <th>1403</th>\n",
       "      <td>Travis Kelce</td>\n",
       "      <td>TE</td>\n",
       "      <td>2019</td>\n",
       "      <td>3.047146</td>\n",
       "      <td>2.967638</td>\n",
       "      <td>0.079509</td>\n",
       "      <td>158</td>\n",
       "    </tr>\n",
       "  </tbody>\n",
       "</table>\n",
       "</div>"
      ],
      "text/plain": [
       "           Receiver Pos  Season    WR Sep  WR_Sep_pred       SOE  Targets\n",
       "112   Austin Hooper  TE    2019  3.538621     3.220217  0.318403       97\n",
       "1446   Tyler Higbee  TE    2019  3.681872     3.459660  0.222212       89\n",
       "641      Jack Doyle  TE    2019  3.531383     3.360330  0.171053       72\n",
       "709    Jason Witten  TE    2019  3.343906     3.205135  0.138771       82\n",
       "1403   Travis Kelce  TE    2019  3.047146     2.967638  0.079509      158"
      ]
     },
     "execution_count": 600,
     "metadata": {},
     "output_type": "execute_result"
    }
   ],
   "source": [
    "df_2019 = Season_df[Season_df['Season'] == 2019]\n",
    "df_2019 = df_2019[df_2019['Targets'] > 70].sort_values(['SOE'], ascending = False)\n",
    "TE_df_2019 = df_2019[df_2019['Pos'] == 'TE']\n",
    "TE_df_2019.head(5)"
   ]
  },
  {
   "cell_type": "code",
   "execution_count": 609,
   "metadata": {},
   "outputs": [
    {
     "data": {
      "text/html": [
       "<div>\n",
       "<style scoped>\n",
       "    .dataframe tbody tr th:only-of-type {\n",
       "        vertical-align: middle;\n",
       "    }\n",
       "\n",
       "    .dataframe tbody tr th {\n",
       "        vertical-align: top;\n",
       "    }\n",
       "\n",
       "    .dataframe thead th {\n",
       "        text-align: right;\n",
       "    }\n",
       "</style>\n",
       "<table border=\"1\" class=\"dataframe\">\n",
       "  <thead>\n",
       "    <tr style=\"text-align: right;\">\n",
       "      <th></th>\n",
       "      <th>Receiver</th>\n",
       "      <th>Pos</th>\n",
       "      <th>Season</th>\n",
       "      <th>WR Sep</th>\n",
       "      <th>WR_Sep_pred</th>\n",
       "      <th>SOE</th>\n",
       "      <th>Targets</th>\n",
       "    </tr>\n",
       "  </thead>\n",
       "  <tbody>\n",
       "    <tr>\n",
       "      <th>593</th>\n",
       "      <td>Golden Tate</td>\n",
       "      <td>WR</td>\n",
       "      <td>2019</td>\n",
       "      <td>2.169495</td>\n",
       "      <td>3.016369</td>\n",
       "      <td>-0.846874</td>\n",
       "      <td>85</td>\n",
       "    </tr>\n",
       "    <tr>\n",
       "      <th>1031</th>\n",
       "      <td>Marvin Jones</td>\n",
       "      <td>WR</td>\n",
       "      <td>2019</td>\n",
       "      <td>2.085532</td>\n",
       "      <td>2.880017</td>\n",
       "      <td>-0.794485</td>\n",
       "      <td>91</td>\n",
       "    </tr>\n",
       "    <tr>\n",
       "      <th>104</th>\n",
       "      <td>Auden Tate</td>\n",
       "      <td>WR</td>\n",
       "      <td>2019</td>\n",
       "      <td>2.270225</td>\n",
       "      <td>2.984882</td>\n",
       "      <td>-0.714657</td>\n",
       "      <td>80</td>\n",
       "    </tr>\n",
       "    <tr>\n",
       "      <th>837</th>\n",
       "      <td>Julio Jones</td>\n",
       "      <td>WR</td>\n",
       "      <td>2019</td>\n",
       "      <td>2.163855</td>\n",
       "      <td>2.849959</td>\n",
       "      <td>-0.686104</td>\n",
       "      <td>156</td>\n",
       "    </tr>\n",
       "    <tr>\n",
       "      <th>896</th>\n",
       "      <td>Kenny Golladay</td>\n",
       "      <td>WR</td>\n",
       "      <td>2019</td>\n",
       "      <td>1.947729</td>\n",
       "      <td>2.619174</td>\n",
       "      <td>-0.671444</td>\n",
       "      <td>113</td>\n",
       "    </tr>\n",
       "    <tr>\n",
       "      <th>52</th>\n",
       "      <td>Allen Robinson</td>\n",
       "      <td>WR</td>\n",
       "      <td>2019</td>\n",
       "      <td>2.235598</td>\n",
       "      <td>2.849525</td>\n",
       "      <td>-0.613927</td>\n",
       "      <td>154</td>\n",
       "    </tr>\n",
       "    <tr>\n",
       "      <th>1095</th>\n",
       "      <td>Mike Williams</td>\n",
       "      <td>WR</td>\n",
       "      <td>2019</td>\n",
       "      <td>2.003895</td>\n",
       "      <td>2.515296</td>\n",
       "      <td>-0.511401</td>\n",
       "      <td>90</td>\n",
       "    </tr>\n",
       "    <tr>\n",
       "      <th>704</th>\n",
       "      <td>Jarvis Landry</td>\n",
       "      <td>WR</td>\n",
       "      <td>2019</td>\n",
       "      <td>2.587291</td>\n",
       "      <td>3.096577</td>\n",
       "      <td>-0.509285</td>\n",
       "      <td>138</td>\n",
       "    </tr>\n",
       "    <tr>\n",
       "      <th>1224</th>\n",
       "      <td>Robby Anderson</td>\n",
       "      <td>WR</td>\n",
       "      <td>2019</td>\n",
       "      <td>2.173501</td>\n",
       "      <td>2.681715</td>\n",
       "      <td>-0.508214</td>\n",
       "      <td>96</td>\n",
       "    </tr>\n",
       "    <tr>\n",
       "      <th>1435</th>\n",
       "      <td>Tyler Boyd</td>\n",
       "      <td>WR</td>\n",
       "      <td>2019</td>\n",
       "      <td>2.642544</td>\n",
       "      <td>3.129616</td>\n",
       "      <td>-0.487072</td>\n",
       "      <td>148</td>\n",
       "    </tr>\n",
       "  </tbody>\n",
       "</table>\n",
       "</div>"
      ],
      "text/plain": [
       "            Receiver Pos  Season    WR Sep  WR_Sep_pred       SOE  Targets\n",
       "593      Golden Tate  WR    2019  2.169495     3.016369 -0.846874       85\n",
       "1031    Marvin Jones  WR    2019  2.085532     2.880017 -0.794485       91\n",
       "104       Auden Tate  WR    2019  2.270225     2.984882 -0.714657       80\n",
       "837      Julio Jones  WR    2019  2.163855     2.849959 -0.686104      156\n",
       "896   Kenny Golladay  WR    2019  1.947729     2.619174 -0.671444      113\n",
       "52    Allen Robinson  WR    2019  2.235598     2.849525 -0.613927      154\n",
       "1095   Mike Williams  WR    2019  2.003895     2.515296 -0.511401       90\n",
       "704    Jarvis Landry  WR    2019  2.587291     3.096577 -0.509285      138\n",
       "1224  Robby Anderson  WR    2019  2.173501     2.681715 -0.508214       96\n",
       "1435      Tyler Boyd  WR    2019  2.642544     3.129616 -0.487072      148"
      ]
     },
     "execution_count": 609,
     "metadata": {},
     "output_type": "execute_result"
    }
   ],
   "source": [
    "WR_df_2019 = df_2019[df_2019['Targets'] > 70].sort_values(['SOE'], ascending = True)\n",
    "WR_df_2019 = WR_df_2019[WR_df_2019['Pos'] == 'WR']\n",
    "WR_df_2019.head(10)"
   ]
  },
  {
   "cell_type": "code",
   "execution_count": 523,
   "metadata": {},
   "outputs": [
    {
     "data": {
      "text/plain": [
       "<matplotlib.axes._subplots.AxesSubplot at 0x7ff16d008450>"
      ]
     },
     "execution_count": 523,
     "metadata": {},
     "output_type": "execute_result"
    },
    {
     "data": {
      "image/png": "[encoded data removed]",
      "text/plain": [
       "<Figure size 432x288 with 1 Axes>"
      ]
     },
     "metadata": {},
     "output_type": "display_data"
    }
   ],
   "source": [
    "sns.residplot(df_2['WR Sep'], df_2['WR_Sep_pred'])"
   ]
  },
  {
   "cell_type": "code",
   "execution_count": 596,
   "metadata": {},
   "outputs": [
    {
     "data": {
      "text/html": [
       "<div>\n",
       "<style scoped>\n",
       "    .dataframe tbody tr th:only-of-type {\n",
       "        vertical-align: middle;\n",
       "    }\n",
       "\n",
       "    .dataframe tbody tr th {\n",
       "        vertical-align: top;\n",
       "    }\n",
       "\n",
       "    .dataframe thead th {\n",
       "        text-align: right;\n",
       "    }\n",
       "</style>\n",
       "<table border=\"1\" class=\"dataframe\">\n",
       "  <thead>\n",
       "    <tr style=\"text-align: right;\">\n",
       "      <th></th>\n",
       "      <th>Receiver</th>\n",
       "      <th>Pos</th>\n",
       "      <th>Season</th>\n",
       "      <th>WR Sep</th>\n",
       "      <th>WR_Sep_pred</th>\n",
       "      <th>SOE</th>\n",
       "      <th>Targets</th>\n",
       "    </tr>\n",
       "  </thead>\n",
       "  <tbody>\n",
       "    <tr>\n",
       "      <th>593</th>\n",
       "      <td>Golden Tate</td>\n",
       "      <td>WR</td>\n",
       "      <td>2019</td>\n",
       "      <td>2.169495</td>\n",
       "      <td>3.016369</td>\n",
       "      <td>-0.846874</td>\n",
       "      <td>85</td>\n",
       "    </tr>\n",
       "    <tr>\n",
       "      <th>1031</th>\n",
       "      <td>Marvin Jones</td>\n",
       "      <td>WR</td>\n",
       "      <td>2019</td>\n",
       "      <td>2.085532</td>\n",
       "      <td>2.880017</td>\n",
       "      <td>-0.794485</td>\n",
       "      <td>91</td>\n",
       "    </tr>\n",
       "    <tr>\n",
       "      <th>832</th>\n",
       "      <td>JuJu Smith-Schuster</td>\n",
       "      <td>WR</td>\n",
       "      <td>2019</td>\n",
       "      <td>2.373298</td>\n",
       "      <td>3.107643</td>\n",
       "      <td>-0.734345</td>\n",
       "      <td>70</td>\n",
       "    </tr>\n",
       "    <tr>\n",
       "      <th>104</th>\n",
       "      <td>Auden Tate</td>\n",
       "      <td>WR</td>\n",
       "      <td>2019</td>\n",
       "      <td>2.270225</td>\n",
       "      <td>2.984882</td>\n",
       "      <td>-0.714657</td>\n",
       "      <td>80</td>\n",
       "    </tr>\n",
       "    <tr>\n",
       "      <th>837</th>\n",
       "      <td>Julio Jones</td>\n",
       "      <td>WR</td>\n",
       "      <td>2019</td>\n",
       "      <td>2.163855</td>\n",
       "      <td>2.849959</td>\n",
       "      <td>-0.686104</td>\n",
       "      <td>156</td>\n",
       "    </tr>\n",
       "    <tr>\n",
       "      <th>444</th>\n",
       "      <td>Demaryius Thomas</td>\n",
       "      <td>WR</td>\n",
       "      <td>2019</td>\n",
       "      <td>2.479617</td>\n",
       "      <td>3.156845</td>\n",
       "      <td>-0.677228</td>\n",
       "      <td>58</td>\n",
       "    </tr>\n",
       "    <tr>\n",
       "      <th>896</th>\n",
       "      <td>Kenny Golladay</td>\n",
       "      <td>WR</td>\n",
       "      <td>2019</td>\n",
       "      <td>1.947729</td>\n",
       "      <td>2.619174</td>\n",
       "      <td>-0.671444</td>\n",
       "      <td>113</td>\n",
       "    </tr>\n",
       "    <tr>\n",
       "      <th>52</th>\n",
       "      <td>Allen Robinson</td>\n",
       "      <td>WR</td>\n",
       "      <td>2019</td>\n",
       "      <td>2.235598</td>\n",
       "      <td>2.849525</td>\n",
       "      <td>-0.613927</td>\n",
       "      <td>154</td>\n",
       "    </tr>\n",
       "    <tr>\n",
       "      <th>1095</th>\n",
       "      <td>Mike Williams</td>\n",
       "      <td>WR</td>\n",
       "      <td>2019</td>\n",
       "      <td>2.003895</td>\n",
       "      <td>2.515296</td>\n",
       "      <td>-0.511401</td>\n",
       "      <td>90</td>\n",
       "    </tr>\n",
       "    <tr>\n",
       "      <th>704</th>\n",
       "      <td>Jarvis Landry</td>\n",
       "      <td>WR</td>\n",
       "      <td>2019</td>\n",
       "      <td>2.587291</td>\n",
       "      <td>3.096577</td>\n",
       "      <td>-0.509285</td>\n",
       "      <td>138</td>\n",
       "    </tr>\n",
       "  </tbody>\n",
       "</table>\n",
       "</div>"
      ],
      "text/plain": [
       "                 Receiver Pos  Season    WR Sep  WR_Sep_pred       SOE  \\\n",
       "593           Golden Tate  WR    2019  2.169495     3.016369 -0.846874   \n",
       "1031         Marvin Jones  WR    2019  2.085532     2.880017 -0.794485   \n",
       "832   JuJu Smith-Schuster  WR    2019  2.373298     3.107643 -0.734345   \n",
       "104            Auden Tate  WR    2019  2.270225     2.984882 -0.714657   \n",
       "837           Julio Jones  WR    2019  2.163855     2.849959 -0.686104   \n",
       "444      Demaryius Thomas  WR    2019  2.479617     3.156845 -0.677228   \n",
       "896        Kenny Golladay  WR    2019  1.947729     2.619174 -0.671444   \n",
       "52         Allen Robinson  WR    2019  2.235598     2.849525 -0.613927   \n",
       "1095        Mike Williams  WR    2019  2.003895     2.515296 -0.511401   \n",
       "704         Jarvis Landry  WR    2019  2.587291     3.096577 -0.509285   \n",
       "\n",
       "      Targets  \n",
       "593        85  \n",
       "1031       91  \n",
       "832        70  \n",
       "104        80  \n",
       "837       156  \n",
       "444        58  \n",
       "896       113  \n",
       "52        154  \n",
       "1095       90  \n",
       "704       138  "
      ]
     },
     "execution_count": 596,
     "metadata": {},
     "output_type": "execute_result"
    }
   ],
   "source": [
    "WR_df_2019 = df_2019[df_2019['Pos'] == 'WR']\n",
    "WR_df_2019.head(10)"
   ]
  },
  {
   "cell_type": "code",
   "execution_count": 525,
   "metadata": {},
   "outputs": [
    {
     "name": "stdout",
     "output_type": "stream",
     "text": [
      "(0.8602323532104492, 1.139461201577887e-34)\n"
     ]
    },
    {
     "data": {
      "image/png": "[encoded data removed]",
      "text/plain": [
       "<Figure size 432x288 with 1 Axes>"
      ]
     },
     "metadata": {},
     "output_type": "display_data"
    }
   ],
   "source": [
    "sns.distplot(df_3['SOE'])\n",
    "print(stats.shapiro(df_3['SOE']))"
   ]
  },
  {
   "cell_type": "code",
   "execution_count": 568,
   "metadata": {},
   "outputs": [
    {
     "data": {
      "text/plain": [
       "count    1513.000000\n",
       "mean       -0.164351\n",
       "std         1.140385\n",
       "min        -5.162299\n",
       "25%        -0.594507\n",
       "50%        -0.202687\n",
       "75%         0.222723\n",
       "max         9.095044\n",
       "Name: SOE, dtype: float64"
      ]
     },
     "execution_count": 568,
     "metadata": {},
     "output_type": "execute_result"
    }
   ],
   "source": [
    "df_3['SOE'].describe()"
   ]
  },
  {
   "cell_type": "code",
   "execution_count": null,
   "metadata": {},
   "outputs": [],
   "source": []
  }
 ],
 "metadata": {
  "kernelspec": {
   "display_name": "Python 3",
   "language": "python",
   "name": "python3"
  },
  "language_info": {
   "codemirror_mode": {
    "name": "ipython",
    "version": 3
   },
   "file_extension": ".py",
   "mimetype": "text/x-python",
   "name": "python",
   "nbconvert_exporter": "python",
   "pygments_lexer": "ipython3",
   "version": "3.7.3"
  }
 },
 "nbformat": 4,
 "nbformat_minor": 4
}
