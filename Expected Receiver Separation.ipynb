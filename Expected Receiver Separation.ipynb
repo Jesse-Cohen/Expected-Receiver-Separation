{
 "cells": [
  {
   "cell_type": "markdown",
   "metadata": {},
   "source": [
    "## Goal\n",
    "\n",
    "The goal of this project is to predict an NFL receiver's separation at the time of pass arrival. I will be using the NFL's player-tracking data set from the last 3 seasons (2017-2019) to create these predictions\n",
    "\n",
    "## Motivation\n",
    "\n",
    "All receivers are NOT built equal. Receivers like Tyler Lockett (Seahawks) are short, quick, and line up in the 'Slot' often, while others like Allen Robinson (Bears) are tall, strong, and often line up out 'Wide'. Since these players have different body types, abilities, and team roles, I don't think they would have similar average receiver separations. To this end, I want to look into how much separation a receiver gains RELATIVE to their situations. \n",
    "\n",
    "For example, a receiver that lines up out 'Wide', is pressed at the line of scrimage, and is targeted 20 yards downfield should have little to no separation when the pass arrives. In contrast, a reciver that lines up in the backfield and is targeted 3 yards behind the line of scrimmage should expect to have more separation.\n",
    "\n",
    "When aggregated over a course of a game, season, or career, this 'expected separation' value should bring context into the players TRUE ability to separate given their in-play circumstances.\n",
    "\n"
   ]
  },
  {
   "cell_type": "code",
   "execution_count": 1,
   "metadata": {},
   "outputs": [
    {
     "name": "stderr",
     "output_type": "stream",
     "text": [
      "Using TensorFlow backend.\n"
     ]
    }
   ],
   "source": [
    "# Data Manipulation Modules\n",
    "import pandas as pd\n",
    "import numpy as np\n",
    "import scipy as sp\n",
    "import numpy as np\n",
    "import math \n",
    "import scipy.stats as stats\n",
    "import fancyimpute \n",
    "\n",
    "# Visualizations\n",
    "import seaborn as sns\n",
    "import matplotlib.pyplot as plt\n",
    "import missingno as ms\n",
    "\n",
    "# Managing Warnings \n",
    "import warnings\n",
    "warnings.filterwarnings('ignore')"
   ]
  },
  {
   "cell_type": "code",
   "execution_count": 2,
   "metadata": {},
   "outputs": [],
   "source": [
    "LoadData = \"../data/ExpSepPos.csv\"\n",
    "\n",
    "df = pd.read_csv(LoadData, index_col = False)\n",
    "\n",
    "random_state = 1"
   ]
  },
  {
   "cell_type": "code",
   "execution_count": 3,
   "metadata": {},
   "outputs": [
    {
     "name": "stdout",
     "output_type": "stream",
     "text": [
      "(53710, 31)\n",
      "2020020200\n",
      "2017090700\n"
     ]
    },
    {
     "data": {
      "text/html": [
       "<div>\n",
       "<style scoped>\n",
       "    .dataframe tbody tr th:only-of-type {\n",
       "        vertical-align: middle;\n",
       "    }\n",
       "\n",
       "    .dataframe tbody tr th {\n",
       "        vertical-align: top;\n",
       "    }\n",
       "\n",
       "    .dataframe thead th {\n",
       "        text-align: right;\n",
       "    }\n",
       "</style>\n",
       "<table border=\"1\" class=\"dataframe\">\n",
       "  <thead>\n",
       "    <tr style=\"text-align: right;\">\n",
       "      <th></th>\n",
       "      <th>GameId</th>\n",
       "      <th>PlayId</th>\n",
       "      <th>Season</th>\n",
       "      <th>Team</th>\n",
       "      <th>Receiver</th>\n",
       "      <th>Nearest_Defender</th>\n",
       "      <th>Nearest_Def_Position</th>\n",
       "      <th>Opp</th>\n",
       "      <th>Wk</th>\n",
       "      <th>Qtr</th>\n",
       "      <th>...</th>\n",
       "      <th>Air_Dist</th>\n",
       "      <th>Air_Time</th>\n",
       "      <th>TTT</th>\n",
       "      <th>Separation</th>\n",
       "      <th>QB_Separation</th>\n",
       "      <th>QBP</th>\n",
       "      <th>QB_Scramble_Yds</th>\n",
       "      <th>Receiver_Dist_From_Sideline</th>\n",
       "      <th>QB_Speed_at_Pass</th>\n",
       "      <th>EZ_Dist</th>\n",
       "    </tr>\n",
       "  </thead>\n",
       "  <tbody>\n",
       "    <tr>\n",
       "      <th>0</th>\n",
       "      <td>2017102910</td>\n",
       "      <td>2814</td>\n",
       "      <td>2017</td>\n",
       "      <td>PIT</td>\n",
       "      <td>JuJu Smith-Schuster</td>\n",
       "      <td>Quandre Diggs</td>\n",
       "      <td>SS</td>\n",
       "      <td>DET</td>\n",
       "      <td>8</td>\n",
       "      <td>3</td>\n",
       "      <td>...</td>\n",
       "      <td>33.119846</td>\n",
       "      <td>1.539</td>\n",
       "      <td>2.756</td>\n",
       "      <td>1.785385</td>\n",
       "      <td>2.084347</td>\n",
       "      <td>0</td>\n",
       "      <td>4.12</td>\n",
       "      <td>26.303329</td>\n",
       "      <td>1.145455</td>\n",
       "      <td>37.540001</td>\n",
       "    </tr>\n",
       "    <tr>\n",
       "      <th>1</th>\n",
       "      <td>2018112509</td>\n",
       "      <td>2475</td>\n",
       "      <td>2018</td>\n",
       "      <td>PIT</td>\n",
       "      <td>JuJu Smith-Schuster</td>\n",
       "      <td>Bradley Roby</td>\n",
       "      <td>CB</td>\n",
       "      <td>DEN</td>\n",
       "      <td>12</td>\n",
       "      <td>3</td>\n",
       "      <td>...</td>\n",
       "      <td>37.510450</td>\n",
       "      <td>2.202</td>\n",
       "      <td>2.436</td>\n",
       "      <td>2.674790</td>\n",
       "      <td>1.540033</td>\n",
       "      <td>1</td>\n",
       "      <td>7.09</td>\n",
       "      <td>12.303331</td>\n",
       "      <td>3.763636</td>\n",
       "      <td>40.230003</td>\n",
       "    </tr>\n",
       "    <tr>\n",
       "      <th>2</th>\n",
       "      <td>2017111208</td>\n",
       "      <td>2731</td>\n",
       "      <td>2017</td>\n",
       "      <td>LA</td>\n",
       "      <td>Robert Woods</td>\n",
       "      <td>Johnathan Joseph</td>\n",
       "      <td>CB</td>\n",
       "      <td>HOU</td>\n",
       "      <td>10</td>\n",
       "      <td>3</td>\n",
       "      <td>...</td>\n",
       "      <td>52.871040</td>\n",
       "      <td>2.633</td>\n",
       "      <td>3.135</td>\n",
       "      <td>3.966674</td>\n",
       "      <td>3.386576</td>\n",
       "      <td>0</td>\n",
       "      <td>7.52</td>\n",
       "      <td>17.230000</td>\n",
       "      <td>1.247727</td>\n",
       "      <td>58.880001</td>\n",
       "    </tr>\n",
       "    <tr>\n",
       "      <th>3</th>\n",
       "      <td>2019120800</td>\n",
       "      <td>2777</td>\n",
       "      <td>2019</td>\n",
       "      <td>ATL</td>\n",
       "      <td>Olamide Zaccheaus</td>\n",
       "      <td>Donte Jackson</td>\n",
       "      <td>CB</td>\n",
       "      <td>CAR</td>\n",
       "      <td>14</td>\n",
       "      <td>3</td>\n",
       "      <td>...</td>\n",
       "      <td>49.233444</td>\n",
       "      <td>3.018</td>\n",
       "      <td>2.771</td>\n",
       "      <td>0.910220</td>\n",
       "      <td>2.814427</td>\n",
       "      <td>0</td>\n",
       "      <td>5.20</td>\n",
       "      <td>19.433328</td>\n",
       "      <td>1.329546</td>\n",
       "      <td>56.439999</td>\n",
       "    </tr>\n",
       "    <tr>\n",
       "      <th>4</th>\n",
       "      <td>2019101310</td>\n",
       "      <td>1630</td>\n",
       "      <td>2019</td>\n",
       "      <td>NYJ</td>\n",
       "      <td>Robby Anderson</td>\n",
       "      <td>Jeff Heath</td>\n",
       "      <td>SS</td>\n",
       "      <td>DAL</td>\n",
       "      <td>6</td>\n",
       "      <td>2</td>\n",
       "      <td>...</td>\n",
       "      <td>46.187710</td>\n",
       "      <td>2.636</td>\n",
       "      <td>3.003</td>\n",
       "      <td>1.676305</td>\n",
       "      <td>1.471224</td>\n",
       "      <td>1</td>\n",
       "      <td>6.58</td>\n",
       "      <td>15.103330</td>\n",
       "      <td>3.477273</td>\n",
       "      <td>57.060001</td>\n",
       "    </tr>\n",
       "  </tbody>\n",
       "</table>\n",
       "<p>5 rows × 31 columns</p>\n",
       "</div>"
      ],
      "text/plain": [
       "       GameId  PlayId  Season Team             Receiver  Nearest_Defender  \\\n",
       "0  2017102910    2814    2017  PIT  JuJu Smith-Schuster     Quandre Diggs   \n",
       "1  2018112509    2475    2018  PIT  JuJu Smith-Schuster      Bradley Roby   \n",
       "2  2017111208    2731    2017   LA         Robert Woods  Johnathan Joseph   \n",
       "3  2019120800    2777    2019  ATL    Olamide Zaccheaus     Donte Jackson   \n",
       "4  2019101310    1630    2019  NYJ       Robby Anderson        Jeff Heath   \n",
       "\n",
       "  Nearest_Def_Position  Opp  Wk  Qtr  ...   Air_Dist  Air_Time    TTT  \\\n",
       "0                   SS  DET   8    3  ...  33.119846     1.539  2.756   \n",
       "1                   CB  DEN  12    3  ...  37.510450     2.202  2.436   \n",
       "2                   CB  HOU  10    3  ...  52.871040     2.633  3.135   \n",
       "3                   CB  CAR  14    3  ...  49.233444     3.018  2.771   \n",
       "4                   SS  DAL   6    2  ...  46.187710     2.636  3.003   \n",
       "\n",
       "  Separation  QB_Separation  QBP  QB_Scramble_Yds  \\\n",
       "0   1.785385       2.084347    0             4.12   \n",
       "1   2.674790       1.540033    1             7.09   \n",
       "2   3.966674       3.386576    0             7.52   \n",
       "3   0.910220       2.814427    0             5.20   \n",
       "4   1.676305       1.471224    1             6.58   \n",
       "\n",
       "   Receiver_Dist_From_Sideline  QB_Speed_at_Pass    EZ_Dist  \n",
       "0                    26.303329          1.145455  37.540001  \n",
       "1                    12.303331          3.763636  40.230003  \n",
       "2                    17.230000          1.247727  58.880001  \n",
       "3                    19.433328          1.329546  56.439999  \n",
       "4                    15.103330          3.477273  57.060001  \n",
       "\n",
       "[5 rows x 31 columns]"
      ]
     },
     "execution_count": 3,
     "metadata": {},
     "output_type": "execute_result"
    }
   ],
   "source": [
    "print(df.shape)\n",
    "print(max(df['GameId']))\n",
    "print(min(df['GameId']))\n",
    "df.head()"
   ]
  },
  {
   "cell_type": "markdown",
   "metadata": {},
   "source": [
    "Our Dataset spans 3 years (2017-2020) and includes regular and postseason games. We have a total of 53,710 total passes with non-null receiver separations to work with. \n",
    "\n",
    "# Predicting Receiver Separation\n",
    "\n",
    "## Data Cleaning\n",
    "\n",
    "- Handle missing values\n",
    "    - Discuss various ways to impute missing/null values\n",
    "    - Remove Rows with missing cushion?\n",
    "- Handle Outliers\n",
    "\n",
    "## Data Exploration\n",
    "\n",
    "- Feature Analysis\n",
    "    - Numerical Features\n",
    "        - Discrete Features\n",
    "        - Continuous Features\n",
    "    - Categorical Features\n",
    "- Feature Engineering\n",
    "    - Nearest Defender Position into broader groups\n",
    "    \n",
    "## Model Selection\n",
    "\n",
    "- Choosing the right Model\n",
    "    - Linear Regression\n",
    "        - LASSO Regression\n",
    "        - Ridge Regression\n",
    "    - Random Fore"
   ]
  },
  {
   "cell_type": "code",
   "execution_count": 4,
   "metadata": {},
   "outputs": [],
   "source": [
    "# Describing all the Numerical Features\n",
    "df.describe()\n",
    "COLS = df.columns.to_list()"
   ]
  },
  {
   "cell_type": "code",
   "execution_count": 5,
   "metadata": {},
   "outputs": [],
   "source": [
    "# Describing all the Categorical Features\n",
    "#df.describe(include=['O'])"
   ]
  },
  {
   "cell_type": "markdown",
   "metadata": {},
   "source": [
    "## Dropping non-relevant features \n",
    "\n",
    "Right off the bat, I think a lot the variables in this dataset will not be useful in predicting reciever separation. Also, there are a lot features in this set that describe the outcome of the event. These features (Pass Yards, TD, INT) cannot be used in prediction. For features that I am skeptical of, but not sure about their effect, I will leave alone, otherwise I will drop all non-essential features below."
   ]
  },
  {
   "cell_type": "code",
   "execution_count": 6,
   "metadata": {},
   "outputs": [
    {
     "name": "stdout",
     "output_type": "stream",
     "text": [
      "We are left with 15 features to help with prediction\n"
     ]
    },
    {
     "data": {
      "text/html": [
       "<div>\n",
       "<style scoped>\n",
       "    .dataframe tbody tr th:only-of-type {\n",
       "        vertical-align: middle;\n",
       "    }\n",
       "\n",
       "    .dataframe tbody tr th {\n",
       "        vertical-align: top;\n",
       "    }\n",
       "\n",
       "    .dataframe thead th {\n",
       "        text-align: right;\n",
       "    }\n",
       "</style>\n",
       "<table border=\"1\" class=\"dataframe\">\n",
       "  <thead>\n",
       "    <tr style=\"text-align: right;\">\n",
       "      <th></th>\n",
       "      <th>Nearest_Def_Position</th>\n",
       "      <th>Qtr</th>\n",
       "      <th>Down</th>\n",
       "      <th>To Go</th>\n",
       "      <th>Receiver_Location</th>\n",
       "      <th>Cushion</th>\n",
       "      <th>Air_Yds</th>\n",
       "      <th>Air_Dist</th>\n",
       "      <th>Air_Time</th>\n",
       "      <th>TTT</th>\n",
       "      <th>QB_Separation</th>\n",
       "      <th>QBP</th>\n",
       "      <th>Receiver_Dist_From_Sideline</th>\n",
       "      <th>QB_Speed_at_Pass</th>\n",
       "      <th>EZ_Dist</th>\n",
       "    </tr>\n",
       "  </thead>\n",
       "  <tbody>\n",
       "    <tr>\n",
       "      <th>0</th>\n",
       "      <td>SS</td>\n",
       "      <td>3</td>\n",
       "      <td>3</td>\n",
       "      <td>9</td>\n",
       "      <td>Slot</td>\n",
       "      <td>3.66</td>\n",
       "      <td>24.54</td>\n",
       "      <td>33.119846</td>\n",
       "      <td>1.539</td>\n",
       "      <td>2.756</td>\n",
       "      <td>2.084347</td>\n",
       "      <td>0</td>\n",
       "      <td>26.303329</td>\n",
       "      <td>1.145455</td>\n",
       "      <td>37.540001</td>\n",
       "    </tr>\n",
       "    <tr>\n",
       "      <th>1</th>\n",
       "      <td>CB</td>\n",
       "      <td>3</td>\n",
       "      <td>1</td>\n",
       "      <td>10</td>\n",
       "      <td>Wide</td>\n",
       "      <td>2.66</td>\n",
       "      <td>27.23</td>\n",
       "      <td>37.510450</td>\n",
       "      <td>2.202</td>\n",
       "      <td>2.436</td>\n",
       "      <td>1.540033</td>\n",
       "      <td>1</td>\n",
       "      <td>12.303331</td>\n",
       "      <td>3.763636</td>\n",
       "      <td>40.230003</td>\n",
       "    </tr>\n",
       "    <tr>\n",
       "      <th>2</th>\n",
       "      <td>CB</td>\n",
       "      <td>3</td>\n",
       "      <td>2</td>\n",
       "      <td>8</td>\n",
       "      <td>Wide</td>\n",
       "      <td>10.23</td>\n",
       "      <td>42.88</td>\n",
       "      <td>52.871040</td>\n",
       "      <td>2.633</td>\n",
       "      <td>3.135</td>\n",
       "      <td>3.386576</td>\n",
       "      <td>0</td>\n",
       "      <td>17.230000</td>\n",
       "      <td>1.247727</td>\n",
       "      <td>58.880001</td>\n",
       "    </tr>\n",
       "    <tr>\n",
       "      <th>3</th>\n",
       "      <td>CB</td>\n",
       "      <td>3</td>\n",
       "      <td>3</td>\n",
       "      <td>8</td>\n",
       "      <td>Wide</td>\n",
       "      <td>6.74</td>\n",
       "      <td>39.44</td>\n",
       "      <td>49.233444</td>\n",
       "      <td>3.018</td>\n",
       "      <td>2.771</td>\n",
       "      <td>2.814427</td>\n",
       "      <td>0</td>\n",
       "      <td>19.433328</td>\n",
       "      <td>1.329546</td>\n",
       "      <td>56.439999</td>\n",
       "    </tr>\n",
       "    <tr>\n",
       "      <th>4</th>\n",
       "      <td>SS</td>\n",
       "      <td>2</td>\n",
       "      <td>1</td>\n",
       "      <td>10</td>\n",
       "      <td>Wide</td>\n",
       "      <td>3.23</td>\n",
       "      <td>39.06</td>\n",
       "      <td>46.187710</td>\n",
       "      <td>2.636</td>\n",
       "      <td>3.003</td>\n",
       "      <td>1.471224</td>\n",
       "      <td>1</td>\n",
       "      <td>15.103330</td>\n",
       "      <td>3.477273</td>\n",
       "      <td>57.060001</td>\n",
       "    </tr>\n",
       "  </tbody>\n",
       "</table>\n",
       "</div>"
      ],
      "text/plain": [
       "  Nearest_Def_Position  Qtr  Down  To Go Receiver_Location  Cushion  Air_Yds  \\\n",
       "0                   SS    3     3      9              Slot     3.66    24.54   \n",
       "1                   CB    3     1     10              Wide     2.66    27.23   \n",
       "2                   CB    3     2      8              Wide    10.23    42.88   \n",
       "3                   CB    3     3      8              Wide     6.74    39.44   \n",
       "4                   SS    2     1     10              Wide     3.23    39.06   \n",
       "\n",
       "    Air_Dist  Air_Time    TTT  QB_Separation  QBP  \\\n",
       "0  33.119846     1.539  2.756       2.084347    0   \n",
       "1  37.510450     2.202  2.436       1.540033    1   \n",
       "2  52.871040     2.633  3.135       3.386576    0   \n",
       "3  49.233444     3.018  2.771       2.814427    0   \n",
       "4  46.187710     2.636  3.003       1.471224    1   \n",
       "\n",
       "   Receiver_Dist_From_Sideline  QB_Speed_at_Pass    EZ_Dist  \n",
       "0                    26.303329          1.145455  37.540001  \n",
       "1                    12.303331          3.763636  40.230003  \n",
       "2                    17.230000          1.247727  58.880001  \n",
       "3                    19.433328          1.329546  56.439999  \n",
       "4                    15.103330          3.477273  57.060001  "
      ]
     },
     "execution_count": 6,
     "metadata": {},
     "output_type": "execute_result"
    }
   ],
   "source": [
    "IrrelevantCols = ['GameId', 'PlayId', 'Season', 'Wk', 'Cmp', 'Team', 'Receiver', 'Nearest_Defender', 'Opp', 'Wk', 'Cmp', 'Pass Yds','TD', 'INT',\n",
    " 'Comp_Prob', 'Separation', 'Time', 'QB_Scramble_Yds']\n",
    "\n",
    "# Drop all irrelevant columns and output variable (separation)\n",
    "Features = df.drop(IrrelevantCols, axis = 1)\n",
    "\n",
    "#Create 1-dimensional array of output variable (separation)\n",
    "Output = df['Separation']\n",
    "\n",
    "#Output top 5 rows of Features Dataframe\n",
    "cols = len(Features.columns)\n",
    "print('We are left with ' + str(cols) + ' features to help with prediction')\n",
    "Features.head()\n"
   ]
  },
  {
   "cell_type": "markdown",
   "metadata": {},
   "source": [
    "## Target Variable (Separation)\n",
    "\n",
    "Let's take a look at our target variable, Reciever Separation"
   ]
  },
  {
   "cell_type": "code",
   "execution_count": 7,
   "metadata": {},
   "outputs": [
    {
     "name": "stdout",
     "output_type": "stream",
     "text": [
      "\n",
      "\n",
      "The Kurtosis of the distribution of the target variable is 1.7\n",
      "The Skew of the distribution of the target variable is 1.2\n"
     ]
    },
    {
     "data": {
      "text/plain": [
       "count    53710.000000\n",
       "mean         3.244240\n",
       "std          2.435761\n",
       "min          0.020000\n",
       "25%          1.292652\n",
       "50%          2.613341\n",
       "75%          4.589033\n",
       "max         19.226980\n",
       "Name: Separation, dtype: float64"
      ]
     },
     "execution_count": 7,
     "metadata": {},
     "output_type": "execute_result"
    },
    {
     "data": {
      "image/png": "[encoded data removed]",
      "text/plain": [
       "<Figure size 432x288 with 1 Axes>"
      ]
     },
     "metadata": {},
     "output_type": "display_data"
    }
   ],
   "source": [
    "# How Normally Distributed is our Output Variable (Separation)\n",
    "\n",
    "plt.style.use('seaborn-whitegrid')\n",
    "Fig = sns.distplot(df['Separation'])\n",
    "\n",
    "K = round(stats.kurtosis(df['Separation']),1)\n",
    "S = round(stats.skew(df['Separation']), 1)\n",
    "p_value = stats.shapiro(df['Separation'])[1]\n",
    "    \n",
    "print('\\n')\n",
    "print('The Kurtosis of the distribution of the target variable is ' + str(K))\n",
    "print('The Skew of the distribution of the target variable is ' + str(S))\n",
    "\n",
    "df['Separation'].describe()\n"
   ]
  },
  {
   "cell_type": "markdown",
   "metadata": {},
   "source": [
    "As we can see, our data is very skewed to the right, or positively skewed, making the distribution of Separation noticably non-normal (non-gaussian). \n",
    "\n",
    "Based on my understanding of the game of football, the only time we would expect receiver separations to be greater than 10 yards, are in instances where the targeted player is not a current threat to gain yards (passes targeting receivers behind the line of scrimmage) OR mistakes in coverage.\n",
    "\n",
    "We know that linear regression works more effectively when the distribution of output variable normally distributed, so I applied a **Cube Root Transform** to the output variable to see if that helps with the skew and kertosis."
   ]
  },
  {
   "cell_type": "code",
   "execution_count": 8,
   "metadata": {},
   "outputs": [],
   "source": [
    "def get_cube_root(num):\n",
    "    return num ** (1. / 3)"
   ]
  },
  {
   "cell_type": "code",
   "execution_count": 9,
   "metadata": {},
   "outputs": [
    {
     "name": "stdout",
     "output_type": "stream",
     "text": [
      "\n",
      "\n",
      "The Kurtosis of the distribution of the target variable is -0.7\n",
      "The Skew of the distribution of the target variable is 0.2\n"
     ]
    },
    {
     "data": {
      "image/png": "[encoded data removed]",
      "text/plain": [
       "<Figure size 432x288 with 1 Axes>"
      ]
     },
     "metadata": {},
     "output_type": "display_data"
    }
   ],
   "source": [
    "plt.style.use('seaborn-whitegrid')\n",
    "\n",
    "#Apply Log Transform here\n",
    "CubeRootSep = get_cube_root(df['Separation'])\n",
    "\n",
    "Fig = sns.distplot(CubeRootSep)\n",
    "\n",
    "K = round(stats.kurtosis(CubeRootSep),1)\n",
    "S = round(stats.skew(CubeRootSep), 1)\n",
    "p_value = stats.shapiro(CubeRootSep)[1]\n",
    "    \n",
    "print('\\n')\n",
    "print('The Kurtosis of the distribution of the target variable is ' + str(K))\n",
    "print('The Skew of the distribution of the target variable is ' + str(S))\n",
    "\n"
   ]
  },
  {
   "cell_type": "markdown",
   "metadata": {},
   "source": [
    "## Missing Values"
   ]
  },
  {
   "cell_type": "code",
   "execution_count": 10,
   "metadata": {},
   "outputs": [
    {
     "name": "stdout",
     "output_type": "stream",
     "text": [
      "Your selected dataframe has 15 columns.\n",
      "There are 2 columns that have missing values.\n"
     ]
    },
    {
     "data": {
      "text/html": [
       "<div>\n",
       "<style scoped>\n",
       "    .dataframe tbody tr th:only-of-type {\n",
       "        vertical-align: middle;\n",
       "    }\n",
       "\n",
       "    .dataframe tbody tr th {\n",
       "        vertical-align: top;\n",
       "    }\n",
       "\n",
       "    .dataframe thead th {\n",
       "        text-align: right;\n",
       "    }\n",
       "</style>\n",
       "<table border=\"1\" class=\"dataframe\">\n",
       "  <thead>\n",
       "    <tr style=\"text-align: right;\">\n",
       "      <th></th>\n",
       "      <th>Missing Values</th>\n",
       "      <th>% of Total Values</th>\n",
       "    </tr>\n",
       "  </thead>\n",
       "  <tbody>\n",
       "    <tr>\n",
       "      <th>Cushion</th>\n",
       "      <td>14125</td>\n",
       "      <td>26.3</td>\n",
       "    </tr>\n",
       "    <tr>\n",
       "      <th>Receiver_Location</th>\n",
       "      <td>108</td>\n",
       "      <td>0.2</td>\n",
       "    </tr>\n",
       "  </tbody>\n",
       "</table>\n",
       "</div>"
      ],
      "text/plain": [
       "                   Missing Values  % of Total Values\n",
       "Cushion                     14125               26.3\n",
       "Receiver_Location             108                0.2"
      ]
     },
     "execution_count": 10,
     "metadata": {},
     "output_type": "execute_result"
    }
   ],
   "source": [
    "def missing_values_table(df):\n",
    "        mis_val = df.isnull().sum()\n",
    "        mis_val_percent = 100 * df.isnull().sum() / len(df)\n",
    "        mis_val_table = pd.concat([mis_val, mis_val_percent], axis=1)\n",
    "        mis_val_table_ren_columns = mis_val_table.rename(\n",
    "        columns = {0 : 'Missing Values', 1 : '% of Total Values'})\n",
    "        mis_val_table_ren_columns = mis_val_table_ren_columns[\n",
    "            mis_val_table_ren_columns.iloc[:,1] != 0].sort_values(\n",
    "        '% of Total Values', ascending=False).round(1)\n",
    "        print (\"Your selected dataframe has \" + str(df.shape[1]) + \" columns.\\n\"      \n",
    "            \"There are \" + str(mis_val_table_ren_columns.shape[0]) +\n",
    "              \" columns that have missing values.\")\n",
    "        return mis_val_table_ren_columns\n",
    "    \n",
    "missing_values_table(Features)"
   ]
  },
  {
   "cell_type": "markdown",
   "metadata": {},
   "source": [
    "Of the 14125 missing cushion values, how many were from targets from receivers who lined up in the backfield?"
   ]
  },
  {
   "cell_type": "code",
   "execution_count": 11,
   "metadata": {},
   "outputs": [
    {
     "data": {
      "text/plain": [
       "Backfield    9846\n",
       "Slot         2742\n",
       "Tight        1334\n",
       "Wide          114\n",
       "Name: Receiver_Location, dtype: int64"
      ]
     },
     "execution_count": 11,
     "metadata": {},
     "output_type": "execute_result"
    }
   ],
   "source": [
    "Cush = df[df['Cushion'].isna()]\n",
    "Cush['Receiver_Location'].value_counts()"
   ]
  },
  {
   "cell_type": "code",
   "execution_count": 12,
   "metadata": {},
   "outputs": [
    {
     "name": "stdout",
     "output_type": "stream",
     "text": [
      "There were 9846 plays where the player who lined up in the backfield was targeted\n",
      "The average Cushion of a player who lines up in the Backfield is nan\n",
      "The average Separation of a player who lines up in the Backfield is 4.77\n"
     ]
    }
   ],
   "source": [
    "Backfield = df[(df['Receiver_Location'] == 'Backfield')][['Cushion', 'Separation']]\n",
    "print('There were ' + str(len(Backfield)) + ' plays where the player who lined up in the backfield was targeted')\n",
    "print('The average Cushion of a player who lines up in the Backfield is ' + str(Backfield['Cushion'].mean()))\n",
    "print('The average Separation of a player who lines up in the Backfield is ' + str(round(Backfield['Separation'].mean(), 2)))\n"
   ]
  },
  {
   "cell_type": "markdown",
   "metadata": {},
   "source": [
    "Every target to a player that lined up in the *'Backfield'* in this dataset has a **null cushion value**. This makes sense, as they are far from the line of scrimmage, often behind, or to the side of the QB at the time of snap, and roughly 5-10 yards behind the line of scrimmage when the ball is snapped, making it nearly impossible to determine who is covering them, if anyone specific at all. \n",
    "\n",
    "If all of the Backfield targets are missing a cushion value, this means that this type of data is *Missing Not at Random* ([relevant wiki](https://en.wikipedia.org/wiki/Missing_data#Missing_not_at_random)). With data that is missing Not at Random, it is not 'ignorable' since removing all of these rows would drastically change the distribution of Separation values. \n",
    "\n",
    "That being said, the goal of this project is try to predict a players separation as accurately as possible, and if we remove just the backfield targets, we don't necessarily lose any insight in how to predict Separation for non-backfield targets. \n",
    "\n",
    "## Ways to deal with missing Cushion values \n",
    " 1. Impute the missing values\n",
    "     - Replace missing values with a summary statistic (like a mean/median)\n",
    "         - This would introduce a lot bias into the distribution of Cushion in the whole data set (25% would be one number)\n",
    "     - Use something like kNN (K-nearest neighbors) or other ML model to predict Cushion \n",
    "         - 'Backfield' rows have 0 cushion values\n",
    "         - We have to use other Features in the dataset to draw from\n",
    " 2. Remove all rows where the receiver location is 'Backfield' \n",
    "     - This will remove ~10,000 rows, losing data is never ideal, but sometimes necessary \n",
    "     - Predicting non-backfield targets will likely be more accurate after removing these rows\n",
    "     - Remember our goal: creating a way to compare receivers\n",
    "         - Since RBs are the primary receiver out of the backfield, I am not as concerned about their ability to create separation\n",
    "\n",
    "Let's take a look at the distribution of Separations grouped by Receiver Location to see if they are differences:"
   ]
  },
  {
   "cell_type": "code",
   "execution_count": 13,
   "metadata": {},
   "outputs": [
    {
     "data": {
      "text/plain": [
       "<matplotlib.axes._subplots.AxesSubplot at 0x1a3b234240>"
      ]
     },
     "execution_count": 13,
     "metadata": {},
     "output_type": "execute_result"
    },
    {
     "data": {
      "image/png": "[encoded data removed]",
      "text/plain": [
       "<Figure size 1080x360 with 2 Axes>"
      ]
     },
     "metadata": {},
     "output_type": "display_data"
    }
   ],
   "source": [
    "#Look at the distributions of Separation by Pre-Snap Receiver Location\n",
    "\n",
    "fig, (ax1, ax2) = plt.subplots(ncols=2, sharey=True, figsize=(15,5))\n",
    "\n",
    "fig.suptitle('Distributions of Separation by Receiver Location')\n",
    "sns.boxplot(x=\"Receiver_Location\", y=\"Separation\", data=df, ax = ax1)\n",
    "sns.violinplot(x=\"Receiver_Location\", y=\"Separation\", data=df, ax = ax2)"
   ]
  },
  {
   "cell_type": "code",
   "execution_count": 14,
   "metadata": {},
   "outputs": [
    {
     "data": {
      "image/png": "[encoded data removed]",
      "text/plain": [
       "<Figure size 1080x504 with 1 Axes>"
      ]
     },
     "metadata": {},
     "output_type": "display_data"
    }
   ],
   "source": [
    "# List of four recevier locations to plot\n",
    "RecLocations = list(df['Receiver_Location'].unique())\n",
    "\n",
    "fig_dims = (15, 7)\n",
    "fig, ax = plt.subplots(figsize=fig_dims)\n",
    "fig.suptitle('Distributions of Separation by Receiver Location')\n",
    "\n",
    "# Iterate through the four receiver locations\n",
    "for loc in RecLocations:\n",
    "    # Subset to the Receiver location\n",
    "    subset = df[df['Receiver_Location'] == loc]\n",
    "    \n",
    "    # Draw the density plots\n",
    "    sns.distplot(subset['Separation'], ax = ax, hist = False, kde = True,\n",
    "                 kde_kws = {'shade': True, 'linewidth': 3},\n",
    "                 label = loc)\n",
    "    \n"
   ]
  },
  {
   "cell_type": "code",
   "execution_count": 15,
   "metadata": {},
   "outputs": [
    {
     "name": "stdout",
     "output_type": "stream",
     "text": [
      "The mean separation of Backfield targets is 4.8 yards, +/- 2.7 yards\n",
      "The mean separation of NON-Backfield targets is 2.9 yards, +/- 2.2 yards\n"
     ]
    }
   ],
   "source": [
    "print('The mean separation of Backfield targets is ' + str(round(df[df['Receiver_Location'] == 'Backfield']['Separation'].mean(), 1)) + ' yards, +/- ' + str(round(df[df['Receiver_Location'] == 'Backfield']['Separation'].std(), 1))+ ' yards')\n",
    "print('The mean separation of NON-Backfield targets is ' + str(round(df[df['Receiver_Location'] != 'Backfield']['Separation'].mean(), 1)) + ' yards, +/- ' + str(round(df[df['Receiver_Location'] != 'Backfield']['Separation'].std(), 1))+ ' yards')"
   ]
  },
  {
   "cell_type": "markdown",
   "metadata": {},
   "source": [
    "### Backfield Targets\n",
    "\n",
    "As we can see, Backfield targets have a **considerably higher** average separation and a distinctly different distribution from non-Backfield targets.\n",
    "\n",
    "This makes sense, as receivers targeted in the backfield do not have pre-snap cushions, meaning that no one is lined up close to them at the time of snap. Since backfield targets have no one near them at the time of snap, receivers targeted in the backfield are often wide open at the time the pass arrives. This is because the defense either hasn't had enough time to get to the backfield to gaurd the player, or the player does not pose as big of a threat to the defense as the rest of the receivers, so the defense does not guard them as closely. \n",
    "\n",
    "Let's check this to see if our assumptions are correct - \n",
    "\n",
    "*Are targets to receivers in the backfield shorter (less air yards) and therefore warrant more separation?*\n",
    "\n"
   ]
  },
  {
   "cell_type": "code",
   "execution_count": 16,
   "metadata": {
    "scrolled": true
   },
   "outputs": [
    {
     "data": {
      "image/png": "[encoded data removed]",
      "text/plain": [
       "<Figure size 1080x288 with 1 Axes>"
      ]
     },
     "metadata": {},
     "output_type": "display_data"
    }
   ],
   "source": [
    "# List of four recevier locations to plot\n",
    "\n",
    "RecLocations = ['Backfield', 'Non-Backfield']\n",
    "\n",
    "Bkfd = df[df['Receiver_Location'] == 'Backfield']\n",
    "NonBkfd = df[df['Receiver_Location'] != 'Backfield']\n",
    "\n",
    "\n",
    "fig_dims = (15, 4)\n",
    "fig, ax = plt.subplots(figsize=fig_dims)\n",
    "fig.suptitle('Distributions of Targeted Air Yards by Receiver Location')\n",
    "\n",
    "# Iterate through the four receiver locations\n",
    "for loc in RecLocations:\n",
    "    # Subset to the Receiver location\n",
    "    if loc == 'Backfield':\n",
    "        subset = Bkfd\n",
    "    else:\n",
    "        subset = NonBkfd\n",
    "    \n",
    "    # Draw the density plots\n",
    "    \n",
    "    g = sns.distplot(subset['Air_Yds'], ax = ax, hist = False, kde = True,\n",
    "                 kde_kws = {'shade': True, 'linewidth': 3},\n",
    "                 label = loc)"
   ]
  },
  {
   "cell_type": "code",
   "execution_count": 17,
   "metadata": {},
   "outputs": [
    {
     "name": "stdout",
     "output_type": "stream",
     "text": [
      "The average target to a receiver lined up in the Backfield is 0.04 yards downfield\n",
      "The average target to a receiver NOT lined up in the Backfield is 10.06 yards downfield\n"
     ]
    }
   ],
   "source": [
    "print('The average target to a receiver lined up in the Backfield is ' + str(round(df[df['Receiver_Location'] == 'Backfield']['Air_Yds'].mean(), 2)) + ' yards downfield')\n",
    "print('The average target to a receiver NOT lined up in the Backfield is ' + str(round(df[df['Receiver_Location'] != 'Backfield']['Air_Yds'].mean(), 2)) + ' yards downfield')"
   ]
  },
  {
   "cell_type": "markdown",
   "metadata": {},
   "source": [
    "### Dropping all rows for Targets in the Backfield\n",
    "\n",
    "As we thought, backfield targets are markedly different from non-backfield targets, and exist almost exclusively 5 yards behind (or beyond) the line of scrimmage, while non-backfield targets occur downfield far more frequently. \n",
    "\n",
    "\n",
    "Since **all** of the cushion values are missing for targets to recievers who line up in the backfield, and they they usually are not indicative of anything the receiver is inherently doing to create separation, I am choosing to drop all rows targeting receivers who line up in the 'Backfield'"
   ]
  },
  {
   "cell_type": "code",
   "execution_count": 18,
   "metadata": {},
   "outputs": [
    {
     "name": "stdout",
     "output_type": "stream",
     "text": [
      "43864\n",
      "Your selected dataframe has 15 columns.\n",
      "There are 2 columns that have missing values.\n"
     ]
    },
    {
     "data": {
      "text/html": [
       "<div>\n",
       "<style scoped>\n",
       "    .dataframe tbody tr th:only-of-type {\n",
       "        vertical-align: middle;\n",
       "    }\n",
       "\n",
       "    .dataframe tbody tr th {\n",
       "        vertical-align: top;\n",
       "    }\n",
       "\n",
       "    .dataframe thead th {\n",
       "        text-align: right;\n",
       "    }\n",
       "</style>\n",
       "<table border=\"1\" class=\"dataframe\">\n",
       "  <thead>\n",
       "    <tr style=\"text-align: right;\">\n",
       "      <th></th>\n",
       "      <th>Missing Values</th>\n",
       "      <th>% of Total Values</th>\n",
       "    </tr>\n",
       "  </thead>\n",
       "  <tbody>\n",
       "    <tr>\n",
       "      <th>Cushion</th>\n",
       "      <td>4279</td>\n",
       "      <td>9.8</td>\n",
       "    </tr>\n",
       "    <tr>\n",
       "      <th>Receiver_Location</th>\n",
       "      <td>108</td>\n",
       "      <td>0.2</td>\n",
       "    </tr>\n",
       "  </tbody>\n",
       "</table>\n",
       "</div>"
      ],
      "text/plain": [
       "                   Missing Values  % of Total Values\n",
       "Cushion                      4279                9.8\n",
       "Receiver_Location             108                0.2"
      ]
     },
     "execution_count": 18,
     "metadata": {},
     "output_type": "execute_result"
    }
   ],
   "source": [
    "NB_Features = Features[Features['Receiver_Location'] != 'Backfield']\n",
    "print(len(NB_Features))\n",
    "missing_values_table(NB_Features)"
   ]
  },
  {
   "cell_type": "markdown",
   "metadata": {},
   "source": [
    "## Drop all Missing Receiver Location Rows\n",
    "\n",
    "Since the Missing Receiver_Locations represent ~0.2% of our data set, we can comfortably drop those offending rows."
   ]
  },
  {
   "cell_type": "code",
   "execution_count": 19,
   "metadata": {},
   "outputs": [
    {
     "name": "stdout",
     "output_type": "stream",
     "text": [
      "43756\n",
      "Your selected dataframe has 15 columns.\n",
      "There are 1 columns that have missing values.\n"
     ]
    },
    {
     "data": {
      "text/html": [
       "<div>\n",
       "<style scoped>\n",
       "    .dataframe tbody tr th:only-of-type {\n",
       "        vertical-align: middle;\n",
       "    }\n",
       "\n",
       "    .dataframe tbody tr th {\n",
       "        vertical-align: top;\n",
       "    }\n",
       "\n",
       "    .dataframe thead th {\n",
       "        text-align: right;\n",
       "    }\n",
       "</style>\n",
       "<table border=\"1\" class=\"dataframe\">\n",
       "  <thead>\n",
       "    <tr style=\"text-align: right;\">\n",
       "      <th></th>\n",
       "      <th>Missing Values</th>\n",
       "      <th>% of Total Values</th>\n",
       "    </tr>\n",
       "  </thead>\n",
       "  <tbody>\n",
       "    <tr>\n",
       "      <th>Cushion</th>\n",
       "      <td>4190</td>\n",
       "      <td>9.6</td>\n",
       "    </tr>\n",
       "  </tbody>\n",
       "</table>\n",
       "</div>"
      ],
      "text/plain": [
       "         Missing Values  % of Total Values\n",
       "Cushion            4190                9.6"
      ]
     },
     "execution_count": 19,
     "metadata": {},
     "output_type": "execute_result"
    }
   ],
   "source": [
    "NB_Features = NB_Features[NB_Features['Receiver_Location'].notnull()]\n",
    "print(len(NB_Features))\n",
    "missing_values_table(NB_Features)"
   ]
  },
  {
   "cell_type": "markdown",
   "metadata": {},
   "source": [
    "We are left with 4190 misssing cushion values. \n",
    "\n",
    "These missing values, unlike the missing cushion values for 'Backfield' Targets, are *'missing at random'*. There is nothing in the dataset that would indicate that these cushions can be inferred from another feature, so I want to look into a way to impute these values effectively and efficiently. "
   ]
  },
  {
   "cell_type": "code",
   "execution_count": 20,
   "metadata": {},
   "outputs": [
    {
     "data": {
      "image/png": "[encoded data removed]",
      "text/plain": [
       "<Figure size 1080x432 with 1 Axes>"
      ]
     },
     "metadata": {},
     "output_type": "display_data"
    }
   ],
   "source": [
    "# List of two types of data to plot\n",
    "\n",
    "DataTypes = ['Missing', 'Not Missing']\n",
    "\n",
    "df_1 = df[df['Receiver_Location'] != 'Backfield']\n",
    "\n",
    "\n",
    "M = df_1[df_1['Cushion'].isna()]\n",
    "NM = df_1[df_1['Cushion'].notnull()]\n",
    "\n",
    "\n",
    "fig_dims = (15, 6)\n",
    "fig, ax = plt.subplots(figsize=fig_dims)\n",
    "fig.suptitle('Cumulative Distributions of Separation by Missingness of Cushion in Non-Backfield Targets')\n",
    "\n",
    "# Iterate through the four receiver locations\n",
    "for loc in DataTypes:\n",
    "    # Subset to the DataType\n",
    "    if loc == 'Missing':\n",
    "        subset = M\n",
    "    else:\n",
    "        subset = NM\n",
    "    \n",
    "    # Draw the density plots\n",
    "    \n",
    "    g = sns.kdeplot(subset['Separation'], ax = ax,\n",
    "                     cumulative = True,\n",
    "                 label = loc)"
   ]
  },
  {
   "cell_type": "code",
   "execution_count": 21,
   "metadata": {},
   "outputs": [
    {
     "name": "stdout",
     "output_type": "stream",
     "text": [
      "Targets with missing Cushion had an average Separation of 3.72 yards\n",
      "Targets with Cushion had an average Separation of 2.81 yards\n"
     ]
    }
   ],
   "source": [
    "print('Targets with missing Cushion had an average Separation of ' + str(round(M['Separation'].mean(), 2)) + ' yards')\n",
    "print('Targets with Cushion had an average Separation of ' + str(round(NM['Separation'].mean(), 2)) + ' yards')"
   ]
  },
  {
   "cell_type": "markdown",
   "metadata": {},
   "source": [
    "## Test to see if Distributions are statistically different from each other\n",
    "\n",
    "If we find that these two samples sets (rows with/without missing Cushion values) are statistically different, I must come up with a way to impute them that maintains their differences. If they are statistically the same, I can safely remove all offending rows.\n",
    "\n",
    "In order to confirm that these two distributions are statistically different, I run a 2-sample Kolmogorov-Smirnov test [link](https://en.wikipedia.org/wiki/Kolmogorov%E2%80%93Smirnov_test)"
   ]
  },
  {
   "cell_type": "code",
   "execution_count": 22,
   "metadata": {},
   "outputs": [
    {
     "name": "stdout",
     "output_type": "stream",
     "text": [
      "Our p-value for tke K-S test is 4.951603139160891e-73\n",
      "Since our p-value is less than 0.05, we must find a way to deal with these values, we cannot remove them\n"
     ]
    }
   ],
   "source": [
    "from scipy.stats import ks_2samp\n",
    "\n",
    "p_value = ks_2samp(M['Separation'], NM['Separation'])[1]\n",
    "\n",
    "print('Our p-value for tke K-S test is ' + str(p_value))\n",
    "print('Since our p-value is less than 0.05, we must find a way to deal with these values, we cannot remove them')"
   ]
  },
  {
   "cell_type": "markdown",
   "metadata": {},
   "source": [
    "### Methods of Imputation\n",
    "\n",
    "1. Replace all missing Cushion values with a summary statistic (mean/median) of Cushion\n",
    "    - **Pros**: Simple, understandable, and fast\n",
    "    - **Cons**: Since we are replacing ~10% of our data, this will severely bias our distribution and negatively affect our train/validation accuracies\n",
    "2. Single Imputation from Regression (kNN, Neural Networks)\n",
    "    - **Pros**: Introduces less bias than mean/median imputation, is still relatively simple\n",
    "    - **Cons**: Slower, still does not generate entries that accurately reflect the distribution of the underlying data\n",
    "3. Multiple Imputation from Chained Equations (MICE)\n",
    "    - **Pros**: Most accurate, creates multiple imputations and analyzes pool of possible choice to create imputation\n",
    "    - **Cons**: Slowest and less simple than sinlge imputation\n",
    "    \n",
    "    \n",
    "Due to the fact that I am looking to create the most accurate prediction of Separation possible, and am not too concerned with the comprehensability of how the imputed values were calculated, so long as they pass a few sanity checks. So I am choosing **MICE**. "
   ]
  },
  {
   "cell_type": "code",
   "execution_count": 23,
   "metadata": {},
   "outputs": [
    {
     "data": {
      "text/html": [
       "<div>\n",
       "<style scoped>\n",
       "    .dataframe tbody tr th:only-of-type {\n",
       "        vertical-align: middle;\n",
       "    }\n",
       "\n",
       "    .dataframe tbody tr th {\n",
       "        vertical-align: top;\n",
       "    }\n",
       "\n",
       "    .dataframe thead th {\n",
       "        text-align: right;\n",
       "    }\n",
       "</style>\n",
       "<table border=\"1\" class=\"dataframe\">\n",
       "  <thead>\n",
       "    <tr style=\"text-align: right;\">\n",
       "      <th></th>\n",
       "      <th>Qtr</th>\n",
       "      <th>Down</th>\n",
       "      <th>To Go</th>\n",
       "      <th>Cushion</th>\n",
       "      <th>Air_Yds</th>\n",
       "      <th>Air_Dist</th>\n",
       "      <th>Air_Time</th>\n",
       "      <th>TTT</th>\n",
       "      <th>QB_Separation</th>\n",
       "      <th>QBP</th>\n",
       "      <th>...</th>\n",
       "      <th>Nearest_Def_Position_NT</th>\n",
       "      <th>Nearest_Def_Position_OLB</th>\n",
       "      <th>Nearest_Def_Position_S</th>\n",
       "      <th>Nearest_Def_Position_SAF</th>\n",
       "      <th>Nearest_Def_Position_SS</th>\n",
       "      <th>Nearest_Def_Position_TE</th>\n",
       "      <th>Nearest_Def_Position_WR</th>\n",
       "      <th>Receiver_Location_Slot</th>\n",
       "      <th>Receiver_Location_Tight</th>\n",
       "      <th>Receiver_Location_Wide</th>\n",
       "    </tr>\n",
       "  </thead>\n",
       "  <tbody>\n",
       "    <tr>\n",
       "      <th>0</th>\n",
       "      <td>3</td>\n",
       "      <td>3</td>\n",
       "      <td>9</td>\n",
       "      <td>3.66</td>\n",
       "      <td>24.54</td>\n",
       "      <td>33.119846</td>\n",
       "      <td>1.539</td>\n",
       "      <td>2.756</td>\n",
       "      <td>2.084347</td>\n",
       "      <td>0</td>\n",
       "      <td>...</td>\n",
       "      <td>0</td>\n",
       "      <td>0</td>\n",
       "      <td>0</td>\n",
       "      <td>0</td>\n",
       "      <td>1</td>\n",
       "      <td>0</td>\n",
       "      <td>0</td>\n",
       "      <td>1</td>\n",
       "      <td>0</td>\n",
       "      <td>0</td>\n",
       "    </tr>\n",
       "    <tr>\n",
       "      <th>1</th>\n",
       "      <td>3</td>\n",
       "      <td>1</td>\n",
       "      <td>10</td>\n",
       "      <td>2.66</td>\n",
       "      <td>27.23</td>\n",
       "      <td>37.510450</td>\n",
       "      <td>2.202</td>\n",
       "      <td>2.436</td>\n",
       "      <td>1.540033</td>\n",
       "      <td>1</td>\n",
       "      <td>...</td>\n",
       "      <td>0</td>\n",
       "      <td>0</td>\n",
       "      <td>0</td>\n",
       "      <td>0</td>\n",
       "      <td>0</td>\n",
       "      <td>0</td>\n",
       "      <td>0</td>\n",
       "      <td>0</td>\n",
       "      <td>0</td>\n",
       "      <td>1</td>\n",
       "    </tr>\n",
       "    <tr>\n",
       "      <th>2</th>\n",
       "      <td>3</td>\n",
       "      <td>2</td>\n",
       "      <td>8</td>\n",
       "      <td>10.23</td>\n",
       "      <td>42.88</td>\n",
       "      <td>52.871040</td>\n",
       "      <td>2.633</td>\n",
       "      <td>3.135</td>\n",
       "      <td>3.386576</td>\n",
       "      <td>0</td>\n",
       "      <td>...</td>\n",
       "      <td>0</td>\n",
       "      <td>0</td>\n",
       "      <td>0</td>\n",
       "      <td>0</td>\n",
       "      <td>0</td>\n",
       "      <td>0</td>\n",
       "      <td>0</td>\n",
       "      <td>0</td>\n",
       "      <td>0</td>\n",
       "      <td>1</td>\n",
       "    </tr>\n",
       "    <tr>\n",
       "      <th>3</th>\n",
       "      <td>3</td>\n",
       "      <td>3</td>\n",
       "      <td>8</td>\n",
       "      <td>6.74</td>\n",
       "      <td>39.44</td>\n",
       "      <td>49.233444</td>\n",
       "      <td>3.018</td>\n",
       "      <td>2.771</td>\n",
       "      <td>2.814427</td>\n",
       "      <td>0</td>\n",
       "      <td>...</td>\n",
       "      <td>0</td>\n",
       "      <td>0</td>\n",
       "      <td>0</td>\n",
       "      <td>0</td>\n",
       "      <td>0</td>\n",
       "      <td>0</td>\n",
       "      <td>0</td>\n",
       "      <td>0</td>\n",
       "      <td>0</td>\n",
       "      <td>1</td>\n",
       "    </tr>\n",
       "    <tr>\n",
       "      <th>4</th>\n",
       "      <td>2</td>\n",
       "      <td>1</td>\n",
       "      <td>10</td>\n",
       "      <td>3.23</td>\n",
       "      <td>39.06</td>\n",
       "      <td>46.187710</td>\n",
       "      <td>2.636</td>\n",
       "      <td>3.003</td>\n",
       "      <td>1.471224</td>\n",
       "      <td>1</td>\n",
       "      <td>...</td>\n",
       "      <td>0</td>\n",
       "      <td>0</td>\n",
       "      <td>0</td>\n",
       "      <td>0</td>\n",
       "      <td>1</td>\n",
       "      <td>0</td>\n",
       "      <td>0</td>\n",
       "      <td>0</td>\n",
       "      <td>0</td>\n",
       "      <td>1</td>\n",
       "    </tr>\n",
       "  </tbody>\n",
       "</table>\n",
       "<p>5 rows × 33 columns</p>\n",
       "</div>"
      ],
      "text/plain": [
       "   Qtr  Down  To Go  Cushion  Air_Yds   Air_Dist  Air_Time    TTT  \\\n",
       "0    3     3      9     3.66    24.54  33.119846     1.539  2.756   \n",
       "1    3     1     10     2.66    27.23  37.510450     2.202  2.436   \n",
       "2    3     2      8    10.23    42.88  52.871040     2.633  3.135   \n",
       "3    3     3      8     6.74    39.44  49.233444     3.018  2.771   \n",
       "4    2     1     10     3.23    39.06  46.187710     2.636  3.003   \n",
       "\n",
       "   QB_Separation  QBP  ...  Nearest_Def_Position_NT  Nearest_Def_Position_OLB  \\\n",
       "0       2.084347    0  ...                        0                         0   \n",
       "1       1.540033    1  ...                        0                         0   \n",
       "2       3.386576    0  ...                        0                         0   \n",
       "3       2.814427    0  ...                        0                         0   \n",
       "4       1.471224    1  ...                        0                         0   \n",
       "\n",
       "   Nearest_Def_Position_S  Nearest_Def_Position_SAF  Nearest_Def_Position_SS  \\\n",
       "0                       0                         0                        1   \n",
       "1                       0                         0                        0   \n",
       "2                       0                         0                        0   \n",
       "3                       0                         0                        0   \n",
       "4                       0                         0                        1   \n",
       "\n",
       "   Nearest_Def_Position_TE  Nearest_Def_Position_WR  Receiver_Location_Slot  \\\n",
       "0                        0                        0                       1   \n",
       "1                        0                        0                       0   \n",
       "2                        0                        0                       0   \n",
       "3                        0                        0                       0   \n",
       "4                        0                        0                       0   \n",
       "\n",
       "   Receiver_Location_Tight  Receiver_Location_Wide  \n",
       "0                        0                       0  \n",
       "1                        0                       1  \n",
       "2                        0                       1  \n",
       "3                        0                       1  \n",
       "4                        0                       1  \n",
       "\n",
       "[5 rows x 33 columns]"
      ]
     },
     "execution_count": 23,
     "metadata": {},
     "output_type": "execute_result"
    }
   ],
   "source": [
    "# Transform Categorical Features to One-Hot Encoded Binary Variables\n",
    "\n",
    "NB_Features_encoded = pd.get_dummies(NB_Features)\n",
    "\n",
    "NB_Features_encoded.head()\n"
   ]
  },
  {
   "cell_type": "code",
   "execution_count": 30,
   "metadata": {},
   "outputs": [
    {
     "data": {
      "text/plain": [
       "0"
      ]
     },
     "execution_count": 30,
     "metadata": {},
     "output_type": "execute_result"
    }
   ],
   "source": [
    "# explicitly require this experimental feature\n",
    "from sklearn.experimental import enable_iterative_imputer \n",
    "# now you can import normally from sklearn.impute\n",
    "from sklearn.impute import IterativeImputer\n",
    "\n",
    "MICE_imputer = IterativeImputer(initial_strategy=\"median\", max_iter = 1000, random_state = random_state)\n",
    "\n",
    "NB_Features_enc_imp = MICE_imputer.fit_transform(NB_Features_encoded)\n",
    "\n",
    "Cush_Fill = NB_Features_enc_imp[:,3]\n",
    "NB_Features['Cushion'] = Cush_Fill\n",
    "\n",
    "#Check how many null values there are\n",
    "sum(NB_Features['Cushion'].isna())\n"
   ]
  },
  {
   "cell_type": "markdown",
   "metadata": {},
   "source": [
    "## Handling Outliers"
   ]
  },
  {
   "cell_type": "markdown",
   "metadata": {},
   "source": [
    "# Exploratory Data Analysis\n"
   ]
  },
  {
   "cell_type": "code",
   "execution_count": 29,
   "metadata": {},
   "outputs": [
    {
     "data": {
      "text/html": [
       "<div>\n",
       "<style scoped>\n",
       "    .dataframe tbody tr th:only-of-type {\n",
       "        vertical-align: middle;\n",
       "    }\n",
       "\n",
       "    .dataframe tbody tr th {\n",
       "        vertical-align: top;\n",
       "    }\n",
       "\n",
       "    .dataframe thead th {\n",
       "        text-align: right;\n",
       "    }\n",
       "</style>\n",
       "<table border=\"1\" class=\"dataframe\">\n",
       "  <thead>\n",
       "    <tr style=\"text-align: right;\">\n",
       "      <th></th>\n",
       "      <th>Nearest_Def_Position</th>\n",
       "      <th>Qtr</th>\n",
       "      <th>Down</th>\n",
       "      <th>To Go</th>\n",
       "      <th>Receiver_Location</th>\n",
       "      <th>Cushion</th>\n",
       "      <th>Air_Yds</th>\n",
       "      <th>Air_Dist</th>\n",
       "      <th>Air_Time</th>\n",
       "      <th>TTT</th>\n",
       "      <th>QB_Separation</th>\n",
       "      <th>QBP</th>\n",
       "      <th>Receiver_Dist_From_Sideline</th>\n",
       "      <th>QB_Speed_at_Pass</th>\n",
       "      <th>EZ_Dist</th>\n",
       "    </tr>\n",
       "  </thead>\n",
       "  <tbody>\n",
       "    <tr>\n",
       "      <th>0</th>\n",
       "      <td>SS</td>\n",
       "      <td>3</td>\n",
       "      <td>3</td>\n",
       "      <td>9</td>\n",
       "      <td>Slot</td>\n",
       "      <td>3.660000</td>\n",
       "      <td>24.54</td>\n",
       "      <td>33.119846</td>\n",
       "      <td>1.539</td>\n",
       "      <td>2.756</td>\n",
       "      <td>2.084347</td>\n",
       "      <td>0</td>\n",
       "      <td>26.303329</td>\n",
       "      <td>1.145455</td>\n",
       "      <td>37.540001</td>\n",
       "    </tr>\n",
       "    <tr>\n",
       "      <th>1</th>\n",
       "      <td>CB</td>\n",
       "      <td>3</td>\n",
       "      <td>1</td>\n",
       "      <td>10</td>\n",
       "      <td>Wide</td>\n",
       "      <td>2.660000</td>\n",
       "      <td>27.23</td>\n",
       "      <td>37.510450</td>\n",
       "      <td>2.202</td>\n",
       "      <td>2.436</td>\n",
       "      <td>1.540033</td>\n",
       "      <td>1</td>\n",
       "      <td>12.303331</td>\n",
       "      <td>3.763636</td>\n",
       "      <td>40.230003</td>\n",
       "    </tr>\n",
       "    <tr>\n",
       "      <th>2</th>\n",
       "      <td>CB</td>\n",
       "      <td>3</td>\n",
       "      <td>2</td>\n",
       "      <td>8</td>\n",
       "      <td>Wide</td>\n",
       "      <td>10.230000</td>\n",
       "      <td>42.88</td>\n",
       "      <td>52.871040</td>\n",
       "      <td>2.633</td>\n",
       "      <td>3.135</td>\n",
       "      <td>3.386576</td>\n",
       "      <td>0</td>\n",
       "      <td>17.230000</td>\n",
       "      <td>1.247727</td>\n",
       "      <td>58.880001</td>\n",
       "    </tr>\n",
       "    <tr>\n",
       "      <th>3</th>\n",
       "      <td>CB</td>\n",
       "      <td>3</td>\n",
       "      <td>3</td>\n",
       "      <td>8</td>\n",
       "      <td>Wide</td>\n",
       "      <td>6.740000</td>\n",
       "      <td>39.44</td>\n",
       "      <td>49.233444</td>\n",
       "      <td>3.018</td>\n",
       "      <td>2.771</td>\n",
       "      <td>2.814427</td>\n",
       "      <td>0</td>\n",
       "      <td>19.433328</td>\n",
       "      <td>1.329546</td>\n",
       "      <td>56.439999</td>\n",
       "    </tr>\n",
       "    <tr>\n",
       "      <th>4</th>\n",
       "      <td>SS</td>\n",
       "      <td>2</td>\n",
       "      <td>1</td>\n",
       "      <td>10</td>\n",
       "      <td>Wide</td>\n",
       "      <td>3.230000</td>\n",
       "      <td>39.06</td>\n",
       "      <td>46.187710</td>\n",
       "      <td>2.636</td>\n",
       "      <td>3.003</td>\n",
       "      <td>1.471224</td>\n",
       "      <td>1</td>\n",
       "      <td>15.103330</td>\n",
       "      <td>3.477273</td>\n",
       "      <td>57.060001</td>\n",
       "    </tr>\n",
       "    <tr>\n",
       "      <th>...</th>\n",
       "      <td>...</td>\n",
       "      <td>...</td>\n",
       "      <td>...</td>\n",
       "      <td>...</td>\n",
       "      <td>...</td>\n",
       "      <td>...</td>\n",
       "      <td>...</td>\n",
       "      <td>...</td>\n",
       "      <td>...</td>\n",
       "      <td>...</td>\n",
       "      <td>...</td>\n",
       "      <td>...</td>\n",
       "      <td>...</td>\n",
       "      <td>...</td>\n",
       "      <td>...</td>\n",
       "    </tr>\n",
       "    <tr>\n",
       "      <th>53703</th>\n",
       "      <td>SS</td>\n",
       "      <td>3</td>\n",
       "      <td>1</td>\n",
       "      <td>4</td>\n",
       "      <td>Wide</td>\n",
       "      <td>4.720000</td>\n",
       "      <td>-10.21</td>\n",
       "      <td>7.060149</td>\n",
       "      <td>3.713</td>\n",
       "      <td>0.747</td>\n",
       "      <td>3.395777</td>\n",
       "      <td>0</td>\n",
       "      <td>24.313330</td>\n",
       "      <td>2.209091</td>\n",
       "      <td>24.209999</td>\n",
       "    </tr>\n",
       "    <tr>\n",
       "      <th>53704</th>\n",
       "      <td>DT</td>\n",
       "      <td>3</td>\n",
       "      <td>1</td>\n",
       "      <td>10</td>\n",
       "      <td>Wide</td>\n",
       "      <td>7.610000</td>\n",
       "      <td>-5.23</td>\n",
       "      <td>0.940319</td>\n",
       "      <td>0.167</td>\n",
       "      <td>0.968</td>\n",
       "      <td>4.633282</td>\n",
       "      <td>0</td>\n",
       "      <td>23.673330</td>\n",
       "      <td>3.947727</td>\n",
       "      <td>59.770000</td>\n",
       "    </tr>\n",
       "    <tr>\n",
       "      <th>53705</th>\n",
       "      <td>CB</td>\n",
       "      <td>1</td>\n",
       "      <td>1</td>\n",
       "      <td>10</td>\n",
       "      <td>Wide</td>\n",
       "      <td>9.530000</td>\n",
       "      <td>-1.78</td>\n",
       "      <td>16.905342</td>\n",
       "      <td>0.667</td>\n",
       "      <td>1.220</td>\n",
       "      <td>4.577390</td>\n",
       "      <td>0</td>\n",
       "      <td>12.313330</td>\n",
       "      <td>1.615909</td>\n",
       "      <td>32.220001</td>\n",
       "    </tr>\n",
       "    <tr>\n",
       "      <th>53707</th>\n",
       "      <td>LB</td>\n",
       "      <td>3</td>\n",
       "      <td>2</td>\n",
       "      <td>13</td>\n",
       "      <td>Wide</td>\n",
       "      <td>8.330000</td>\n",
       "      <td>-8.10</td>\n",
       "      <td>16.791906</td>\n",
       "      <td>1.535</td>\n",
       "      <td>2.769</td>\n",
       "      <td>5.016981</td>\n",
       "      <td>0</td>\n",
       "      <td>14.310000</td>\n",
       "      <td>4.397728</td>\n",
       "      <td>49.900002</td>\n",
       "    </tr>\n",
       "    <tr>\n",
       "      <th>53709</th>\n",
       "      <td>OLB</td>\n",
       "      <td>4</td>\n",
       "      <td>4</td>\n",
       "      <td>10</td>\n",
       "      <td>Slot</td>\n",
       "      <td>6.615771</td>\n",
       "      <td>0.32</td>\n",
       "      <td>11.701543</td>\n",
       "      <td>0.631</td>\n",
       "      <td>2.002</td>\n",
       "      <td>4.140773</td>\n",
       "      <td>0</td>\n",
       "      <td>20.543329</td>\n",
       "      <td>2.720454</td>\n",
       "      <td>46.320000</td>\n",
       "    </tr>\n",
       "  </tbody>\n",
       "</table>\n",
       "<p>43756 rows × 15 columns</p>\n",
       "</div>"
      ],
      "text/plain": [
       "      Nearest_Def_Position  Qtr  Down  To Go Receiver_Location    Cushion  \\\n",
       "0                       SS    3     3      9              Slot   3.660000   \n",
       "1                       CB    3     1     10              Wide   2.660000   \n",
       "2                       CB    3     2      8              Wide  10.230000   \n",
       "3                       CB    3     3      8              Wide   6.740000   \n",
       "4                       SS    2     1     10              Wide   3.230000   \n",
       "...                    ...  ...   ...    ...               ...        ...   \n",
       "53703                   SS    3     1      4              Wide   4.720000   \n",
       "53704                   DT    3     1     10              Wide   7.610000   \n",
       "53705                   CB    1     1     10              Wide   9.530000   \n",
       "53707                   LB    3     2     13              Wide   8.330000   \n",
       "53709                  OLB    4     4     10              Slot   6.615771   \n",
       "\n",
       "       Air_Yds   Air_Dist  Air_Time    TTT  QB_Separation  QBP  \\\n",
       "0        24.54  33.119846     1.539  2.756       2.084347    0   \n",
       "1        27.23  37.510450     2.202  2.436       1.540033    1   \n",
       "2        42.88  52.871040     2.633  3.135       3.386576    0   \n",
       "3        39.44  49.233444     3.018  2.771       2.814427    0   \n",
       "4        39.06  46.187710     2.636  3.003       1.471224    1   \n",
       "...        ...        ...       ...    ...            ...  ...   \n",
       "53703   -10.21   7.060149     3.713  0.747       3.395777    0   \n",
       "53704    -5.23   0.940319     0.167  0.968       4.633282    0   \n",
       "53705    -1.78  16.905342     0.667  1.220       4.577390    0   \n",
       "53707    -8.10  16.791906     1.535  2.769       5.016981    0   \n",
       "53709     0.32  11.701543     0.631  2.002       4.140773    0   \n",
       "\n",
       "       Receiver_Dist_From_Sideline  QB_Speed_at_Pass    EZ_Dist  \n",
       "0                        26.303329          1.145455  37.540001  \n",
       "1                        12.303331          3.763636  40.230003  \n",
       "2                        17.230000          1.247727  58.880001  \n",
       "3                        19.433328          1.329546  56.439999  \n",
       "4                        15.103330          3.477273  57.060001  \n",
       "...                            ...               ...        ...  \n",
       "53703                    24.313330          2.209091  24.209999  \n",
       "53704                    23.673330          3.947727  59.770000  \n",
       "53705                    12.313330          1.615909  32.220001  \n",
       "53707                    14.310000          4.397728  49.900002  \n",
       "53709                    20.543329          2.720454  46.320000  \n",
       "\n",
       "[43756 rows x 15 columns]"
      ]
     },
     "execution_count": 29,
     "metadata": {},
     "output_type": "execute_result"
    }
   ],
   "source": [
    "NB_Features.dd"
   ]
  },
  {
   "cell_type": "code",
   "execution_count": 119,
   "metadata": {},
   "outputs": [
    {
     "data": {
      "image/png": "[encoded data removed]",
      "text/plain": [
       "<Figure size 432x288 with 1 Axes>"
      ]
     },
     "metadata": {},
     "output_type": "display_data"
    }
   ],
   "source": [
    "ax = sns.violinplot(x=\"To Go\", y=\"Separation\", data=df)"
   ]
  },
  {
   "cell_type": "code",
   "execution_count": 118,
   "metadata": {},
   "outputs": [
    {
     "data": {
      "text/html": [
       "<div>\n",
       "<style scoped>\n",
       "    .dataframe tbody tr th:only-of-type {\n",
       "        vertical-align: middle;\n",
       "    }\n",
       "\n",
       "    .dataframe tbody tr th {\n",
       "        vertical-align: top;\n",
       "    }\n",
       "\n",
       "    .dataframe thead th {\n",
       "        text-align: right;\n",
       "    }\n",
       "</style>\n",
       "<table border=\"1\" class=\"dataframe\">\n",
       "  <thead>\n",
       "    <tr style=\"text-align: right;\">\n",
       "      <th></th>\n",
       "      <th>Down</th>\n",
       "      <th>Separation</th>\n",
       "    </tr>\n",
       "  </thead>\n",
       "  <tbody>\n",
       "    <tr>\n",
       "      <th>0</th>\n",
       "      <td>1</td>\n",
       "      <td>3.43</td>\n",
       "    </tr>\n",
       "    <tr>\n",
       "      <th>1</th>\n",
       "      <td>2</td>\n",
       "      <td>3.30</td>\n",
       "    </tr>\n",
       "    <tr>\n",
       "      <th>2</th>\n",
       "      <td>3</td>\n",
       "      <td>2.96</td>\n",
       "    </tr>\n",
       "    <tr>\n",
       "      <th>3</th>\n",
       "      <td>4</td>\n",
       "      <td>2.52</td>\n",
       "    </tr>\n",
       "  </tbody>\n",
       "</table>\n",
       "</div>"
      ],
      "text/plain": [
       "   Down  Separation\n",
       "0     1        3.43\n",
       "1     2        3.30\n",
       "2     3        2.96\n",
       "3     4        2.52"
      ]
     },
     "execution_count": 118,
     "metadata": {},
     "output_type": "execute_result"
    }
   ],
   "source": [
    "RecLoc_df = df[['Down', 'Separation']]\n",
    "RecLoc_df.head()\n",
    "RecLoc_df.groupby(['Down']).mean().round({'Separation': 2}).sort_values('Separation', ascending = False).reset_index()"
   ]
  },
  {
   "cell_type": "markdown",
   "metadata": {},
   "source": [
    "### "
   ]
  }
 ],
 "metadata": {
  "kernelspec": {
   "display_name": "Python 3",
   "language": "python",
   "name": "python3"
  },
  "language_info": {
   "codemirror_mode": {
    "name": "ipython",
    "version": 3
   },
   "file_extension": ".py",
   "mimetype": "text/x-python",
   "name": "python",
   "nbconvert_exporter": "python",
   "pygments_lexer": "ipython3",
   "version": "3.7.3"
  }
 },
 "nbformat": 4,
 "nbformat_minor": 2
}
